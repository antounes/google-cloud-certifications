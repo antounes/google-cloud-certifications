{
 "cells": [
  {
   "cell_type": "markdown",
   "id": "unusual-press",
   "metadata": {},
   "source": [
    "# MNIST Image Classification with TensorFlow"
   ]
  },
  {
   "cell_type": "markdown",
   "id": "yellow-youth",
   "metadata": {},
   "source": [
    "This notebook demonstrates how to implement a simple linear image model on MNIST data set using `tf.keras`."
   ]
  },
  {
   "cell_type": "code",
   "execution_count": 6,
   "id": "european-indiana",
   "metadata": {},
   "outputs": [
    {
     "name": "stdout",
     "output_type": "stream",
     "text": [
      "2.4.1\n"
     ]
    }
   ],
   "source": [
    "import numpy as np\n",
    "import matplotlib.pyplot as plt\n",
    "import shutil\n",
    "import os\n",
    "import tensorflow.compat.v1 as tf\n",
    "tf.disable_v2_behavior()\n",
    "print(tf.__version__)"
   ]
  },
  {
   "cell_type": "markdown",
   "id": "second-division",
   "metadata": {},
   "source": [
    "## Exploring the data"
   ]
  },
  {
   "cell_type": "code",
   "execution_count": 5,
   "id": "dangerous-burden",
   "metadata": {},
   "outputs": [
    {
     "name": "stdout",
     "output_type": "stream",
     "text": [
      "x_train.shape = (60000, 28, 28)\n",
      "y_train.shape = (60000, 10)\n",
      "x_test.shape = (10000, 28, 28)\n",
      "y_test.shape = (10000, 10)\n"
     ]
    }
   ],
   "source": [
    "HEIGHT = 28\n",
    "WIDTH = 28\n",
    "NCLASSES = 10\n",
    "\n",
    "# Get MNIST data\n",
    "mnist = tf.keras.datasets.mnist\n",
    "\n",
    "(x_train, y_train), (x_test, y_test) = mnist.load_data()\n",
    "\n",
    "# Scale features between 0 and 1\n",
    "x_train, x_test = x_train / 255.0, x_test / 255.0\n",
    "\n",
    "# Convert labels to categorical one-hot encoding\n",
    "y_train = tf.keras.utils.to_categorical(y=y_train, num_classes=NCLASSES)\n",
    "y_test = tf.keras.utils.to_categorical(y=y_test, num_classes=NCLASSES)\n",
    "\n",
    "print(\"x_train.shape = {}\".format(x_train.shape))\n",
    "print(\"y_train.shape = {}\".format(y_train.shape))\n",
    "print(\"x_test.shape = {}\".format(x_test.shape))\n",
    "print(\"y_test.shape = {}\".format(y_test.shape))"
   ]
  },
  {
   "cell_type": "code",
   "execution_count": 7,
   "id": "coated-christopher",
   "metadata": {},
   "outputs": [
    {
     "data": {
      "image/png": "[encoded data removed]",
      "text/plain": [
       "<Figure size 432x288 with 1 Axes>"
      ]
     },
     "metadata": {
      "needs_background": "light"
     },
     "output_type": "display_data"
    }
   ],
   "source": [
    "IMGNO = 12\n",
    "plt.imshow(x_test[IMGNO].reshape(HEIGHT, WIDTH));"
   ]
  },
  {
   "cell_type": "markdown",
   "id": "temporal-opening",
   "metadata": {},
   "source": [
    "## Define the model"
   ]
  },
  {
   "cell_type": "markdown",
   "id": "plastic-tokyo",
   "metadata": {},
   "source": [
    "Let's start with a very simple linear classifier. All our models will have this basic interface $-$ they will take an image and return probabilities."
   ]
  },
  {
   "cell_type": "code",
   "execution_count": 8,
   "id": "optimum-driver",
   "metadata": {},
   "outputs": [],
   "source": [
    "# Build Keras model using Keras Sequential API\n",
    "def linear_model():\n",
    "    model = tf.keras.Sequential()\n",
    "    model.add(tf.keras.layers.InputLayer(input_shape=[HEIGH, WIDTH], name=\"image\"))\n",
    "    model.add(tf.keras.layers.Flatten())\n",
    "    model.add(tf.keras.layers.Dense(units=NCLASSES, activation=tf.nn.softmax, name=\"probabilities\"))\n",
    "    return model"
   ]
  },
  {
   "cell_type": "markdown",
   "id": "utility-victory",
   "metadata": {},
   "source": [
    "## Write input functions"
   ]
  },
  {
   "cell_type": "markdown",
   "id": "italian-geometry",
   "metadata": {},
   "source": [
    "As usual, we need to define input functions for training, test/evaluation, and serving/prediction."
   ]
  },
  {
   "cell_type": "code",
   "execution_count": 9,
   "id": "invisible-class",
   "metadata": {},
   "outputs": [],
   "source": [
    "# Create training input function\n",
    "train_input_fn = tf.estimator.inputs.numpy_input_fn(\n",
    "    x={\"image\": x_train},\n",
    "    y=y_train,\n",
    "    batch_size=100,\n",
    "    num_epochs=None,\n",
    "    shuffle=True,\n",
    "    queue_capacity=5000\n",
    ")\n",
    "\n",
    "# Create evaluation input function\n",
    "eval_input_fn = tf.estimator.inputs.numpy_input_fn(\n",
    "    x={\"image\": x_test},\n",
    "    y=y_test,\n",
    "    batch_size=100,\n",
    "    num_epochs=1,\n",
    "    shuffle=False,\n",
    "    queue_capacity=5000\n",
    ")\n",
    "\n",
    "# Create serving input function for inference\n",
    "def serving_input_fn():\n",
    "    placeholders = {\"image\": tf.placeholder(dtype=tf.float32, shape=[None, HEIGHT, WIDTH])}\n",
    "    features = placeholders # as is\n",
    "    return tf.estimator.export.ServingInputReceiver(features=features, receiver_tensors=placeholders)"
   ]
  },
  {
   "cell_type": "markdown",
   "id": "sporting-jacob",
   "metadata": {},
   "source": [
    "## Create `train_and_evaluate` function"
   ]
  },
  {
   "cell_type": "markdown",
   "id": "advanced-decision",
   "metadata": {},
   "source": [
    "`tf.estimator.train_and_evaluate` carries out the distributed training"
   ]
  },
  {
   "cell_type": "code",
   "execution_count": null,
   "id": "joint-majority",
   "metadata": {},
   "outputs": [],
   "source": [
    "def train_and_evaluate(output_dir, hparams):\n",
    "    # Build Keras model\n",
    "    model = linear_model()\n",
    "    \n",
    "    # Compile Keras model with optimiser, loss function, and eval metrics\n",
    "    model.compile(\n",
    "        optimizer=\"adam\",\n",
    "        loss=\"categorical_crossentropy\",\n",
    "        metrics=[\"accuracy\"])\n",
    "    \n",
    "    # Convert Keras model to a tf.estimator.Estimator()\n",
    "    estimator = tf.keras.estimator.model_to_estimator(\n",
    "        keras_model=model,\n",
    "        model_dir=output_dir)\n",
    "    \n",
    "    # Set estimator's tf.estimator.TrainSpec() to use train_input_fn and train\n",
    "    "
   ]
  }
 ],
 "metadata": {
  "kernelspec": {
   "display_name": "Python 3",
   "language": "python",
   "name": "python3"
  },
  "language_info": {
   "codemirror_mode": {
    "name": "ipython",
    "version": 3
   },
   "file_extension": ".py",
   "mimetype": "text/x-python",
   "name": "python",
   "nbconvert_exporter": "python",
   "pygments_lexer": "ipython3",
   "version": "3.8.5"
  }
 },
 "nbformat": 4,
 "nbformat_minor": 5
}
