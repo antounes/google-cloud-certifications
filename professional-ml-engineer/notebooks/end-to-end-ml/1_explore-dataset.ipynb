{
 "cells": [
  {
   "cell_type": "markdown",
   "id": "funny-trinity",
   "metadata": {},
   "source": [
    "# Exploring natality dataset"
   ]
  },
  {
   "cell_type": "markdown",
   "id": "bored-oasis",
   "metadata": {},
   "source": [
    "This notebook illustrates how to explore a BigQuery dataset using AI Platform Notebooks."
   ]
  },
  {
   "cell_type": "code",
   "execution_count": null,
   "id": "electrical-favorite",
   "metadata": {},
   "outputs": [],
   "source": [
    "!sudo chown -R jupyter:jupyter /home/jupyter/training-data-analyst"
   ]
  },
  {
   "cell_type": "code",
   "execution_count": null,
   "id": "polar-worry",
   "metadata": {},
   "outputs": [],
   "source": [
    "# specify own configuration here\n",
    "BUCKET = \"cloud-training-demos-ml\"\n",
    "PROJECT = \"cloud-training-demos\"\n",
    "REGION = \"us-central1\""
   ]
  },
  {
   "cell_type": "code",
   "execution_count": null,
   "id": "efficient-tradition",
   "metadata": {},
   "outputs": [],
   "source": [
    "import os\n",
    "os.environ[\"BUCKET\"] = BUCKET\n",
    "os.environ[\"PROJECT\"] = PROJECT\n",
    "os.environ[\"REGION\"] = REGION"
   ]
  },
  {
   "cell_type": "code",
   "execution_count": null,
   "id": "median-franchise",
   "metadata": {},
   "outputs": [],
   "source": [
    "%%bash\n",
    "if ! gsutil ls | grep -q gs://${BUCKET}/; then\n",
    "  gsutil mb -l ${REGION} gs://${BUCKET}\n",
    "fi"
   ]
  },
  {
   "cell_type": "markdown",
   "id": "governing-killing",
   "metadata": {},
   "source": [
    "## Explore data"
   ]
  },
  {
   "cell_type": "markdown",
   "id": "similar-karen",
   "metadata": {},
   "source": [
    "The data is natality data (record of births in the US). My goal is to predict the baby's weight given a number of factors about the pregnancy and the baby's mother. Later, we will want to split the data into training and eval datasets. The hahs of the year-month will be used for that $-$ this way, twins born on the same day won't end up in different cuts of the data."
   ]
  },
  {
   "cell_type": "code",
   "execution_count": null,
   "id": "extended-buffalo",
   "metadata": {},
   "outputs": [],
   "source": [
    "# Create SQL query using natality data after the year 2000\n",
    "query = \"\"\"\n",
    "SELECT\n",
    "  weight_pounds,\n",
    "  is_male,\n",
    "  mother_age,\n",
    "  plurality,\n",
    "  gestation_weeks,\n",
    "  FARM_FINGERPRINT(CONCAT(CAST(YEAR AS STRING), CAST(month AS STRING))) AS hashmonth\n",
    "FROM\n",
    "  publicdata.samples.natality\n",
    "WHERE year > 2000\n",
    "\"\"\""
   ]
  },
  {
   "cell_type": "code",
   "execution_count": null,
   "id": "universal-henry",
   "metadata": {},
   "outputs": [],
   "source": [
    "# Call BigQuery and examine in dataframe\n",
    "from google.cloud import bigquery\n",
    "df = bigquery.Client().query(query + \" LIMIT 100\").to_dataframe()\n",
    "df.head()"
   ]
  },
  {
   "cell_type": "markdown",
   "id": "durable-brighton",
   "metadata": {},
   "source": [
    "Let's write a query to find the unique values for each of the columns and the count of those values. This is important to ensure that we have enough examples of each data value, and to verify our hunch that the parameter has predictive value."
   ]
  },
  {
   "cell_type": "code",
   "execution_count": null,
   "id": "senior-contrast",
   "metadata": {},
   "outputs": [],
   "source": [
    "# Create function that finds the number of records and the average weight for each value of the chosen column\n",
    "def get_distinct_values(column_name):\n",
    "    sql = \"\"\"\n",
    "SELECT\n",
    "  {0},\n",
    "  COUNT(1) AS num_babies,\n",
    "  AVG(weight_pounds) AS avg_wt\n",
    "FROM\n",
    "  publicdata.samples.natality\n",
    "WHERE\n",
    "  YEAR > 2000\n",
    "GROUP BY\n",
    "  {0}\n",
    "    \"\"\".format(column_name)\n",
    "    return bigquery.Client().query(sql).to_dataframe()"
   ]
  },
  {
   "cell_type": "code",
   "execution_count": null,
   "id": "flexible-pioneer",
   "metadata": {},
   "outputs": [],
   "source": [
    "# Bar plots to see is_male with avg_wt linear and num_babies logarithmic\n",
    "df = get_distinct_values(\"is_male\")\n",
    "df.plot(x=\"is_male\", y=\"num_babies\", kind=\"bar\");\n",
    "df.plot(x=\"is_male\", y=\"avg_wt\", kind=\"bar\");"
   ]
  },
  {
   "cell_type": "code",
   "execution_count": null,
   "id": "changing-circle",
   "metadata": {},
   "outputs": [],
   "source": [
    "# Line plots to see mother_age with avg_wt linear and num_babies logarithmic\n",
    "df = get_distinct_values(\"mother_age\")\n",
    "df = df.sort_values(\"mother_age\")\n",
    "df.plot(x=\"mother_age\", y=\"num_babies\");\n",
    "df.plot(x=\"mother_age\", y=\"avg_wt\");"
   ]
  },
  {
   "cell_type": "code",
   "execution_count": null,
   "id": "renewable-affiliate",
   "metadata": {},
   "outputs": [],
   "source": [
    "# Bar plot to see plurality (singleton, twins, etc.) with avg_wt linear and num_babies logarithmic\n",
    "df = get_distinct_values(\"plurality\")\n",
    "df = df.sort_values(\"plurality\")\n",
    "df.plot(x=\"plurality\", y=\"num_babies\", logy=True, kind=\"bar\");\n",
    "df.plot(x=\"plurality\", y=\"avt_wt\", kind=\"bar\");"
   ]
  },
  {
   "cell_type": "code",
   "execution_count": null,
   "id": "worse-savannah",
   "metadata": {},
   "outputs": [],
   "source": [
    "# Bar plot to see gestation_weeks with avg_wt linear and num_babies logarithmic\n",
    "df = get_distinct_values(\"gestation_weeks\")\n",
    "df = df.sort_values(\"gestation_weeks\")\n",
    "df.plot(x=\"gestation_weeks\", y=\"num_babies\", logy=True, kind=\"bar\");\n",
    "df.plot(x=\"gestation_weeks\", y=\"avg_wt\", kind=\"bar\");"
   ]
  },
  {
   "cell_type": "markdown",
   "id": "suspected-improvement",
   "metadata": {},
   "source": [
    "All these factors seem to play a part in the baby's weight. Male babies are heavier on average than female babies. Teenaged and older moms tend to have lower-weight babies. Twins, triplets, etc. are lower weight and single births. Preemies "
   ]
  }
 ],
 "metadata": {
  "kernelspec": {
   "display_name": "Python 3",
   "language": "python",
   "name": "python3"
  },
  "language_info": {
   "codemirror_mode": {
    "name": "ipython",
    "version": 3
   },
   "file_extension": ".py",
   "mimetype": "text/x-python",
   "name": "python",
   "nbconvert_exporter": "python",
   "pygments_lexer": "ipython3",
   "version": "3.8.5"
  }
 },
 "nbformat": 4,
 "nbformat_minor": 5
}
