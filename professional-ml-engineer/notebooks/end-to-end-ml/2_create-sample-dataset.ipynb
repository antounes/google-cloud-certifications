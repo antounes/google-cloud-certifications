{
 "cells": [
  {
   "cell_type": "markdown",
   "id": "imported-worse",
   "metadata": {},
   "source": [
    "# Creating a Sampled Dataset"
   ]
  },
  {
   "cell_type": "markdown",
   "id": "spread-contributor",
   "metadata": {},
   "source": [
    "**Learning objectives**"
   ]
  },
  {
   "cell_type": "markdown",
   "id": "biological-strike",
   "metadata": {},
   "source": [
    "1. Setup the environment\n",
    "2. Sample the natality dataset to create train, eval, test sets\n",
    "3. Preprocess the data in Pandas dataframe"
   ]
  },
  {
   "cell_type": "markdown",
   "id": "corrected-vessel",
   "metadata": {},
   "source": [
    "## Introduction"
   ]
  },
  {
   "cell_type": "markdown",
   "id": "challenging-botswana",
   "metadata": {},
   "source": [
    "In this notebook, we'll read data from BigQuery into our notebook to preprocess the data within a Pandas dataframe for a small, repeatable sample.\n",
    "\n",
    "We will set up the environment, sample the natality dataset to create train, eval, test splits, and preprocess the data in a Pandas dataframe."
   ]
  },
  {
   "cell_type": "markdown",
   "id": "vocal-lighter",
   "metadata": {},
   "source": [
    "## Set up environment variables and load necessary libraries"
   ]
  },
  {
   "cell_type": "code",
   "execution_count": null,
   "id": "related-eligibility",
   "metadata": {},
   "outputs": [],
   "source": [
    "!sudo chown -R jupyter:jupyter /home/jupyter/training-data-analyst"
   ]
  },
  {
   "cell_type": "code",
   "execution_count": null,
   "id": "decent-cornell",
   "metadata": {},
   "outputs": [],
   "source": [
    "!pip install --user google-cloud-bigquery==1.25.0"
   ]
  },
  {
   "cell_type": "code",
   "execution_count": null,
   "id": "hired-omaha",
   "metadata": {},
   "outputs": [],
   "source": [
    "from google.cloud import bigquery\n",
    "import pandas as pd"
   ]
  },
  {
   "cell_type": "markdown",
   "id": "effective-prince",
   "metadata": {},
   "source": [
    "Set environment variables so that we can use them throughout the notebook."
   ]
  },
  {
   "cell_type": "code",
   "execution_count": null,
   "id": "sixth-republican",
   "metadata": {},
   "outputs": [],
   "source": [
    "%%bash\n",
    "export PROJECT=$(gcloud config list project --format \"value(core.project)\")\n",
    "echo \"Your current GCP Project Name is: \"$PROJECT"
   ]
  },
  {
   "cell_type": "code",
   "execution_count": null,
   "id": "graduate-contest",
   "metadata": {},
   "outputs": [],
   "source": [
    "PROJECT = \"cloud-training-demos\" # Replace with your Project ID"
   ]
  },
  {
   "cell_type": "markdown",
   "id": "wicked-heather",
   "metadata": {},
   "source": [
    "## Create ML datasets by sampling using BigQuery"
   ]
  },
  {
   "cell_type": "markdown",
   "id": "decreased-ghost",
   "metadata": {},
   "source": [
    "We'll begin by sampling the BigQuery data to create smaller datasets. Let's create a BigQuery client that we'll use throughout the lab."
   ]
  },
  {
   "cell_type": "code",
   "execution_count": null,
   "id": "broad-subcommittee",
   "metadata": {},
   "outputs": [],
   "source": [
    "bq = biquery.Client(project=PROJECT)"
   ]
  },
  {
   "cell_type": "markdown",
   "id": "toxic-probe",
   "metadata": {},
   "source": [
    "We need to figure out the right way to divide our hash values to get our desired splits. To do that we need to define some values to hash within the module. Feel free to play around with these values to find the perfect combination."
   ]
  },
  {
   "cell_type": "code",
   "execution_count": null,
   "id": "rolled-textbook",
   "metadata": {},
   "outputs": [],
   "source": [
    "modulo_divisor = 100\n",
    "train_percent = 80.0\n",
    "eval_percent = 10.0\n",
    "\n",
    "train_buckets = int(modulo_divisor*train_percent/100.0)\n",
    "eval_buckets = int(modulo_divisor*eval_percent/100.0)"
   ]
  },
  {
   "cell_type": "markdown",
   "id": "judicial-hearts",
   "metadata": {},
   "source": [
    "We can make a series of queries to check if our bucketing values result in the correct sizes of each of our dataset splits and then adjust accordingly. Therefore, to make our code more compact and reusable, let's define a function to return the head of a dataframe produced from our queries up to a certain number of rows."
   ]
  },
  {
   "cell_type": "code",
   "execution_count": null,
   "id": "spiritual-emperor",
   "metadata": {},
   "outputs": [],
   "source": [
    "def display_dataframe_head_from_query(query, count=10):\n",
    "    \"\"\"Displays count rows from dataframe head from query.\n",
    "    Args:\n",
    "        query: str, query to be run on BigQuery, results stored in dataframe.\n",
    "        count: int, number of results from head of dataframe to display.\n",
    "    Returns:\n",
    "        Dataframe head with count number of results.\n",
    "    \"\"\"\n",
    "    df = bq.query(\n",
    "        query + \" LIMIT {limit}\".format(limit=count)).to_dataframe()\n",
    "    \n",
    "    return df.head(count)"
   ]
  },
  {
   "cell_type": "markdown",
   "id": "norman-projector",
   "metadata": {},
   "source": [
    "For our first query, we're going to use the original query above to get our label, features and columns to combine into our hash which we will use to perform our repeatable splitting. There are only a limited number of years, months, days, and states in the dataset. Let's see what the hash values are. We will need to include all of these extra columns to hash on to get a fairly uniform spread of the data. Feel free to try less or more in the hash and see how it changes your results."
   ]
  },
  {
   "cell_type": "code",
   "execution_count": null,
   "id": "disturbed-struggle",
   "metadata": {},
   "outputs": [],
   "source": [
    "# Get label, features, and columns to hash and split into buckets\n",
    "hash_cols_fixed_query = \"\"\"\n",
    "SELECT\n",
    "    weight_pounds,\n",
    "    is_male,\n",
    "    mother_age,\n",
    "    plurality,\n",
    "    gestation_weeks,\n",
    "    year,\n",
    "    month,\n",
    "    CASE\n",
    "        WHEN day IS NULL THEN \n",
    "            CASE\n",
    "                WHEN wday IS NULL THEN 0\n",
    "                ELSE wday\n",
    "            END\n",
    "        ELSE day\n",
    "    END AS date,\n",
    "    IFNULL(state, \"Unknown\") AS state,\n",
    "    IFNULL(mother_birth_state, \"Unknown\") AS mother_birth_state\n",
    "FROM\n",
    "    publicdata.samples.natality\n",
    "WHERE\n",
    "    year > 2000\n",
    "    AND weight_pounds > 0\n",
    "    AND mother_age > 0\n",
    "    AND plurality > 0\n",
    "    AND gestation_weeks > 0\n",
    "\"\"\"\n",
    "\n",
    "display_dataframe_head_from_query(hash_cols_fixed_query)"
   ]
  },
  {
   "cell_type": "markdown",
   "id": "cosmetic-champion",
   "metadata": {},
   "source": [
    "Using `COALESCE` would provide the same result as the nested `CASE WHEN`. This is preferable when all we want is the first non-null instance. To be precise the `CASE WHEN` would become `COALESCE(wday, day, 0) AS date`."
   ]
  },
  {
   "cell_type": "markdown",
   "id": "realistic-montreal",
   "metadata": {},
   "source": [
    "Next query will combine our hash columns and will leave us with just our label, features, and our hash values."
   ]
  },
  {
   "cell_type": "code",
   "execution_count": null,
   "id": "round-feature",
   "metadata": {},
   "outputs": [],
   "source": [
    "data_query = \"\"\"\n",
    "SELECT\n",
    "    weight_pounds,\n",
    "    is_male,\n",
    "    mother_age,\n",
    "    plurality,\n",
    "    gestation_weeks,\n",
    "    FARM_FINGERPRINT(\n",
    "        CONCAT(\n",
    "            CAST(year AS STRING),\n",
    "            CAST(month AS STRING),\n",
    "            CAST(date AS STRING),\n",
    "            CAST(state AS STRING),\n",
    "            CAST(mother_birth_state AS STRING)\n",
    "        )\n",
    "    ) AS hash_values\n",
    "FROM\n",
    "    ({CTE_hash_cols_fixed})\n",
    "\"\"\".format(CTE_hash_cols_fixed=hash_cols_fixed_query)\n",
    "\n",
    "display_dataframe_head_from_query(data_query)"
   ]
  },
  {
   "cell_type": "markdown",
   "id": "fourth-header",
   "metadata": {},
   "source": [
    "The next query is going to find the counts of each of the unique 657484 `hash_values`. This will be our first step at making actual hash buckets for our split via the `GROUP BY`."
   ]
  },
  {
   "cell_type": "code",
   "execution_count": null,
   "id": "defensive-detective",
   "metadata": {},
   "outputs": [],
   "source": [
    "# Get the counts of each of the unique hash of our splitting column\n",
    "first_bucketing_query = \"\"\"\n",
    "SELECT\n",
    "    hash_values,\n",
    "    COUNT(*) AS num_records\n",
    "FROM\n",
    "    ({CTE_data})\n",
    "GROUP BY\n",
    "    hash_values\n",
    "\"\"\".format(CTE_data=data_query)\n",
    "\n",
    "display_dataframe_head_from_query(first_bucketing_query)"
   ]
  },
  {
   "cell_type": "markdown",
   "id": "original-football",
   "metadata": {},
   "source": [
    "The query below performs a second layer of bucketing where now for each of these bucket indices we count the number of records."
   ]
  },
  {
   "cell_type": "code",
   "execution_count": null,
   "id": "chemical-original",
   "metadata": {},
   "outputs": [],
   "source": [
    "# Get the number of records in each of the hash buckets\n",
    "second_bucketing_query = \"\"\"\n",
    "SELECT\n",
    "    ABS(MOD(hash_values, {modulo_divisor})) AS bucket_index,\n",
    "    SUM(num_records) AS num_records\n",
    "FROM\n",
    "    ({CTE_first_bucketing})\n",
    "GROUP BY\n",
    "    ABS(MOD(hash_values, {modulo_divisor}))\n",
    "\"\"\".format(\n",
    "    CTE_first_bucketing=first_bucketing_query, modulo_divisor=modulo_divisor)\n",
    "\n",
    "display_dataframe_head_from_query(second_bucketing_query)"
   ]
  },
  {
   "cell_type": "markdown",
   "id": "suspended-crest",
   "metadata": {},
   "source": [
    "The number of records is hard for us to easily understand the split, so we will normalise the count into percentage of the data in each of the hash buckets in the next query."
   ]
  },
  {
   "cell_type": "code",
   "execution_count": null,
   "id": "affecting-walter",
   "metadata": {},
   "outputs": [],
   "source": [
    "# Calculate the overall percentages\n",
    "percentages_query = \"\"\"\n",
    "SELECT\n",
    "    bucket_index,\n",
    "    num_records,\n",
    "    CAST(num_records AS FLOAT64) / (\n",
    "    SELECT\n",
    "        SUM(num_records)\n",
    "    FROM\n",
    "        ({CTE_second_bucketing})) AS percent_records\n",
    "FROM\n",
    "    ({CTE_second_bucketing})\n",
    "\"\"\".format(CTE_second_bucketing=second_bucketing_query)\n",
    "\n",
    "display_dataframe_head_from_query(percentages_query)"
   ]
  },
  {
   "cell_type": "markdown",
   "id": "sunrise-values",
   "metadata": {},
   "source": [
    "We'll do the same by selecting the range of buckets to be used for evaluation."
   ]
  },
  {
   "cell_type": "code",
   "execution_count": null,
   "id": "smart-pakistan",
   "metadata": {},
   "outputs": [],
   "source": [
    "# Choose hash buckets for validation and pull in their statistics\n",
    "eval_query = \"\"\"\n",
    "SELECT\n",
    "    *,\n",
    "    \"eval\" AS dataset_name\n",
    "FROM\n",
    "    ({CTE_percentages})\n",
    "WHERE\n",
    "    bucket_index >= {train_buckets}\n",
    "    AND bucket_index < {cum_eval_buckets}\n",
    "\"\"\".format(\n",
    "    CTE_percentages=percentages_query,\n",
    "    train_buckets=train_buckets,\n",
    "    cum_eval_buckets=train_buckets+eval_buckets)\n",
    "\n",
    "display_dataframe_head_from_query(eval_query)"
   ]
  },
  {
   "cell_type": "markdown",
   "id": "patient-winning",
   "metadata": {},
   "source": [
    "Lastly, we'll select the hash buckets to be used for the test split."
   ]
  },
  {
   "cell_type": "code",
   "execution_count": null,
   "id": "received-given",
   "metadata": {},
   "outputs": [],
   "source": [
    "# Choose the hash buckets for testing and pull in their statistics\n",
    "test_query = \"\"\"\n",
    "SELECT\n",
    "    *,\n",
    "    \"test\" AS dataset_name\n",
    "FROM\n",
    "    ({CTE_percentages})\n",
    "WHERE\n",
    "    bucket_index >= {cum_eval_buckets}\n",
    "    AND bucket_index < {modulo_divisor}\n",
    "\"\"\".format(\n",
    "    CTE_percentages=percentages_query,\n",
    "    cum_eval_buckets=train_buckets+eval_buckets,\n",
    "    modulo_divisor=modulo_divisor)\n",
    "\n",
    "display_dataframe_head_from_query(test_query)"
   ]
  },
  {
   "cell_type": "markdown",
   "id": "right-sydney",
   "metadata": {},
   "source": [
    "In the below query, we'll `UNION ALL` all of the datasets together so that all three sets of hash buckets will be within one table. We added `dataset_id` so that we can sort on it in the query after."
   ]
  },
  {
   "cell_type": "code",
   "execution_count": null,
   "id": "young-fiction",
   "metadata": {},
   "outputs": [],
   "source": [
    "# Union the training, validation and testing dataset statistics\n",
    "union_query = \"\"\"\n",
    "SELECT\n",
    "    0 AS dataset_id,\n",
    "    *\n",
    "FROM\n",
    "    ({CTE_train})\n",
    "UNION_ALL\n",
    "SELECT\n",
    "    1 AS dataset_id,\n",
    "    *\n",
    "FROM\n",
    "    ({CTE_eval})\n",
    "UNION_ALL\n",
    "    2 AS dataset_id,\n",
    "    *\n",
    "FROM\n",
    "    ({CTE_test})\n",
    "\"\"\".format(CTE_train=train_query, CTE_eval=eval_query, CTE_test=test_query)\n",
    "\n",
    "display_dataframe_head_from_query(union_query)"
   ]
  },
  {
   "cell_type": "markdown",
   "id": "little-council",
   "metadata": {},
   "source": [
    "Laslty, we'll show the final split between train, eval and test sets. We can see both the number of records and percent of the total data. It is really close to what we were hoping to get."
   ]
  },
  {
   "cell_type": "code",
   "execution_count": null,
   "id": "breeding-powell",
   "metadata": {},
   "outputs": [],
   "source": [
    "# Show final splitting and associated statistics\n",
    "split_query = \"\"\"\n",
    "SELECT\n",
    "    dataset_id,\n",
    "    dataset_name,\n",
    "    SUM(num_records) AS num_records,\n",
    "    SUM(percent_records) AS percent_records\n",
    "FROM\n",
    "    ({CTE_union})\n",
    "GROUP BY\n",
    "    dataset_id,\n",
    "    dataset_name\n",
    "ORDER BY\n",
    "    dataset_id\n",
    "\"\"\".format(CTE_union=union_query)\n",
    "\n",
    "display_dataframe_head_from_query(split_query)"
   ]
  },
  {
   "cell_type": "markdown",
   "id": "arabic-console",
   "metadata": {},
   "source": [
    "Now that we know that our splitting values produce a good global splitting on our data, here's a way to get a well-distributed portion of the data in such a way that the train, eval, test sets do not overlap and takes a subsample of our global splits."
   ]
  },
  {
   "cell_type": "code",
   "execution_count": null,
   "id": "lightweight-tanzania",
   "metadata": {},
   "outputs": [],
   "source": [
    "# every_n allows us to subsample from each of the hash values\n",
    "# This helps us get approximately the record counts we want\n",
    "every_n = 1000\n",
    "\n",
    "splitting_string = \"ABS(MOD(hash_values, {0} * {1}))\".format(every_n, modulo_divisor)\n",
    "\n",
    "def create_data_split_sample_df(query_string, splitting_string, lo, up):\n",
    "    \"\"\"Creates a dataframe with a sample of a data split.\n",
    "    \n",
    "    Args:\n",
    "        query_string: str, query to run to generate splits\n",
    "        splitting_string: str, modulo string to split by\n",
    "        lo: float, lower bound for bucket filtering for split\n",
    "        up: float, upper bound for bucket filtering for split\n",
    "    Returns:\n",
    "        Dataframe containing data split sample\n",
    "    \"\"\"\n",
    "    query = \"SELECT * FROM ({0}) WHERE {1} >= {2} AND {1} < {3}\".format(\n",
    "        query_string, splitting_string, int(lo), int(up))\n",
    "    \n",
    "    df = bq.query(query).to_dataframe()\n",
    "    \n",
    "    return df\n",
    "\n",
    "train_df = create_data_split_sample_df(\n",
    "    data_query, splitting_string,\n",
    "    lo=train_percent+eval_percent, up=modulo_divisor)\n",
    "\n",
    "eval_df = create_data_split_sample_df(\n",
    "    data_query, splitting_string,\n",
    "    lo=train_percent, up=train_percent+eval_percent)\n",
    "\n",
    "test_df = create_data_split_sample_df(\n",
    "    data_query, splitting_string,\n",
    "    lo=train_percent+eval_percent, up=modulo_divisor)\n",
    "\n",
    "print(\"There are {} examples in the train dataset.\".format(len(train_df)))\n",
    "print(\"There are {} examples in the validation dataset.\".format(len(eval_df)))\n",
    "print(\"There are {} examples in the test dataset.\".format(len(test_df)))"
   ]
  },
  {
   "cell_type": "markdown",
   "id": "passive-interest",
   "metadata": {},
   "source": [
    "## Preprocess data using Pandas"
   ]
  },
  {
   "cell_type": "markdown",
   "id": "loving-circuit",
   "metadata": {},
   "source": [
    "We'll perform a few processing steps to the data in our dataset. Let's add extra rows to simulate the lack of ultrasound. That is we'll duplicate some rows and make the `is_male` field to be `Unknown`. Also, if there is more that one child we'll change the `plurality` to `Multiple(2+)`. While we're at it, we'll also change the plurality column to be a string. We'll perform these operations below."
   ]
  },
  {
   "cell_type": "markdown",
   "id": "stuck-breeding",
   "metadata": {},
   "source": [
    "Let's start by examining the training dataset as is."
   ]
  },
  {
   "cell_type": "code",
   "execution_count": null,
   "id": "refined-vancouver",
   "metadata": {},
   "outputs": [],
   "source": [
    "train_df.head()"
   ]
  },
  {
   "cell_type": "markdown",
   "id": "heard-league",
   "metadata": {},
   "source": [
    "Also, notice that there are some very important numeric fields that are missing in some rows (the count in Pandas doesn't count missing data)."
   ]
  },
  {
   "cell_type": "code",
   "execution_count": null,
   "id": "concerned-bandwidth",
   "metadata": {},
   "outputs": [],
   "source": [
    "train_df.describe()"
   ]
  },
  {
   "cell_type": "markdown",
   "id": "golden-tribune",
   "metadata": {},
   "source": [
    "It's always crucial to clean raw data before using it in ML, so we have a preprocessing step. We'll define a `preprocess` function below. Note that the mother's age is an input to our model so users will have to provide the mother's age; otherwise, our service won't work. The features we use for our model were chosen because they are such good predictors and because they are easy enough to collect."
   ]
  },
  {
   "cell_type": "code",
   "execution_count": null,
   "id": "positive-syracuse",
   "metadata": {},
   "outputs": [],
   "source": [
    "def preprocess(df):\n",
    "    \"\"\"Preprocess Pandas dataframe for augmented babyweight data.\n",
    "    \n",
    "    Args:\n",
    "        df: Dataframe containing raw babyweight data.\n",
    "    Returns:\n",
    "        Pandas dataframe containing preprocessed raw babyweight data as well\n",
    "        as simulated no ultrasound data masking some of the original data.\n",
    "    \"\"\"\n",
    "    # Clean up raw data\n",
    "    # Filter out what we don't want to use for training\n",
    "    df = df[df[\"weight_pounds\"]>0]\n",
    "    df = df[df[\"mother_age\"]>0]\n",
    "    df = df[df[\"gestation_weeks\"]>0]\n",
    "    df = df[df[\"plurality\"]>0]\n",
    "    \n",
    "    # Modify plurality field to be a string\n",
    "    twins_etc = dict(zip([1, 2, 3, 4, 5],\n",
    "                         [\"Single(1)\",\n",
    "                          \"Twins(2)\",\n",
    "                          \"Triplets(3)\",\n",
    "                          \"Quadruplets(4)\",\n",
    "                          \"Quintuplets(5)\"]))\n",
    "    df[\"plurality\"].replace(twins_etc, inplace=True)\n",
    "    \n",
    "    # Clone data and mask certain columns to simulate lack of ultrasound\n",
    "    no_ultrasound = df.copy(deep=True)\n",
    "    \n",
    "    # Modify is_male\n",
    "    no_ultrasound[\"is_male\"] = \"Unknown\"\n",
    "    \n",
    "    # Modify plurality using a condition mask\n",
    "    condition = no_ultrasound[\"plurality\"] != \"Single(1)\"\n",
    "    no_ultrasound.loc[condition, \"plurality\"] = \"Multiple(2+)\"\n",
    "    \n",
    "    # Concatenate both datasets together and shuffle\n",
    "    return pd.concat(\n",
    "        [df, no_ultrasound]).sample(frac=1).reset_index(drop=True)"
   ]
  },
  {
   "cell_type": "markdown",
   "id": "smaller-bradford",
   "metadata": {},
   "source": [
    "Let's process the train, eval, test set and see a small sample of the training data after our preprocessing"
   ]
  },
  {
   "cell_type": "code",
   "execution_count": null,
   "id": "angry-camping",
   "metadata": {},
   "outputs": [],
   "source": [
    "train_df = preprocess(train_df)\n",
    "eval_df = preprocess(eval_df)\n",
    "test_df = preprocess(test_df)"
   ]
  },
  {
   "cell_type": "code",
   "execution_count": null,
   "id": "warming-universal",
   "metadata": {},
   "outputs": [],
   "source": [
    "train_df.head()"
   ]
  },
  {
   "cell_type": "code",
   "execution_count": null,
   "id": "hundred-tennessee",
   "metadata": {},
   "outputs": [],
   "source": [
    "train_df.tail()"
   ]
  },
  {
   "cell_type": "code",
   "execution_count": null,
   "id": "amino-humanitarian",
   "metadata": {},
   "outputs": [],
   "source": [
    "train_df.describe()"
   ]
  },
  {
   "cell_type": "markdown",
   "id": "interim-harvest",
   "metadata": {},
   "source": [
    "## Write to .csv files"
   ]
  },
  {
   "cell_type": "markdown",
   "id": "included-lighter",
   "metadata": {},
   "source": [
    "In the final versions, we want to read from files, not Pandas dataframes. So, we write Pandas dataframes out to `.csv` files. Using `.csv` files gives us the advantage of shuffling during read. This is important for distributed training because some workers might be slower than others, and shuffling the data helps prevent the same data from being assigned to slow workers."
   ]
  },
  {
   "cell_type": "code",
   "execution_count": null,
   "id": "finished-threshold",
   "metadata": {},
   "outputs": [],
   "source": [
    "# Define columns\n",
    "columns = [\"weight_pounds\",\n",
    "           \"is_male\",\n",
    "           \"mother_age\",\n",
    "           \"plurality\",\n",
    "           \"gestation_weeks\"]\n",
    "\n",
    "# Write out to .csv files\n",
    "train_df.to_csv(\n",
    "    path_or_buf=\"train.csv\", columns=columns, header=False, index=False)\n",
    "eval_df.to_csv(\n",
    "    path_or_buf=\"eval.csv\", columns=columns, header=False, index=False)\n",
    "test_df.to_csv(\n",
    "    path_or_buf=\"test.csv\", columns=columns, header=False, index=False)"
   ]
  },
  {
   "cell_type": "code",
   "execution_count": null,
   "id": "assigned-subscriber",
   "metadata": {},
   "outputs": [],
   "source": [
    "%%bash\n",
    "wc -l *.csv"
   ]
  },
  {
   "cell_type": "code",
   "execution_count": null,
   "id": "simple-trial",
   "metadata": {},
   "outputs": [],
   "source": [
    "%%bash\n",
    "head *.csv"
   ]
  },
  {
   "cell_type": "code",
   "execution_count": null,
   "id": "looking-namibia",
   "metadata": {},
   "outputs": [],
   "source": [
    "%%bash\n",
    "tail *.csv"
   ]
  }
 ],
 "metadata": {
  "kernelspec": {
   "display_name": "Python 3",
   "language": "python",
   "name": "python3"
  },
  "language_info": {
   "codemirror_mode": {
    "name": "ipython",
    "version": 3
   },
   "file_extension": ".py",
   "mimetype": "text/x-python",
   "name": "python",
   "nbconvert_exporter": "python",
   "pygments_lexer": "ipython3",
   "version": "3.8.5"
  }
 },
 "nbformat": 4,
 "nbformat_minor": 5
}
