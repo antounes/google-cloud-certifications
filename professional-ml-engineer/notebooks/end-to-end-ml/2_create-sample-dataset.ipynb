{
 "cells": [
  {
   "cell_type": "markdown",
   "id": "parallel-shock",
   "metadata": {},
   "source": [
    "# Creating a sampled dataset"
   ]
  },
  {
   "cell_type": "markdown",
   "id": "discrete-float",
   "metadata": {},
   "source": [
    "**Learning objectives**"
   ]
  },
  {
   "cell_type": "markdown",
   "id": "mighty-breeding",
   "metadata": {},
   "source": [
    "1. Setup the environment\n",
    "2. Sample the natality dataset to create train, eval, test sets\n",
    "3. Preprocess the data in Pandas dataframe"
   ]
  },
  {
   "cell_type": "code",
   "execution_count": null,
   "id": "oriented-honduras",
   "metadata": {},
   "outputs": [],
   "source": []
  }
 ],
 "metadata": {
  "kernelspec": {
   "display_name": "Python 3",
   "language": "python",
   "name": "python3"
  },
  "language_info": {
   "codemirror_mode": {
    "name": "ipython",
    "version": 3
   },
   "file_extension": ".py",
   "mimetype": "text/x-python",
   "name": "python",
   "nbconvert_exporter": "python",
   "pygments_lexer": "ipython3",
   "version": "3.8.5"
  }
 },
 "nbformat": 4,
 "nbformat_minor": 5
}
