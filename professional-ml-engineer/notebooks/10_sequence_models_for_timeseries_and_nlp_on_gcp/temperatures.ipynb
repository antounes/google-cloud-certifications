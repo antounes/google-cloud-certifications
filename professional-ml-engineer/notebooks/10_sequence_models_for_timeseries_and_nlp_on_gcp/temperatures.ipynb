{
 "cells": [
  {
   "cell_type": "markdown",
   "id": "requested-islam",
   "metadata": {},
   "source": [
    "# An RNN model for temperature data"
   ]
  },
  {
   "cell_type": "markdown",
   "id": "handed-buddy",
   "metadata": {},
   "source": [
    "This time we will be working with real data: daily (Tmin, Tmax) temperature series from 36 weather stations spanning 50 years. It is to be noted that a pretty good predictor model already exists for temperatures: the average of temperatures on the same day of the year in N previous years. It is not clear if RNNs can do better but we will see how far they can go."
   ]
  },
  {
   "cell_type": "code",
   "execution_count": null,
   "id": "reliable-specific",
   "metadata": {},
   "outputs": [],
   "source": [
    "!pip install tensorflow==1.15.3"
   ]
  },
  {
   "cell_type": "code",
   "execution_count": null,
   "id": "taken-albuquerque",
   "metadata": {},
   "outputs": [],
   "source": [
    "import math\n",
    "import sys\n",
    "import time\n",
    "import numpy as np\n",
    "\n",
    "sys.path.insert(0, \"temperatures/utils/\") # so Python can find the utils_ modules\n",
    "import utils_batching\n",
    "import utils_args\n",
    "\n",
    "import tensorflow as tf\n",
    "from tensorflow.python.lib.io import file_io as gfile\n",
    "print(\"Tensorflow version: \" + tf.__version__)"
   ]
  },
  {
   "cell_type": "code",
   "execution_count": null,
   "id": "favorite-midwest",
   "metadata": {},
   "outputs": [],
   "source": [
    "from matplotlib import pyplot as plt\n",
    "import utils_prettystyle\n",
    "import utils_display"
   ]
  },
  {
   "cell_type": "markdown",
   "id": "laughing-plain",
   "metadata": {},
   "source": [
    "## Download data"
   ]
  },
  {
   "cell_type": "code",
   "execution_count": null,
   "id": "bridal-convenience",
   "metadata": {},
   "outputs": [],
   "source": [
    "%%bash\n",
    "DOWNLOAD_DIR=temperatures/data\n",
    "mkdir $DOWNLOAD_DIR\n",
    "gsutil -m cp gs://cloud-training-demos/courses/machine_learning/deepdive/09_sequence/temperatures/* $DOWNLOAD_DIR"
   ]
  },
  {
   "cell_type": "markdown",
   "id": "helpful-speech",
   "metadata": {},
   "source": [
    "## Hyperparameters"
   ]
  },
  {
   "cell_type": "markdown",
   "id": "metallic-authentication",
   "metadata": {},
   "source": [
    "N_FORWARD = 1: works but model struggles to predict from some positions\n",
    "\n",
    "N_FORWARD = 4: better but still bad occasionally\n",
    "\n",
    "N_FORWARD = 8: works perfectly"
   ]
  },
  {
   "cell_type": "code",
   "execution_count": null,
   "id": "modular-girlfriend",
   "metadata": {},
   "outputs": [],
   "source": [
    "NB_EPOCHS = 5 # number of times the model sees all the data during training\n",
    "\n",
    "N_FORWARD = 8 # train the network to predict N in advance (traditionally 1)\n",
    "RESAMPLE_BY = 5 # averaging period in days (training on daily data is too much)\n",
    "RNN_CELLSIZE = 128 # size of the RNN cells\n",
    "N_LAYERS = 2 # number of stacked RNN cells\n",
    "SEQLEN = 128 # unrolled sequence length\n",
    "BATCHSIZE = 64 # mini-batch size\n",
    "DROPOUT_KEEP = 0.7 # probability of neurons not being dropped (should be between 0.5 and 1)\n",
    "ACTIVATION = tf.nn.tanh # activation function for GRU cells (tf.nn.relu or tf.nn.tanh)\n",
    "\n",
    "JOB_DIR = \"checkpoints\"\n",
    "DATA_DIR = \"temperatures/data\"\n",
    "\n",
    "# potentially override some settings from command-line arguments\n",
    "if __name__ == \"__main__\":\n",
    "    JOB_DIR, DATA_DIR = utils_args.read_args1(JOB_DIR, DATA_DIR)\n",
    "    \n",
    "ALL_FILEPATTERN = DATA_DIR + \"/*.csv\" # pattern matches all 1666 files\n",
    "EVAL_FILEPATTERN = DATA_DIR + \"/USC000*2.csv\" # pattern matches 8 files\n",
    "# pattern USW*.csv -> 298 files, pattern USW*0.csv -> 28 files\n",
    "print(\"Reading data from '{}'. \\nWriting checkpoints to '{}'\".format(DATA_DIR, JOB_DIR))"
   ]
  },
  {
   "cell_type": "markdown",
   "id": "immediate-telescope",
   "metadata": {},
   "source": [
    "## Temperature data"
   ]
  },
  {
   "cell_type": "markdown",
   "id": "digital-forward",
   "metadata": {},
   "source": [
    "This is what our temperature dataset looks like: sequences of daily (Tmin, Tmax) from 1960 to 2010. They have been cleaned up and eventual missing values have been filled by interpolation. Interpolated regions of the dataset are marked in red on the graph."
   ]
  },
  {
   "cell_type": "code",
   "execution_count": null,
   "id": "sudden-offense",
   "metadata": {},
   "outputs": [],
   "source": [
    "all_filenames = gfile.get_matching_files(ALL_FILEPATTERN)\n",
    "eval_filenames = gfile.get_matching_files(EVAL_FILEPATTERN)\n",
    "train_filenames = list(set(all_filenames) - set(eval_filenames))\n",
    "\n",
    "# By default, this utility function loads all the files and places data\n",
    "# from them as-is in an array, one file per line. Later, we will use it\n",
    "# to shape the dataset as needed for training\n",
    "ite = utils_batching.rnn_multistation_sampling_temperature_sequencer(eval_filenames)\n",
    "evtemps, _, evdates, _, _ = next(ite) # gets everything\n",
    "\n",
    "print(\"Pattern '{}' matches {} files\".format(ALL_FILEPATTERN, len(all_filenames)))\n",
    "print(\"Pattern '{}' matches {} files\".format(EVAL_FILEPATTERN, len(eval_filenames)))\n",
    "print(\"Evaluation files: {}\".format(len(eval_filenames)))\n",
    "print(\"Training files: {}\".format(len(train_filenames)))\n",
    "print(\"Initial shape of the evaluation dataset: \" + str(evtemps.shape))\n",
    "print(\"{} files, {} data points per file, {} values per data point\"\n",
    "      \" (Tmin, Tmax, is_interpolated) \".format(evtemps.shape[0], evtemps.shape[1], evtemps.shape[2]))"
   ]
  },
  {
   "cell_type": "code",
   "execution_count": null,
   "id": "polish-verse",
   "metadata": {},
   "outputs": [],
   "source": []
  },
  {
   "cell_type": "code",
   "execution_count": null,
   "id": "moving-prior",
   "metadata": {},
   "outputs": [],
   "source": []
  },
  {
   "cell_type": "code",
   "execution_count": null,
   "id": "square-religion",
   "metadata": {},
   "outputs": [],
   "source": []
  },
  {
   "cell_type": "code",
   "execution_count": null,
   "id": "level-cigarette",
   "metadata": {},
   "outputs": [],
   "source": []
  },
  {
   "cell_type": "code",
   "execution_count": null,
   "id": "specific-reservation",
   "metadata": {},
   "outputs": [],
   "source": []
  },
  {
   "cell_type": "code",
   "execution_count": null,
   "id": "competent-football",
   "metadata": {},
   "outputs": [],
   "source": []
  },
  {
   "cell_type": "code",
   "execution_count": null,
   "id": "wound-discovery",
   "metadata": {},
   "outputs": [],
   "source": []
  },
  {
   "cell_type": "code",
   "execution_count": null,
   "id": "express-absence",
   "metadata": {},
   "outputs": [],
   "source": []
  }
 ],
 "metadata": {
  "kernelspec": {
   "display_name": "Python 3",
   "language": "python",
   "name": "python3"
  },
  "language_info": {
   "codemirror_mode": {
    "name": "ipython",
    "version": 3
   },
   "file_extension": ".py",
   "mimetype": "text/x-python",
   "name": "python",
   "nbconvert_exporter": "python",
   "pygments_lexer": "ipython3",
   "version": "3.8.5"
  }
 },
 "nbformat": 4,
 "nbformat_minor": 5
}
