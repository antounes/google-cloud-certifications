{
 "cells": [
  {
   "cell_type": "markdown",
   "id": "mysterious-uganda",
   "metadata": {},
   "source": [
    "# An RNN model for temperature data"
   ]
  },
  {
   "cell_type": "markdown",
   "id": "front-presence",
   "metadata": {},
   "source": [
    "This time we will be working with real data: daily (Tmin, Tmax) temperature series from 36 weather stations spanning 50 years. It is to be noted that a pretty good predictor model already exists for temperatures: the average of temperatures on the same day of the year in N previous years. It is not clear if RNNs can do better but we will see how far they can go."
   ]
  },
  {
   "cell_type": "code",
   "execution_count": null,
   "id": "actual-pastor",
   "metadata": {},
   "outputs": [],
   "source": [
    "!pip install tensorflow==1.15.3"
   ]
  },
  {
   "cell_type": "code",
   "execution_count": null,
   "id": "responsible-flash",
   "metadata": {},
   "outputs": [],
   "source": [
    "import math\n",
    "import sys\n",
    "import time\n",
    "import numpy as np\n",
    "\n",
    "sys.path.insert(0, \"temperatures/utils/\") # so Python can find the utils_ modules\n",
    "import utils_batching\n",
    "import utils_args\n",
    "\n",
    "import tensorflow as tf\n",
    "from tensorflow.python.lib.io import file_io as gfile\n",
    "print(\"Tensorflow version: \" + tf.__version__)"
   ]
  },
  {
   "cell_type": "code",
   "execution_count": null,
   "id": "square-ghost",
   "metadata": {},
   "outputs": [],
   "source": [
    "from matplotlib import pyplot as plt\n",
    "import utils_prettystyle\n",
    "import utils_display"
   ]
  },
  {
   "cell_type": "markdown",
   "id": "surrounded-organization",
   "metadata": {},
   "source": [
    "## Download data"
   ]
  },
  {
   "cell_type": "code",
   "execution_count": null,
   "id": "blond-darkness",
   "metadata": {},
   "outputs": [],
   "source": [
    "%%bash\n",
    "DOWNLOAD_DIR=temperatures/data\n",
    "mkdir $DOWNLOAD_DIR\n",
    "gsutil -m cp gs://cloud-training-demos/courses/machine_learning/deepdive/09_sequence/temperatures/* $DOWNLOAD_DIR"
   ]
  },
  {
   "cell_type": "markdown",
   "id": "diverse-jaguar",
   "metadata": {},
   "source": [
    "## Hyperparameters"
   ]
  },
  {
   "cell_type": "markdown",
   "id": "ahead-nashville",
   "metadata": {},
   "source": [
    "N_FORWARD = 1: works but model struggles to predict from some positions\n",
    "\n",
    "N_FORWARD = 4: better but still bad occasionally\n",
    "\n",
    "N_FORWARD = 8: works perfectly"
   ]
  },
  {
   "cell_type": "code",
   "execution_count": null,
   "id": "improving-charge",
   "metadata": {},
   "outputs": [],
   "source": [
    "NB_EPOCHS = 5 # number of times the model sees all the data during training\n",
    "\n",
    "N_FORWARD = 8 # train the network to predict N in advance (traditionally 1)\n",
    "RESAMPLE_BY = 5 # averaging period in days (training on daily data is too much)\n",
    "RNN_CELLSIZE = 128 # size of the RNN cells\n",
    "N_LAYERS = 2 # number of stacked RNN cells\n",
    "SEQLEN = 128 # unrolled sequence length\n",
    "BATCHSIZE = 64 # mini-batch size\n",
    "DROPOUT_KEEP = 0.7 # probability of neurons not being dropped (should be between 0.5 and 1)\n",
    "ACTIVATION = tf.nn.tanh # activation function for GRU cells (tf.nn.relu or tf.nn.tanh)\n",
    "\n",
    "JOB_DIR = \"checkpoints\"\n",
    "DATA_DIR = \"temperatures/data\"\n",
    "\n",
    "# potentially override some settings from command-line arguments\n",
    "if __name__ == \"__main__\":\n",
    "    JOB_DIR, DATA_DIR = utils_args.read_args1(JOB_DIR, DATA_DIR)\n",
    "    \n",
    "ALL_FILEPATTERN = DATA_DIR + \"/*.csv\" # pattern matches all 1666 files\n",
    "EVAL_FILEPATTERN = DATA_DIR + \"/USC000*2.csv\" # pattern matches 8 files\n",
    "# pattern USW*.csv -> 298 files, pattern USW*0.csv -> 28 files\n",
    "print(\"Reading data from '{}'. \\nWriting checkpoints to '{}'\".format(DATA_DIR, JOB_DIR))"
   ]
  },
  {
   "cell_type": "markdown",
   "id": "divine-adaptation",
   "metadata": {},
   "source": [
    "## Temperature data"
   ]
  },
  {
   "cell_type": "markdown",
   "id": "strategic-maximum",
   "metadata": {},
   "source": [
    "This is what our temperature dataset looks like: sequences of daily (Tmin, Tmax) from 1960 to 2010. They have been cleaned up and eventual missing values have been filled by interpolation. Interpolated regions of the dataset are marked in red on the graph."
   ]
  },
  {
   "cell_type": "code",
   "execution_count": null,
   "id": "still-nomination",
   "metadata": {},
   "outputs": [],
   "source": [
    "all_filenames = gfile.get_matching_files(ALL_FILEPATTERN)\n",
    "eval_filenames = gfile.get_matching_files(EVAL_FILEPATTERN)\n",
    "train_filenames = list(set(all_filenames) - set(eval_filenames))\n",
    "\n",
    "# By default, this utility function loads all the files and places data\n",
    "# from them as-is in an array, one file per line. Later, we will use it\n",
    "# to shape the dataset as needed for training\n",
    "ite = utils_batching.rnn_multistation_sampling_temperature_sequencer(eval_filenames)\n",
    "evtemps, _, evdates, _, _ = next(ite) # gets everything\n",
    "\n",
    "print(\"Pattern '{}' matches {} files\".format(ALL_FILEPATTERN, len(all_filenames)))\n",
    "print(\"Pattern '{}' matches {} files\".format(EVAL_FILEPATTERN, len(eval_filenames)))\n",
    "print(\"Evaluation files: {}\".format(len(eval_filenames)))\n",
    "print(\"Training files: {}\".format(len(train_filenames)))\n",
    "print(\"Initial shape of the evaluation dataset: \" + str(evtemps.shape))\n",
    "print(\"{} files, {} data points per file, {} values per data point\"\n",
    "      \" (Tmin, Tmax, is_interpolated) \".format(evtemps.shape[0], evtemps.shape[1], evtemps.shape[2]))"
   ]
  },
  {
   "cell_type": "code",
   "execution_count": null,
   "id": "other-westminster",
   "metadata": {},
   "outputs": [],
   "source": [
    "# You can adjust the visualisation range and dataset here\n",
    "# Interpolated regions of the dataset are marked in red\n",
    "WEATHER_STATION = 0 # 0 to 7 in default eval dataset\n",
    "START_DATE = 0 # 0 = Jan 2nd 1950\n",
    "END_DATE = 18262 # 18262 = Dec 31st 2009\n",
    "visu_temperatures = evtemps[WEATHER_STATION, START_DATE:END_DATE]\n",
    "visu_dates = evdates[START_DATE:END_DATE]\n",
    "\n",
    "utils_display.picture_this_4(visu_temperatures, visu_dates)"
   ]
  },
  {
   "cell_type": "markdown",
   "id": "modified-neutral",
   "metadata": {},
   "source": [
    "## Resampling"
   ]
  },
  {
   "cell_type": "markdown",
   "id": "promising-pixel",
   "metadata": {},
   "source": [
    "Our RNN would need to be unrolled across 365 steps to capture the yearly temperature cycles. That's a bit too much. We will resample the temperatures and work with 5-day averages for example."
   ]
  },
  {
   "cell_type": "code",
   "execution_count": null,
   "id": "terminal-singapore",
   "metadata": {},
   "outputs": [],
   "source": [
    "# This time we ask the utility function to average temperatures over 5-day periods (RESAMPLE_BY=5)\n",
    "ite = utils_batching.rnn_multistation_sampling_tempereature_sequencer(eval_filenames, RESAMPLE_BY, tminmax=True)\n",
    "evaltemps, _, evaldates, _, _ = next(ite)"
   ]
  },
  {
   "cell_type": "code",
   "execution_count": null,
   "id": "joint-exercise",
   "metadata": {},
   "outputs": [],
   "source": [
    "# Display five years worth of data\n",
    "WEATHER_STATION = 0\n",
    "START_DATE = 0 \n",
    "END_DATE = 365*5//RESAMPLE_BY # 5 years\n",
    "visu_temperatures = evaltemps[WEATHER_STATION, START_DATE:END_DATE]\n",
    "visu_dates = evaldates[START_DATE:END_DATE]\n",
    "plt.fill_between(visu_dates, visu_temperatures[:,0], visu_temperatures[:,1])\n",
    "plt.show()"
   ]
  },
  {
   "cell_type": "markdown",
   "id": "compatible-employer",
   "metadata": {},
   "source": [
    "## Visualise training sequences"
   ]
  },
  {
   "cell_type": "code",
   "execution_count": null,
   "id": "sealed-foundation",
   "metadata": {},
   "outputs": [],
   "source": []
  },
  {
   "cell_type": "code",
   "execution_count": null,
   "id": "working-delight",
   "metadata": {},
   "outputs": [],
   "source": []
  },
  {
   "cell_type": "code",
   "execution_count": null,
   "id": "described-battle",
   "metadata": {},
   "outputs": [],
   "source": []
  },
  {
   "cell_type": "code",
   "execution_count": null,
   "id": "automated-ballot",
   "metadata": {},
   "outputs": [],
   "source": []
  },
  {
   "cell_type": "code",
   "execution_count": null,
   "id": "quarterly-thirty",
   "metadata": {},
   "outputs": [],
   "source": []
  },
  {
   "cell_type": "code",
   "execution_count": null,
   "id": "included-mother",
   "metadata": {},
   "outputs": [],
   "source": []
  },
  {
   "cell_type": "code",
   "execution_count": null,
   "id": "neutral-consciousness",
   "metadata": {},
   "outputs": [],
   "source": []
  },
  {
   "cell_type": "code",
   "execution_count": null,
   "id": "banned-childhood",
   "metadata": {},
   "outputs": [],
   "source": []
  },
  {
   "cell_type": "code",
   "execution_count": null,
   "id": "artistic-wales",
   "metadata": {},
   "outputs": [],
   "source": []
  },
  {
   "cell_type": "code",
   "execution_count": null,
   "id": "temporal-cemetery",
   "metadata": {},
   "outputs": [],
   "source": []
  },
  {
   "cell_type": "code",
   "execution_count": null,
   "id": "right-helicopter",
   "metadata": {},
   "outputs": [],
   "source": []
  }
 ],
 "metadata": {
  "kernelspec": {
   "display_name": "Python 3",
   "language": "python",
   "name": "python3"
  },
  "language_info": {
   "codemirror_mode": {
    "name": "ipython",
    "version": 3
   },
   "file_extension": ".py",
   "mimetype": "text/x-python",
   "name": "python",
   "nbconvert_exporter": "python",
   "pygments_lexer": "ipython3",
   "version": "3.8.5"
  }
 },
 "nbformat": 4,
 "nbformat_minor": 5
}
