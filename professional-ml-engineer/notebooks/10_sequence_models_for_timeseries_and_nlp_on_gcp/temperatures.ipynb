{
 "cells": [
  {
   "cell_type": "markdown",
   "id": "consecutive-marks",
   "metadata": {},
   "source": [
    "# An RNN model for temperature data"
   ]
  },
  {
   "cell_type": "markdown",
   "id": "conscious-generator",
   "metadata": {},
   "source": [
    "This time we will be working with real data: daily (Tmin, Tmax) temperature series from 36 weather stations spanning 50 years. It is to be noted that a pretty good predictor model already exists for temperatures: the average of temperatures on the same day of the year in N previous years. It is not clear if RNNs can do better but we will see how far they can go."
   ]
  },
  {
   "cell_type": "code",
   "execution_count": null,
   "id": "personal-senator",
   "metadata": {},
   "outputs": [],
   "source": [
    "!pip install tensorflow==1.15.3"
   ]
  },
  {
   "cell_type": "code",
   "execution_count": null,
   "id": "prescribed-wallace",
   "metadata": {},
   "outputs": [],
   "source": [
    "import math\n",
    "import sys\n",
    "import time\n",
    "import numpy as np\n",
    "\n",
    "sys.path.insert(0, \"temperatures/utils/\") # so Python can find the utils_ modules\n",
    "import utils_batching\n",
    "import utils_args\n",
    "\n",
    "import tensorflow as tf\n",
    "from tensorflow.python.lib.io import file_io as gfile\n",
    "print(\"Tensorflow version: \" + tf.__version__)"
   ]
  },
  {
   "cell_type": "code",
   "execution_count": null,
   "id": "union-skill",
   "metadata": {},
   "outputs": [],
   "source": [
    "from matplotlib import pyplot as plt\n",
    "import utils_prettystyle\n",
    "import utils_display"
   ]
  },
  {
   "cell_type": "markdown",
   "id": "vocational-progress",
   "metadata": {},
   "source": [
    "## Download data"
   ]
  },
  {
   "cell_type": "code",
   "execution_count": null,
   "id": "regulated-animal",
   "metadata": {},
   "outputs": [],
   "source": [
    "%%bash\n",
    "DOWNLOAD_DIR=temperatures/data\n",
    "mkdir $DOWNLOAD_DIR\n",
    "gsutil -m cp gs://cloud-training-demos/courses/machine_learning/deepdive/09_sequence/temperatures/* $DOWNLOAD_DIR"
   ]
  },
  {
   "cell_type": "markdown",
   "id": "suffering-sunrise",
   "metadata": {},
   "source": [
    "## Hyperparameters"
   ]
  },
  {
   "cell_type": "markdown",
   "id": "conceptual-cholesterol",
   "metadata": {},
   "source": [
    "N_FORWARD = 1: works but model struggles to predict from some positions\n",
    "\n",
    "N_FORWARD = 4: better but still bad occasionally\n",
    "\n",
    "N_FORWARD = 8: works perfectly"
   ]
  },
  {
   "cell_type": "code",
   "execution_count": null,
   "id": "mighty-breast",
   "metadata": {},
   "outputs": [],
   "source": [
    "NB_EPOCHS = 5 # number of times the model sees all the data during training\n",
    "\n",
    "N_FORWARD = 8 # train the network to predict N in advance (traditionally 1)\n",
    "RESAMPLE_BY = 5 # averaging period in days (training on daily data is too much)\n",
    "RNN_CELLSIZE = 128 # size of the RNN cells\n",
    "N_LAYERS = 2 # number of stacked RNN cells\n",
    "SEQLEN = 128 # unrolled sequence length\n",
    "BATCHSIZE = 64 # mini-batch size\n",
    "DROPOUT_KEEP = 0.7 # probability of neurons not being dropped (should be between 0.5 and 1)\n",
    "ACTIVATION = tf.nn.tanh # activation function for GRU cells (tf.nn.relu or tf.nn.tanh)\n",
    "\n",
    "JOB_DIR = \"checkpoints\"\n",
    "DATA_DIR = \"temperatures/data\"\n",
    "\n",
    "# potentially override some settings from command-line arguments\n",
    "if __name__ == \"__main__\":\n",
    "    JOB_DIR, DATA_DIR = utils_args.read_args1(JOB_DIR, DATA_DIR)\n",
    "    \n",
    "ALL_FILEPATTERN = DATA_DIR + \"/*.csv\" # pattern matches all 1666 files\n",
    "EVAL_FILEPATTERN = DATA_DIR + \"/USC000*2.csv\" # pattern matches 8 files\n",
    "# pattern USW*.csv -> 298 files, pattern USW*0.csv -> 28 files\n",
    "print(\"Reading data from '{}'. \\nWriting checkpoints to '{}'\".format(DATA_DIR, JOB_DIR))"
   ]
  },
  {
   "cell_type": "markdown",
   "id": "together-dayton",
   "metadata": {},
   "source": [
    "## Temperature data"
   ]
  },
  {
   "cell_type": "markdown",
   "id": "beautiful-german",
   "metadata": {},
   "source": [
    "This is what our temperature dataset looks like: sequences of daily (Tmin, Tmax) from 1960 to 2010. They have been cleaned up and eventual missing values have been filled by interpolation. Interpolated regions of the dataset are marked in red on the graph."
   ]
  },
  {
   "cell_type": "code",
   "execution_count": null,
   "id": "mounted-necessity",
   "metadata": {},
   "outputs": [],
   "source": [
    "all_filenames = gfile.get_matching_files(ALL_FILEPATTERN)\n",
    "eval_filenames = gfile.get_matching_files(EVAL_FILEPATTERN)\n",
    "train_filenames = list(set(all_filenames) - set(eval_filenames))\n",
    "\n",
    "# By default, this utility function loads all the files and places data\n",
    "# from them as-is in an array, one file per line. Later, we will use it\n",
    "# to shape the dataset as needed for training\n",
    "ite = utils_batching.rnn_multistation_sampling_temperature_sequencer(eval_filenames)\n",
    "evtemps, _, evdates, _, _ = next(ite) # gets everything\n",
    "\n",
    "print(\"Pattern '{}' matches {} files\".format(ALL_FILEPATTERN, len(all_filenames)))\n",
    "print(\"Pattern '{}' matches {} files\".format(EVAL_FILEPATTERN, len(eval_filenames)))\n",
    "print(\"Evaluation files: {}\".format(len(eval_filenames)))\n",
    "print(\"Training files: {}\".format(len(train_filenames)))\n",
    "print(\"Initial shape of the evaluation dataset: \" + str(evtemps.shape))\n",
    "print(\"{} files, {} data points per file, {} values per data point\"\n",
    "      \" (Tmin, Tmax, is_interpolated) \".format(evtemps.shape[0], evtemps.shape[1], evtemps.shape[2]))"
   ]
  },
  {
   "cell_type": "code",
   "execution_count": null,
   "id": "collected-liberia",
   "metadata": {},
   "outputs": [],
   "source": [
    "# You can adjust the visualisation range and dataset here\n",
    "# Interpolated regions of the dataset are marked in red\n",
    "WEATHER_STATION = 0 # 0 to 7 in default eval dataset\n",
    "START_DATE = 0 # 0 = Jan 2nd 1950\n",
    "END_DATE = 18262 # 18262 = Dec 31st 2009\n",
    "visu_temperatures = evtemps[WEATHER_STATION, START_DATE:END_DATE]\n",
    "visu_dates = evdates[START_DATE:END_DATE]\n",
    "\n",
    "utils_display.picture_this_4(visu_temperatures, visu_dates)"
   ]
  },
  {
   "cell_type": "markdown",
   "id": "numerous-comment",
   "metadata": {},
   "source": [
    "## Resampling"
   ]
  },
  {
   "cell_type": "markdown",
   "id": "blind-company",
   "metadata": {},
   "source": [
    "Our RNN would need to be unrolled across 365 steps to capture the yearly temperature cycles. That's a bit too much. We will resample the temperatures and work with 5-day averages for example."
   ]
  },
  {
   "cell_type": "code",
   "execution_count": null,
   "id": "secret-asthma",
   "metadata": {},
   "outputs": [],
   "source": [
    "# This time we ask the utility function to average temperatures over 5-day periods (RESAMPLE_BY=5)\n",
    "ite = utils_batching.rnn_multistation_sampling_tempereature_sequencer(eval_filenames, RESAMPLE_BY, tminmax=True)\n",
    "evaltemps, _, evaldates, _, _ = next(ite)"
   ]
  },
  {
   "cell_type": "code",
   "execution_count": null,
   "id": "distant-default",
   "metadata": {},
   "outputs": [],
   "source": [
    "# Display five years worth of data\n",
    "WEATHER_STATION = 0\n",
    "START_DATE = 0 \n",
    "END_DATE = 365*5//RESAMPLE_BY # 5 years\n",
    "visu_temperatures = evaltemps[WEATHER_STATION, START_DATE:END_DATE]\n",
    "visu_dates = evaldates[START_DATE:END_DATE]\n",
    "plt.fill_between(visu_dates, visu_temperatures[:,0], visu_temperatures[:,1])\n",
    "plt.show()"
   ]
  },
  {
   "cell_type": "markdown",
   "id": "wound-initial",
   "metadata": {},
   "source": [
    "## Visualise training sequences"
   ]
  },
  {
   "cell_type": "markdown",
   "id": "automotive-warehouse",
   "metadata": {},
   "source": [
    "This is what the neural network will see during training."
   ]
  },
  {
   "cell_type": "code",
   "execution_count": null,
   "id": "related-dairy",
   "metadata": {},
   "outputs": [],
   "source": [
    "# The function rnn_multistation_sampling_temperature_sequencer puts one weather station per line in\n",
    "# a batch and continues with data from the same station in corresponding lines in the next batch.\n",
    "# Features and labels are returned with shapes [BATCHSIZE, SEQLEN, 2]. The last dimension of size 2\n",
    "# contains (Tmin, Tmax)\n",
    "ite = utils_batching.rnn_multistation_sampling_temperature_sequencer(eval_filenames,\n",
    "                                                                     RESAMPLE_BY,\n",
    "                                                                     BATCHSIZE,\n",
    "                                                                     SEQLEN,\n",
    "                                                                     N_FORWARD,\n",
    "                                                                     nb_epochs=1,\n",
    "                                                                     tminmax=True)\n",
    "\n",
    "# load 6 training sequences (each one contains data for all weather stations)\n",
    "visu_data = [next(ite) for _ in range(6)]"
   ]
  },
  {
   "cell_type": "code",
   "execution_count": null,
   "id": "funny-pulse",
   "metadata": {},
   "outputs": [],
   "source": [
    "# Check that consecutive training sequences from the same weather station are indeed consecutive\n",
    "WEATHER_STATION = 4\n",
    "utils_display.picture_this_5(visu_data, WEATHER_STATION)"
   ]
  },
  {
   "cell_type": "markdown",
   "id": "decimal-electron",
   "metadata": {},
   "source": [
    "## The model definition"
   ]
  },
  {
   "cell_type": "markdown",
   "id": "polar-chick",
   "metadata": {},
   "source": [
    "<center><img src=\"RNN2.svg\" width=\"700px\"></center>"
   ]
  },
  {
   "cell_type": "markdown",
   "id": "outdoor-marine",
   "metadata": {},
   "source": [
    "X shape [BATCHSIZE, SEQLEN, 2]\n",
    "\n",
    "Y shape [BATCHSIZE, SEQLEN, 2]\n",
    "\n",
    "H shape [BATCHSIZE, RNN_CELLSIZE*NLAYERS]\n",
    "\n",
    "When executed, this function instantiates the TensorFlow graph for our model"
   ]
  },
  {
   "cell_type": "code",
   "execution_count": null,
   "id": "transparent-syndrome",
   "metadata": {},
   "outputs": [],
   "source": [
    "def model_rnn_fn(features, Hin, labels, step, dropout_pkeep):\n",
    "    X = features # shape [BATCHSIZE, SEQLEN, 2], 2 for (Tmin, Tmax)\n",
    "    batchsize = tf.shape(X)[0]\n",
    "    seqlen = tf.shape(X)[1]\n",
    "    pairlen = tf.shape(X)[2] # should be 2 (tmin, tmax)\n",
    "    \n",
    "    cells = [tf.nn.rnn_cell.GRUCell(RNN_CELLSIZE, activation=ACTIVATION) for _ in range(N_LAYERS)]\n",
    "    # dropout useful between cell layers only: no output dropout on last cell\n",
    "    cells = [tf.nn.rnn_cell.DropoutWrapper(cell, output_keep_prob=dropout_pkeep) for cell in cells]\n",
    "    # a stacked RNN cell still works like an RNN cell\n",
    "    cell = tf.nn.rnn_cell.MultiRNNCell(cells, state_is_tuple=False)\n",
    "    # X[BATCHSIZE, SEQLEN, 2], Hin[BATCHSIZE, RNN_CELLSIZE*N_LAYERS]\n",
    "    # the sequence unrolling happens here\n",
    "    Yn, H = tf.nn.dynamic_rnn(cell, X, initial_state=Hin, dtype=tf.float32)\n",
    "    # Yn[BATCHSIZE, SEQLEN, RNN_CELLSIZE]\n",
    "    Yn = tf.reshape(Yn, [batchsize*seqlen, RNN_CELLSIZE])\n",
    "    Yr = tf.layers.dense(Yn, 2) # Yr[BATCHSIZE*SEQLEN, 2]\n",
    "    Yr = tf.reshape(Yr, [batchsize, seqlen, 2]) # Yr [BATCHSIZE, SEQLEN, 2]\n",
    "    Yout = Yr[:,-N_FORWARD:,:] # Last N_FORWARD outputs Yout[BATCHSIZE, N_FORWARD, 2]\n",
    "    \n",
    "    loss = tf.losses.mean_squared_error(Yr, labels) # labels[BATCHSIZE, SEQLEN, 2]\n",
    "    \n",
    "    lr = 0.001 + tf.train.exponential_decay(0.01, step, 1000, 0.5)\n",
    "    optimizer = tf.train.AdamOptimizer(learning_rate=lr)\n",
    "    train_op = optimizer.minmize(loss)\n",
    "    \n",
    "    return Yout, H, loss, train_op, Yr"
   ]
  },
  {
   "cell_type": "markdown",
   "id": "acquired-ranking",
   "metadata": {},
   "source": [
    "## Instantiate the model"
   ]
  },
  {
   "cell_type": "code",
   "execution_count": null,
   "id": "virgin-elizabeth",
   "metadata": {},
   "outputs": [],
   "source": [
    "tf.reset_default_graph() # restart model graph from scratch\n",
    "\n",
    "# placeholder for inputs\n",
    "Hin = tf.placeholder(tf.float32, [None, RNN_CELLSIZE * N_LAYERS])\n",
    "features = tf.placeholder(tf.float32, [None, None, 2]) # [BATCHSIZE, SEQLEN, 2]\n",
    "labels = tf.placeholder(tf.float32, [None, None, 2]) # [BATCHSIZE, SEQLEN, 2]\n",
    "step = tf.placeholder(tf.int32)\n",
    "dropout_keep = tf.placeholder(tf.float32)\n",
    "\n",
    "# instantiate the model\n",
    "Yout, H, loss, train_op, Yr = model_rnn_fn(features, Hin, labels, step, dropout_pkeep)"
   ]
  },
  {
   "cell_type": "markdown",
   "id": "exact-setting",
   "metadata": {},
   "source": [
    "## Initialise Tensorflow session"
   ]
  },
  {
   "cell_type": "markdown",
   "id": "multiple-amendment",
   "metadata": {},
   "source": [
    "This resets all neuron weights and biases to initial random values"
   ]
  },
  {
   "cell_type": "code",
   "execution_count": null,
   "id": "computational-arcade",
   "metadata": {},
   "outputs": [],
   "source": [
    "# variable initialisation\n",
    "sess = tf.Session()\n",
    "init = tf.global_variables_initializer()\n",
    "sess.run([init])\n",
    "saver = tf.train.Saver(max_to_keep=1)"
   ]
  },
  {
   "cell_type": "markdown",
   "id": "diagnostic-ranking",
   "metadata": {},
   "source": [
    "## The training loop"
   ]
  },
  {
   "cell_type": "markdown",
   "id": "suspected-syndication",
   "metadata": {},
   "source": [
    "You can re-execute this cell to continue training"
   ]
  },
  {
   "cell_type": "markdown",
   "id": "behind-consciousness",
   "metadata": {},
   "source": [
    "Training data must be batched correctly, one weather station per line, continued on the same line across batches. This way, output states computed from one batch are the correct input states for the next batch. The provided utility function `rnn_multistation_sampling_temperature_sequencer` does the right thing."
   ]
  },
  {
   "cell_type": "markdown",
   "id": "secure-twelve",
   "metadata": {},
   "source": [
    "<center><img src=\"batching.svg\" width=\"600px\"></center>"
   ]
  },
  {
   "cell_type": "code",
   "execution_count": null,
   "id": "boxed-impossible",
   "metadata": {},
   "outputs": [],
   "source": [
    "losses = []\n",
    "indices = []\n",
    "last_epoch = 99999\n",
    "last_fileid = 99999\n",
    "\n",
    "for i, (next_features, next_labels, dates, epoch, fileid) in enumerate(\n",
    "    utils_batching.rnn_multistation_sampling_temperature_sequencer(train_filenames,\n",
    "                                                                   RESAMPLE_BY,\n",
    "                                                                   BATCHSIZE,\n",
    "                                                                   SEQLEN,\n",
    "                                                                   N_FORWARD,\n",
    "                                                                   NB_EPOCHS, tminmax=True)):\n",
    "    \n",
    "    # reinitialise state between epochs or when starting on data from a new weather station\n",
    "    if epoch != last_epoch or fileid != last_fileid:\n",
    "        batchsize = next_features.shape[0]\n",
    "        H_ = np.zeros([batchsize, RNN_CELLSIZE * N_LAYERS])\n",
    "        print(\"State reset\")\n",
    "        \n",
    "    # train\n",
    "    feed = {Hin: H_, features: next_features, labels: next_labels, step: i, dropout_pkeep: DROPOUT_PKEEP}\n",
    "    Yout_, H_, loss_, _, Yr_ = sess.run([Yout, H, loss, train_op, Yr], feed_dict=feed)\n",
    "    \n",
    "    # print progress\n",
    "    if i%20 == 0:\n",
    "        print(\"{}: epoch {} loss = {} ({} weather stations this epoch)\".format(i, epoch, np.mean(loss_), fileid+1))\n",
    "        sys.stdout.flush()\n",
    "    if i%10 == 0:\n",
    "        losses.append(np.mean(loss_))\n",
    "        indices.append(i)\n",
    "        \n",
    "    last_epoch = epoch\n",
    "    last_fileid = fileid\n",
    "\n",
    "# save the trained model\n",
    "SAVEDMODEL = JOB_DIR + \"/ckpt\" + str(int(time.time()))\n",
    "tf.saved_model.simple_save(sess, SAVEDMODEL,\n",
    "                           inputs={\"features\": features, \"Hin\": Hin, \"dropout_pkeep\": dropout_pkeep},\n",
    "                           outputs={\"Yout\": Yout, \"H\": H})"
   ]
  },
  {
   "cell_type": "code",
   "execution_count": null,
   "id": "peripheral-carolina",
   "metadata": {},
   "outputs": [],
   "source": [
    "plt.ylim(ymax=np.amax(losses[1:])) # ignore first value for scaling\n",
    "plt.plot(indices, losses)\n",
    "plt.show()"
   ]
  },
  {
   "cell_type": "markdown",
   "id": "collaborative-clarity",
   "metadata": {},
   "source": [
    "## Inference"
   ]
  },
  {
   "cell_type": "markdown",
   "id": "signal-return",
   "metadata": {},
   "source": [
    "This is a generative model: run a trained RNN cell in a loop"
   ]
  },
  {
   "cell_type": "code",
   "execution_count": null,
   "id": "eligible-tamil",
   "metadata": {},
   "outputs": [],
   "source": [
    "def prediction_run(predict_fn, prime_data, run_length):\n",
    "    H = np.zeros([1, RNN_CELLSIZE * N_LAYERS]) # zero state initially\n",
    "    Yout = np.zeros([1, N_FORWARD, 2])\n",
    "    data_len = prime_data.shape[0]-N_FORWARD\n",
    "    \n",
    "    # prime the state from data\n",
    "    if data_len > 0:\n",
    "        Yin = np.array(prime_data[:-N_FORWARD])\n",
    "        Yin = np.reshape(Yin, [1, data_len, 2]) # reshape as one sequence of pairs (Tmin, Tmax)\n",
    "        r = predict_fn({\"features\": Yin, \"Hin\": H, \"dropout_pkeep\": 1.0}) # no dropout during inference\n",
    "        Yout = r[\"Yout\"]\n",
    "        H = r[\"H\"]\n",
    "        \n",
    "        # initially, put real data on the inputs, not predictions\n",
    "        Yout = np.expand_dims(prime_data[-N_FORWARD:], axis=0)\n",
    "        # Yout shape [1, N_FORWARD, 2]: batch of a single sequence of length N_FORWARD of (Tmin, Tmax) data points\n",
    "        \n",
    "    # run prediction\n",
    "    # To generate a sequence, run a trained cell in a loop passing as input and input state\n",
    "    # respectively the output and output state from the previous iteration\n",
    "    results = []\n",
    "    for i in range(run_length//N_FORWARD+1):\n",
    "        r = predict_fn({\"features\": Yout, \"Hin\": H, \"dropout_pkeep\": 1.0}) # no dropout during inference\n",
    "        Yout = r[\"Yout\"]\n",
    "        H = r[\"H\"]\n",
    "        results.append(Yout[0]) # shape [N_FORWARD, 2]\n",
    "        \n",
    "    return np.concatenate(results, axis=0)[:run_length]"
   ]
  },
  {
   "cell_type": "markdown",
   "id": "dramatic-gibraltar",
   "metadata": {},
   "source": [
    "## Validation"
   ]
  },
  {
   "cell_type": "code",
   "execution_count": null,
   "id": "broken-boutique",
   "metadata": {},
   "outputs": [],
   "source": [
    "QYEAR = 365//(RESAMPLE_BY*4)\n",
    "YEAR = 365//(RESAMPLE_BY)\n",
    "\n",
    "# Try starting predictions from January / March / July (respectively OFFSET = YEAR or YEAR+QYEAR or YEAR+2*QYEAR)\n",
    "# Some start dates are more challenging for the model than others\n",
    "OFFSET = 30*YEAR+1*QYEAR\n",
    "\n",
    "PRIMELEN = 5*YEAR\n",
    "RUNLEN = 3*YEAR\n",
    "RMSELEN=3*365//(RESAMPLE_BY*2) # accuracy of predictions 1.5 years in advance"
   ]
  },
  {
   "cell_type": "code",
   "execution_count": null,
   "id": "banned-dodge",
   "metadata": {},
   "outputs": [],
   "source": [
    "# Restore the model from the last checkpoint saved previously\n",
    "\n",
    "# Alternative checkpoints:\n",
    "# Once you have trained on all 1666 weather stations on Google Cloud AI Platform, you can load the checkpoint from there.\n",
    "# SAVEDMODEL = \"gs://{BUCKET}/sinejobs/sines_XXXXXX_XXXXXX/cpktXXXXXXXX\"\n",
    "\n",
    "predict_fn = tf.contrib.predictor.from_saved_model(SAVEDMODEL)"
   ]
  },
  {
   "cell_type": "code",
   "execution_count": null,
   "id": "narrow-possession",
   "metadata": {},
   "outputs": [],
   "source": [
    "for evaldata in evaltemps:\n",
    "    prime_data = evaldata[OFFSET:OFFSET+PRIMELEN]\n",
    "    results = prediction_run(predict_fn, prime_data, RUNLEN)\n",
    "    utils_display.picture_this_6(evaldata, evaldates, prime_data, results, PRIMELEN, RUNLEN, OFFSET, RMSELEN)"
   ]
  },
  {
   "cell_type": "code",
   "execution_count": null,
   "id": "educational-accordance",
   "metadata": {},
   "outputs": [],
   "source": [
    "rmses = []\n",
    "bad_ones = 0\n",
    "for offset in [YEAR, YEAR+QYEAR, YEAR+2*QYEAR]:\n",
    "    for evaldata in evaltemps:\n",
    "        prime_data = evaldata[offset:offset+PRIMELEN]\n",
    "        results = prediction_run(predict_fn, prime_data, RUNLEN)\n",
    "        rmse = math.sqrt(np.mean((evaldata[offset+PRIMELEN:offset+PRIMELEN+RMSELEN] - results[:RMSELEN])**2))\n",
    "        rmses.append(rmse)\n",
    "        if rmse > 7: \n",
    "            bad_ones += 1\n",
    "        print(\"RMSE on {} predictions (shaded area): {}\".format(RMSELEN, rmse))\n",
    "print(\"Average RMSE on {} weather stations: {} ({} really bad ones, i.e. 7.0)\".format(len(evaltemps), np.mean(rmses), bad_ones))\n",
    "sys.stdout.flush()"
   ]
  }
 ],
 "metadata": {
  "kernelspec": {
   "display_name": "Python 3",
   "language": "python",
   "name": "python3"
  },
  "language_info": {
   "codemirror_mode": {
    "name": "ipython",
    "version": 3
   },
   "file_extension": ".py",
   "mimetype": "text/x-python",
   "name": "python",
   "nbconvert_exporter": "python",
   "pygments_lexer": "ipython3",
   "version": "3.8.5"
  }
 },
 "nbformat": 4,
 "nbformat_minor": 5
}
