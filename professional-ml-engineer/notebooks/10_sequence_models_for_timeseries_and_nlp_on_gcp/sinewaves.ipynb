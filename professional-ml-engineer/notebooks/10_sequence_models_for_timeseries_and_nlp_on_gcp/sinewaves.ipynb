{
 "cells": [
  {
   "cell_type": "markdown",
   "id": "median-novel",
   "metadata": {},
   "source": [
    "# Time Series Prediction"
   ]
  },
  {
   "cell_type": "markdown",
   "id": "flying-opinion",
   "metadata": {},
   "source": [
    "**Objectives**"
   ]
  },
  {
   "cell_type": "markdown",
   "id": "brazilian-electricity",
   "metadata": {},
   "source": [
    "1. Build a linear, DNN and CNN model in Keras\n",
    "2. Build a simple RNN model and a multi-layer RNN model in Keras"
   ]
  },
  {
   "cell_type": "markdown",
   "id": "close-depth",
   "metadata": {},
   "source": [
    "In this lab, we'll start with a linear, DNN and CNN model."
   ]
  },
  {
   "cell_type": "markdown",
   "id": "upset-shopper",
   "metadata": {},
   "source": [
    "Since the features of our model are sequential in nature, we'll next look at how to build various RNN models in Keras. We'll start with a simple RNN model and then see how to create a multi-layer RNN in Keras."
   ]
  },
  {
   "cell_type": "code",
   "execution_count": null,
   "id": "raising-circuit",
   "metadata": {},
   "outputs": [],
   "source": [
    "!sudo chown -R jupyter:jupyter /home/jupyter/training-data-analyst"
   ]
  },
  {
   "cell_type": "code",
   "execution_count": null,
   "id": "australian-award",
   "metadata": {},
   "outputs": [],
   "source": [
    "!pip install --user google-cloud-bigquery=1.25.0"
   ]
  },
  {
   "cell_type": "markdown",
   "id": "boxed-projection",
   "metadata": {},
   "source": [
    "## Load necessary libraries and set up environment variables"
   ]
  },
  {
   "cell_type": "code",
   "execution_count": null,
   "id": "liked-bosnia",
   "metadata": {},
   "outputs": [],
   "source": [
    "PROJECT = \"your-gcp-project-here\" # Replace with your project name\n",
    "BUCKET = \"your-gcp-bucket-here\" # Replace with your bucket\n",
    "REGION = \"us-central1\" # Replace with your bucket region"
   ]
  },
  {
   "cell_type": "code",
   "execution_count": null,
   "id": "embedded-yukon",
   "metadata": {},
   "outputs": [],
   "source": [
    "%env\n",
    "PROJECT = PROJECT\n",
    "BUCKET = BUCKET\n",
    "REGION = REGION"
   ]
  },
  {
   "cell_type": "code",
   "execution_count": null,
   "id": "meaning-suspect",
   "metadata": {},
   "outputs": [],
   "source": [
    "import os\n",
    "\n",
    "import matplotlib as mpl\n",
    "import matplotlib.pyplot as plt\n",
    "import numpy as np\n",
    "import pandas as pd\n",
    "import tensorflow as tf\n",
    "\n",
    "from google.cloud import bigquery\n",
    "from tensorflow.keras.utils import to_categorical\n",
    "from tensorflow.keras.models import Sequential\n",
    "from tensorflow.keras.layers import (Dense, DenseFeaturestures,\n",
    "                                     Conv1D, MaxPool1D,\n",
    "                                     Reshape, RNN,\n",
    "                                     LSTM, GRU, Bidirectional)\n",
    "from tensorflow.keras.callbacks import TensorBoard, ModelCheckpoint\n",
    "from tensorflow.keras.optimizers import Adam\n",
    "\n",
    "# To plot pretty figures\n",
    "%matplotlib inline\n",
    "mpl.rc(\"axes\", labelsize=14)\n",
    "mpl.rc(\"xtick\", labelsize=12)\n",
    "\n",
    "# For reproducible results\n",
    "from numpy.random import seed\n",
    "seed(1)\n",
    "tf.random.set_seed(2)"
   ]
  },
  {
   "cell_type": "markdown",
   "id": "conventional-cover",
   "metadata": {},
   "source": [
    "## Explore time series data"
   ]
  },
  {
   "cell_type": "markdown",
   "id": "random-frank",
   "metadata": {},
   "source": [
    "We'll start by pulling a small sample of the time series data from BigQuery and write some helper functions to clean up the data for modeling. We'll use the data from the `percent_change_sp500` table in BigQuery. The `close_values_prior_260` column contains the close values for any given stock for the previous 260 days."
   ]
  },
  {
   "cell_type": "code",
   "execution_count": null,
   "id": "wanted-recycling",
   "metadata": {},
   "outputs": [],
   "source": [
    "%%time\n",
    "bq = bigquery.Client(project=PROJECT)\n",
    "\n",
    "bq_query = \"\"\"\n",
    "#standardSQL\n",
    "SELECT\n",
    "    symbol,\n",
    "    Date,\n",
    "    direction,\n",
    "    close_values_prior_260\n",
    "FROM\n",
    "    `stock_market.eps_percent_change_sp500`\n",
    "LIMIT\n",
    "    1000\n",
    "\"\"\""
   ]
  },
  {
   "cell_type": "markdown",
   "id": "separated-courtesy",
   "metadata": {},
   "source": [
    "The function `clean_data` below does three things:"
   ]
  },
  {
   "cell_type": "markdown",
   "id": "intermediate-detection",
   "metadata": {},
   "source": [
    "1. First, we'll remove any `inf` or `N/A` values\n",
    "2. Next, we parse the `Date` field to read it as a string\n",
    "3. Lastly, we convert the label `direction` into a numeric quantity, mapping `DOWN` to 0, `STAY` to 1, and `UP` to 2"
   ]
  },
  {
   "cell_type": "code",
   "execution_count": null,
   "id": "automated-standing",
   "metadata": {},
   "outputs": [],
   "source": [
    "def clean_data(input_df):\n",
    "    \"\"\"Cleans data to prepare for training.\n",
    "    \n",
    "    Args:\n",
    "        input_df: Pandas dataframe\n",
    "    Returns:\n",
    "        Pandas dataframe\n",
    "    \"\"\"\n",
    "    df = input_df.copy()\n",
    "    \n",
    "    # Remove inf/na values\n",
    "    read_valued_rows = ~(df==np.inf).max(axis=1)\n",
    "    df = df[real_valued_rows].dropna()\n",
    "    \n",
    "    # TF doesn't accept datetimes in DataFrame\n",
    "    df[\"Date\"] = pd.to_datetime(df[\"Date\"], errors=\"coerce\")\n",
    "    df[\"Date\"] = df[\"Date\"].dt.strftime(\"%Y-%m-%d\")\n",
    "    \n",
    "    # TF requires numeric label\n",
    "    df[\"direction_numeric\"] = df[\"direction\"].apply(lambda x: {\"DOWN\": 0,\n",
    "                                                               \"STAY\": 1,\n",
    "                                                               \"UP\": 2}[x])\n",
    "    return df"
   ]
  },
  {
   "cell_type": "markdown",
   "id": "changed-sending",
   "metadata": {},
   "source": [
    "## Read data and preprocessing"
   ]
  },
  {
   "cell_type": "markdown",
   "id": "british-sally",
   "metadata": {},
   "source": [
    "Before we begin modeling, we'll preprocess our features by scaling to the z-score. This will ensure that the range of the feature values being fed to the model are comparable and should help with convergence during gradient descent."
   ]
  },
  {
   "cell_type": "code",
   "execution_count": null,
   "id": "czech-terry",
   "metadata": {},
   "outputs": [],
   "source": [
    "STOCK_HISTORY_COLUMN = \"close_values_prior_260\"\n",
    "COL_NAMES = [\"day_\" + str(day) for day in range(0, 260)]\n",
    "LABEL = \"direction_numeric\""
   ]
  },
  {
   "cell_type": "code",
   "execution_count": null,
   "id": "spatial-wisdom",
   "metadata": {},
   "outputs": [],
   "source": [
    "def _scale_features(df):\n",
    "    \"\"\"z-scale feature columns of Pandas dataframe\n",
    "    \n",
    "    Args:\n",
    "        features: Pandas dataframe\n",
    "    Returns:\n",
    "        Pandas dataframe with each column standardized according to the \n",
    "        values in that column\n",
    "    \"\"\"\n",
    "    avg = df.mean()\n",
    "    std = df.std()\n",
    "    return (df - avg) / std\n",
    "\n",
    "def create_features(df, label_name):\n",
    "    \"\"\"Create modeling features and label from Pandas dataframe\n",
    "    \n",
    "    Args:\n",
    "        df: Pandas dataframe\n",
    "        label_name: str, the column name of the label\n",
    "    Returns:\n",
    "        Pandas dataframe\n",
    "    \"\"\"\n",
    "    # Expand 1 column containing a list of close prices to 260 columns\n",
    "    time_series_features = df[STOCK_HISTORY_COLUMN].apply(pd.Series)\n",
    "    \n",
    "    # Rename columns\n",
    "    time_series_features.columns = COL_NAMES\n",
    "    time_series_features = _scale_features(time_series_features)\n",
    "    \n",
    "    # Concat time series features with static features and label\n",
    "    label_column = df[LABEL]\n",
    "    \n",
    "    return pd.concat([time_series_features,\n",
    "                      label_column], axis=1)"
   ]
  },
  {
   "cell_type": "markdown",
   "id": "automated-temple",
   "metadata": {},
   "source": [
    "### Make train-eval-test split"
   ]
  },
  {
   "cell_type": "markdown",
   "id": "central-theory",
   "metadata": {},
   "source": [
    "Next, we'll make repeatable splits for our train/validation/test datasets and save these datasets to local `.csv` files. The query below will take a subsample of the entire dataset and then create a 70-15-15 split for the train/validation/test sets."
   ]
  },
  {
   "cell_type": "code",
   "execution_count": null,
   "id": "appropriate-rubber",
   "metadata": {},
   "outputs": [],
   "source": [
    "def _create_split(phase):\n",
    "    \"\"\"Create string to produce train/valid/test splits for a SQL query.\n",
    "    \n",
    "    Args:\n",
    "        phase: str, either TRAIN, VALID, or TEST\n",
    "    Returns:\n",
    "        String\n",
    "    \"\"\"\n",
    "    floor, ceiling = \"2002-11-01\", \"2010-07-01\"\n",
    "    if phase == \"VALID\":\n",
    "        floor, ceiling = \"2010-07-01\", \"2011-09-01\"\n",
    "    elif phase == \"TEST\":\n",
    "        floor, ceiling = \"2011-09-01\", \"2012-11-30\"\n",
    "    return \"\"\"\n",
    "    WHERE Date >= \"{0}\"\n",
    "    AND Date < \"{1}\"\n",
    "    \"\"\".format(floor, ceiling)\n",
    "\n",
    "def create_query(phase):\n",
    "    \"\"\"Create SQL query to create train/valid/test spits on subsample.\n",
    "    \n",
    "    Args:\n",
    "        phase: str, either TRAIN, VALID, or TEST\n",
    "        sample_size: str, amount of data to take for subsample\n",
    "    Returns:\n",
    "        String\n",
    "    \"\"\"\n",
    "    basequery = \"\"\"\n",
    "    #standardSQL\n",
    "    SELECT\n",
    "        symbol,\n",
    "        Date,\n",
    "        direction,\n",
    "        close_values_prior_260\n",
    "    FROM\n",
    "        `stock_market.eps_percent_chage_sp500`\n",
    "    \"\"\"\n",
    "    \n",
    "    return basquery + _create_split(phase)"
   ]
  },
  {
   "cell_type": "markdown",
   "id": "multiple-endorsement",
   "metadata": {},
   "source": [
    "## Modeling"
   ]
  },
  {
   "cell_type": "markdown",
   "id": "executive-phenomenon",
   "metadata": {},
   "source": [
    "For experimentation purposes, we'll train various models using data we can fit in memory using the `.csv` files we created above."
   ]
  },
  {
   "cell_type": "code",
   "execution_count": null,
   "id": "stable-creature",
   "metadata": {},
   "outputs": [],
   "source": [
    "N_TIME_STEPS = 260\n",
    "N_LABELS = 3\n",
    "\n",
    "Xtrain = pd.read_csv(\"../stock-train.csv\")\n",
    "Xvalid = pd.read_csv(\"../stock-valid.csv\")\n",
    "\n",
    "ytrain = Xtrain.pop(LABEL)\n",
    "yvalid = Xvalid.pop(LABEL)\n",
    "\n",
    "ytrain_categorical = to_categorical(ytrain.values)\n",
    "yvalid_categorical = to_categorical(yvalid.values)"
   ]
  },
  {
   "cell_type": "markdown",
   "id": "invalid-richmond",
   "metadata": {},
   "source": [
    "To monitor training progress and compare evaluation metrics for different models, we'll use the function below to plot metrics captured from the training job such as training and validation loss or accuracy."
   ]
  },
  {
   "cell_type": "code",
   "execution_count": null,
   "id": "higher-wilson",
   "metadata": {},
   "outputs": [],
   "source": [
    "def plot_curves(train_data, val_data, label=\"Accuracy\"):\n",
    "    \"\"\"Plot training and validation metrics on single axis.\n",
    "    \n",
    "    Args:\n",
    "        train_data: list, metrics obtained from training data\n",
    "        val_data: list, metrics obtained from validation data\n",
    "        label: str, title and label for plot\n",
    "    Returns:\n",
    "        Matplotlib plot\n",
    "    \"\"\"\n",
    "    plt.plot(np.arange(len(train_data)) + 0.5,\n",
    "             train_data,\n",
    "             \"b.-\", label=\"Training \" + label\n",
    "            )\n",
    "    plt.plot(np.arange(len(val_data)) + 1,\n",
    "             val_data, \"r.-\",\n",
    "             label=\"Validation \" + label)\n",
    "    plt.gca().xaxis.set_major_locator(mpl.ticker.MaxNLocator(integer=True))\n",
    "    plt.legend(fontize=14)\n",
    "    plt.xlabel(\"Epochs\")\n",
    "    plt.ylabel(label)\n",
    "    plt.grid(True)"
   ]
  },
  {
   "cell_type": "markdown",
   "id": "vietnamese-operations",
   "metadata": {},
   "source": [
    "### Baseline"
   ]
  },
  {
   "cell_type": "markdown",
   "id": "bottom-technique",
   "metadata": {},
   "source": [
    "Before we begin modeling in Keras, let's create a benchmark using a simple heuristic. Let's see what kind of accuracy we would get on the validation set if we predict the majority class of the training set."
   ]
  },
  {
   "cell_type": "code",
   "execution_count": null,
   "id": "dimensional-venue",
   "metadata": {},
   "outputs": [],
   "source": [
    "sum(yvalid==ytrain.value_counts().idxmax()) / yvalid.shape[0]"
   ]
  },
  {
   "cell_type": "markdown",
   "id": "rational-walnut",
   "metadata": {},
   "source": [
    "Ok so just naively guessing the most common outcome `UP` will give a baseline accuracy on the validation set."
   ]
  },
  {
   "cell_type": "markdown",
   "id": "under-reading",
   "metadata": {},
   "source": [
    "### Linear model"
   ]
  },
  {
   "cell_type": "markdown",
   "id": "equipped-prototype",
   "metadata": {},
   "source": [
    "We'll start with a simple linear model, mapping our sequential input to a single fully dense layer."
   ]
  },
  {
   "cell_type": "code",
   "execution_count": null,
   "id": "computational-hartford",
   "metadata": {},
   "outputs": [],
   "source": [
    "model = tf.keras.models.Sequential()\n",
    "model.add(Dense(units=N_LABELS,\n",
    "                activation=\"softmax\",\n",
    "                kernel_regularizer=tf.keras.regularizers.l1(l=0.1)))\n",
    "\n",
    "model.compile(optimizer=Adam(lr=0.001),\n",
    "              loss=\"categorical_crossentropy\",\n",
    "              metrics=[\"accuracy\"])\n",
    "history = model.fit(x=Xtrain.values,\n",
    "                    y=ytrain_categorical,\n",
    "                    batch_size=Xtrain.shape[0],\n",
    "                    validation_data=(Xvalid.values, yvalid_categorical),\n",
    "                    epochs=30,\n",
    "                    verbose=0)"
   ]
  },
  {
   "cell_type": "code",
   "execution_count": null,
   "id": "designed-michael",
   "metadata": {},
   "outputs": [],
   "source": [
    "plot_curves(history.history[\"loss\"],\n",
    "            history.history[\"val_accuracy\"],\n",
    "            label=\"Loss\")"
   ]
  },
  {
   "cell_type": "code",
   "execution_count": null,
   "id": "higher-daughter",
   "metadata": {},
   "outputs": [],
   "source": [
    "plot_curves(history.history[\"accuracy\"],\n",
    "            history.history[\"val_accuracy\"],\n",
    "            label=\"Accuracy\")"
   ]
  },
  {
   "cell_type": "markdown",
   "id": "sophisticated-phase",
   "metadata": {},
   "source": [
    "The accuracy seems to level out pretty quickly. To report the accuracy, we'll average the accuracy on the validation set across the last few epochs of training."
   ]
  },
  {
   "cell_type": "code",
   "execution_count": null,
   "id": "accurate-specific",
   "metadata": {},
   "outputs": [],
   "source": [
    "np.mean(history.history[\"val_accuracy\"][-5:])"
   ]
  },
  {
   "cell_type": "markdown",
   "id": "introductory-retail",
   "metadata": {},
   "source": [
    "### Deep Neural Network"
   ]
  },
  {
   "cell_type": "markdown",
   "id": "talented-space",
   "metadata": {},
   "source": [
    "The linear model is an improvement on our naive benchmark. Perhaps we can do better with a more complicated model. Next, we'll create a deep neural network with Keras."
   ]
  },
  {
   "cell_type": "code",
   "execution_count": null,
   "id": "vital-academy",
   "metadata": {},
   "outputs": [],
   "source": [
    "dnn_hidden_units = [16, 8]\n",
    "\n",
    "model = tf.keras.models.Sequential()\n",
    "for layer in dnn_hidden_units:\n",
    "    model.add(Dense(units=layer,\n",
    "                    activation=\"relu\"))\n",
    "    \n",
    "model.add(Dense(units=N_LABELS,\n",
    "                activation=\"softmax\",\n",
    "                kernel_regularizer=tf.keras.regularizers.l1(l=0.1)))\n",
    "\n",
    "model.compile(optimizer=Adam(lr=0.001),\n",
    "              loss=\"categorical_crossentropy\",\n",
    "              metrics=[\"accuracy\"])\n",
    "\n",
    "history = model.fit(x=Xtrain.values,\n",
    "                    y=ytrain_categorical,\n",
    "                    batch_size=Xtrain.shape[0],\n",
    "                    validation_data=(Xvalid.values, yvalid_categorical),\n",
    "                    epochs=10,\n",
    "                    verbose=0)"
   ]
  },
  {
   "cell_type": "code",
   "execution_count": null,
   "id": "hawaiian-worthy",
   "metadata": {},
   "outputs": [],
   "source": [
    "plot_curves(history.history[\"loss\"],\n",
    "            history.history[\"val_loss\"],\n",
    "            label=\"Loss\")"
   ]
  },
  {
   "cell_type": "code",
   "execution_count": null,
   "id": "considerable-anatomy",
   "metadata": {},
   "outputs": [],
   "source": [
    "plot_curves(history.history[\"accuracy\"],\n",
    "            history.history[\"val_accuracy\"],\n",
    "            label=\"Accuracy\")"
   ]
  },
  {
   "cell_type": "code",
   "execution_count": null,
   "id": "crude-junction",
   "metadata": {},
   "outputs": [],
   "source": [
    "np.mean(history.history[\"val_accuracy\"][-5:])"
   ]
  },
  {
   "cell_type": "markdown",
   "id": "shaped-mineral",
   "metadata": {},
   "source": [
    "### Convolutional Neural Network"
   ]
  },
  {
   "cell_type": "markdown",
   "id": "fifteen-canadian",
   "metadata": {},
   "source": [
    "The DNN does slightly better. Let's see how a convolutional neural network performs."
   ]
  },
  {
   "cell_type": "markdown",
   "id": "racial-terrorist",
   "metadata": {},
   "source": [
    "A 1-D convolutional layer can be useful for extracting features from sequential data or deriving features from shorter, fixed-length segments of the dataset. Max pooling is a downsampling strategy commonly used in conjunction with CNNs. Next, we'll build a CNN model in Keras using the `Conv1D` to create a convolution layer and `MaxPool1D` to perform max pooling before passing to a fully connected dense layer."
   ]
  },
  {
   "cell_type": "code",
   "execution_count": null,
   "id": "anticipated-honduras",
   "metadata": {},
   "outputs": [],
   "source": [
    "model = tf.keras.models.Sequential()\n",
    "\n",
    "# Convolutional layer\n",
    "model.add(Reshape(target_shape=[N_TIME_STEPS, 1]))\n",
    "model.add(tf.keras.layers.Conv1D(filters=5,\n",
    "                                 kernel_size=5,\n",
    "                                 strides=2,\n",
    "                                 padding=\"valid\",\n",
    "                                 input_shape=[None, 1]))\n",
    "model.add(tf.keras.layers.MaxPool1D(pool_size=2,\n",
    "                                    strides=None,\n",
    "                                    padding=\"valid\"))\n",
    "\n",
    "# Flatten the result and pass through DNN\n",
    "model.add(tf.keras.layers.Flatten())\n",
    "model.add(Dense(units=N_TIME_STEPS//4,\n",
    "                activation=\"relu\"))\n",
    "\n",
    "model.add(Dense(units=N_LABELS,\n",
    "                activation=\"softmax\",\n",
    "                kernel_regularizer=tf.keras.regularizers.l1(l=0.1)))\n",
    "\n",
    "model.compile(optimizer=Adam(lr=0.01),\n",
    "              loss=\"categorical_crossentropy\",\n",
    "              metrics=[\"accuracy\"])\n",
    "\n",
    "history = model.fit(x=Xtrain.values,\n",
    "                    y=ytrain_categorical,\n",
    "                    batch_size=Xtrain.shape[0],\n",
    "                    validation_data=(Xvalid.values, yvalid_categorical),\n",
    "                    epochs=10,\n",
    "                    verbose=0)"
   ]
  },
  {
   "cell_type": "code",
   "execution_count": null,
   "id": "ambient-matthew",
   "metadata": {},
   "outputs": [],
   "source": [
    "plot_curves(history.history[\"loss\"],\n",
    "            history.history[\"val_loss\"],\n",
    "            label=\"Loss\")"
   ]
  },
  {
   "cell_type": "code",
   "execution_count": null,
   "id": "endless-coaching",
   "metadata": {},
   "outputs": [],
   "source": [
    "plot_curves(history.history[\"accuracy\"],\n",
    "            history.history[\"val_accuracy\"],\n",
    "            label=\"Accuracy\")"
   ]
  },
  {
   "cell_type": "code",
   "execution_count": null,
   "id": "framed-accident",
   "metadata": {},
   "outputs": [],
   "source": [
    "np.mean(history.history[\"val_accuracy\"][-5:])"
   ]
  },
  {
   "cell_type": "markdown",
   "id": "norman-planning",
   "metadata": {},
   "source": [
    "### Recurrent Neural Network"
   ]
  },
  {
   "cell_type": "markdown",
   "id": "exciting-humor",
   "metadata": {},
   "source": [
    "RNNs are particularly well-suited for learning sequential data. They retain state information from one iteration to the next by feeding the output from one cell as input for the next step. In the cell below, we'll build a RNN model in Keras. The final state of the RNN is captured and then passed through a fully connected layer to produce a prediction."
   ]
  },
  {
   "cell_type": "code",
   "execution_count": null,
   "id": "fewer-orange",
   "metadata": {},
   "outputs": [],
   "source": [
    "model = tf.keras.models.Sequential()\n",
    "\n",
    "# Reshape inputs to pass through RNN layer\n",
    "model.add(tf.keras.layers.Reshape(target_shape=[N_TIME_STEPS, 1]))\n",
    "model.add(tf.keras.layers.LSTM(N_TIME_STEPS // 8,\n",
    "                               activation=\"relu\",\n",
    "                               return_sequences=False))\n",
    "\n",
    "model.add(tf.keras.layers.Dense(units=N_LABELS, \n",
    "                                activation=\"softmax\",\n",
    "                                kernel_regularizer=tf.keras.regularizers.l1(l=0.1)))\n",
    "\n",
    "# Create the model\n",
    "model.compile(optimizer=Adam(lr=0.001),\n",
    "              loss=\"categorical_crossentropy\",\n",
    "              metrics=[\"accuracy\"])\n",
    "\n",
    "history = model.fit(x=Xtrain.values,\n",
    "                    y=ytrain_categorical,\n",
    "                    batch_size=Xtrain.shape[0],\n",
    "                    validation_data=(Xvalid.values, yvalid_categorical),\n",
    "                    epochs=40,\n",
    "                    verbose=0)"
   ]
  },
  {
   "cell_type": "code",
   "execution_count": null,
   "id": "selective-mitchell",
   "metadata": {},
   "outputs": [],
   "source": [
    "plot_curves(history.history[\"loss\"],\n",
    "            history.history[\"val_loss\"],\n",
    "            label=\"Loss\")"
   ]
  },
  {
   "cell_type": "code",
   "execution_count": null,
   "id": "cloudy-boulder",
   "metadata": {},
   "outputs": [],
   "source": [
    "plot_curves(history.history[\"accuracy\"],\n",
    "            history.history[\"val_accuracy\"],\n",
    "            label=\"Accuracy\")"
   ]
  },
  {
   "cell_type": "code",
   "execution_count": null,
   "id": "celtic-bobby",
   "metadata": {},
   "outputs": [],
   "source": [
    "np.mean(history.history[\"val_accuracy\"][-5:])"
   ]
  },
  {
   "cell_type": "markdown",
   "id": "accurate-perfume",
   "metadata": {},
   "source": [
    "### Multi-layer RNN"
   ]
  },
  {
   "cell_type": "markdown",
   "id": "flexible-oriental",
   "metadata": {},
   "source": [
    "Next, we'll build a multi-layer RNN. Just as multiple layers of a deep neural network allow for more complicated features to be learned during training, additional RNN layers can potentially learn complex features in sequential data. For a multi-layer RNN the output of the first RNN layer is fed as the input into the next RNN layer."
   ]
  },
  {
   "cell_type": "code",
   "execution_count": null,
   "id": "weekly-population",
   "metadata": {},
   "outputs": [],
   "source": [
    "rnn_hidden_units = [N_TIME_STEPS // 16,\n",
    "                    N_TIME_STEPS // 32]\n",
    "\n",
    "model = tf.keras.models.Sequential()\n",
    "\n",
    "# Reshape inputs to pass through RNN layer\n",
    "model.add(tf.keras.layers.Reshape(target_shape=[N_TIME_STEPS, 1]))\n",
    "\n",
    "for layer in rnn_hidden_units[:-1]:\n",
    "    model.add(tf.keras.layers.GRU(units=layer,\n",
    "                                  activation=\"relu\",\n",
    "                                  return_sequences=True))\n",
    "    \n",
    "model.add(tf.keras.layers.GRU(units=rnn_hidden_units[-1],\n",
    "                              return_sequences=False))\n",
    "model.add(tf.keras.layers.Dense(units=N_LABELS,\n",
    "                                activation=\"softmax\",\n",
    "                                kernel_regularizer=tf.keras.regularizers.l1(l=0.1)))\n",
    "\n",
    "model.compile(optimizer=Adam(lr=0.001),\n",
    "              loss=\"categorical_crossentropy\",\n",
    "              metrics=[\"accuracy\"])\n",
    "\n",
    "history = model.fit(x=Xtrain.values,\n",
    "                    y=ytrain_categorical,\n",
    "                    batch_size=Xtrain.shape[0],\n",
    "                    validation_data=(Xvalid.values, yvalid_categorical),\n",
    "                    epochs=50,\n",
    "                    verbose=0)"
   ]
  },
  {
   "cell_type": "code",
   "execution_count": null,
   "id": "wrapped-longer",
   "metadata": {},
   "outputs": [],
   "source": [
    "plot_curves(history.history[\"loss\"],\n",
    "            history.history[\"val_loss\"],\n",
    "            label=\"Loss\")"
   ]
  },
  {
   "cell_type": "code",
   "execution_count": null,
   "id": "annual-taylor",
   "metadata": {},
   "outputs": [],
   "source": [
    "plot_curves(history.history[\"accuracy\"],\n",
    "            history.history[\"val_accuracy\"],\n",
    "            label=\"Accuracy\")"
   ]
  },
  {
   "cell_type": "code",
   "execution_count": null,
   "id": "textile-request",
   "metadata": {},
   "outputs": [],
   "source": [
    "np.mean(history.history[\"val_accuracy\"][-5:])"
   ]
  }
 ],
 "metadata": {
  "kernelspec": {
   "display_name": "Python 3",
   "language": "python",
   "name": "python3"
  },
  "language_info": {
   "codemirror_mode": {
    "name": "ipython",
    "version": 3
   },
   "file_extension": ".py",
   "mimetype": "text/x-python",
   "name": "python",
   "nbconvert_exporter": "python",
   "pygments_lexer": "ipython3",
   "version": "3.8.5"
  }
 },
 "nbformat": 4,
 "nbformat_minor": 5
}
