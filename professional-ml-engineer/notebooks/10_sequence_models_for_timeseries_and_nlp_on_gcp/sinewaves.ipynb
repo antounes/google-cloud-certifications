{
 "cells": [
  {
   "cell_type": "markdown",
   "id": "advance-specification",
   "metadata": {},
   "source": [
    "# Time Series Prediction"
   ]
  },
  {
   "cell_type": "markdown",
   "id": "certified-australia",
   "metadata": {},
   "source": [
    "**Objectives**"
   ]
  },
  {
   "cell_type": "markdown",
   "id": "assured-adobe",
   "metadata": {},
   "source": [
    "1. Build a linear, DNN and CNN model in Keras\n",
    "2. Build a simple RNN model and a multi-layer RNN model in Keras"
   ]
  },
  {
   "cell_type": "markdown",
   "id": "based-jordan",
   "metadata": {},
   "source": [
    "In this lab, we'll start with a linear, DNN and CNN model."
   ]
  },
  {
   "cell_type": "markdown",
   "id": "atlantic-teach",
   "metadata": {},
   "source": [
    "Since the features of our model are sequential in nature, we'll next look at how to build various RNN models in Keras. We'll start with a simple RNN model and then see how to create a multi-layer RNN in Keras."
   ]
  },
  {
   "cell_type": "code",
   "execution_count": null,
   "id": "indirect-season",
   "metadata": {},
   "outputs": [],
   "source": []
  }
 ],
 "metadata": {
  "kernelspec": {
   "display_name": "Python 3",
   "language": "python",
   "name": "python3"
  },
  "language_info": {
   "codemirror_mode": {
    "name": "ipython",
    "version": 3
   },
   "file_extension": ".py",
   "mimetype": "text/x-python",
   "name": "python",
   "nbconvert_exporter": "python",
   "pygments_lexer": "ipython3",
   "version": "3.8.5"
  }
 },
 "nbformat": 4,
 "nbformat_minor": 5
}
