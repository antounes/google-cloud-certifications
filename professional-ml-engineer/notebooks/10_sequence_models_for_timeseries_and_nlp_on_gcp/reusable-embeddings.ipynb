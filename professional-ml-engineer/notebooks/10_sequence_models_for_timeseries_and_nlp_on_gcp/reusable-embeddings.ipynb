{
 "cells": [
  {
   "cell_type": "markdown",
   "id": "military-place",
   "metadata": {},
   "source": [
    "# Using pre-trained embedding with Tensorflow Hub"
   ]
  },
  {
   "cell_type": "markdown",
   "id": "atomic-february",
   "metadata": {},
   "source": [
    "**Learning objectives**"
   ]
  },
  {
   "cell_type": "markdown",
   "id": "better-tutorial",
   "metadata": {},
   "source": [
    "1. How to instantiate a Tensorflow Hub module\n",
    "2. How to find pretrained Tensorflow Hub module\n",
    "3. How to use a pre-trained Tensorflow Hub text module to generate sentence vectors\n",
    "4. How to incorporate a pre-trained Tensorflow Hub module into a Keras model"
   ]
  },
  {
   "cell_type": "markdown",
   "id": "infectious-office",
   "metadata": {},
   "source": [
    "## Introduction"
   ]
  },
  {
   "cell_type": "markdown",
   "id": "potential-basket",
   "metadata": {},
   "source": [
    "In this notebook, we will experiment text models to recognise the probable source (Github, Tech-Crunch, or The New York Times) of the titles we have in the title dataset."
   ]
  },
  {
   "cell_type": "markdown",
   "id": "passing-zoning",
   "metadata": {},
   "source": [
    "First, we will load and pre-process the texts and labels so that they are suitable to be fed to sequential Keras models with first layer being Tensorflow Hub pre-trained modules. Thanks to this first layer, we won't need to tokenise and integerise the text before passing it to our models. The pre-trained layer will take care of that for us, and consume directly raw text. However, we will still have to one-hot encode each of the 3 classes into a 3 dimensional basis vector."
   ]
  },
  {
   "cell_type": "markdown",
   "id": "computational-guide",
   "metadata": {},
   "source": [
    "Then we will build, train and compare simple models starting with different pre-trained Tensorflow Hub layers."
   ]
  },
  {
   "cell_type": "code",
   "execution_count": null,
   "id": "caroline-robinson",
   "metadata": {},
   "outputs": [],
   "source": [
    "!sudo chown -R jupyter:jupyter /home/jupyter/trainin-data-analyst"
   ]
  },
  {
   "cell_type": "code",
   "execution_count": null,
   "id": "rough-freedom",
   "metadata": {},
   "outputs": [],
   "source": [
    "!pip install --user google-cloud-bigquery==1.25.0"
   ]
  },
  {
   "cell_type": "code",
   "execution_count": null,
   "id": "blank-style",
   "metadata": {},
   "outputs": [],
   "source": [
    "import os\n",
    "\n",
    "from google.cloud import bigquery\n",
    "import pandas as pd"
   ]
  },
  {
   "cell_type": "code",
   "execution_count": null,
   "id": "subjective-monkey",
   "metadata": {},
   "outputs": [],
   "source": [
    "%load_ext google.cloud.bigquery"
   ]
  },
  {
   "cell_type": "code",
   "execution_count": null,
   "id": "certified-joseph",
   "metadata": {},
   "outputs": [],
   "source": [
    "PROJECT = \"cloud-training-demos\" # Replace with your PROJECT\n",
    "BUCKET = PROJECT # defaults to PROJECT\n",
    "REGION = \"us-central1\" # Replace with your REGION\n",
    "SEED = 0"
   ]
  },
  {
   "cell_type": "markdown",
   "id": "micro-combat",
   "metadata": {},
   "source": [
    "## Create a dataset from BigQuery"
   ]
  },
  {
   "cell_type": "markdown",
   "id": "buried-refund",
   "metadata": {},
   "source": [
    "Hackernews headlines are available as a BigQuery public dataset. The dataset contains all headlines from the sites inception in October 2006 until October 2015."
   ]
  },
  {
   "cell_type": "markdown",
   "id": "standard-transcription",
   "metadata": {},
   "source": [
    "Here is a sample of the dataset:"
   ]
  },
  {
   "cell_type": "code",
   "execution_count": null,
   "id": "respected-purple",
   "metadata": {},
   "outputs": [],
   "source": [
    "%%bigquery --project $PROJECT\n",
    "\n",
    "SELECT\n",
    "    url, title, score\n",
    "FROM\n",
    "    `bigquery-public-data.hacker_news.stories`\n",
    "WHERE\n",
    "    LENGTH(title) > 10\n",
    "    AND score > 10\n",
    "    AND LENGTH(url) > 0\n",
    "LIMIT 10"
   ]
  },
  {
   "cell_type": "markdown",
   "id": "immediate-strengthening",
   "metadata": {},
   "source": [
    "Let's do some regular expression parsing in BigQuery to get the source of the newspaper article from the URL."
   ]
  },
  {
   "cell_type": "code",
   "execution_count": null,
   "id": "victorian-period",
   "metadata": {},
   "outputs": [],
   "source": [
    "%%bigquery --project $PROJECT\n",
    "\n",
    "SELECT\n",
    "    ARRAY_REVERSE(SPLIT(REGEXP_EXTRACT(url, \".*://(.[^/]+)/\"), \".\"))[OFFSET(1)] AS source,\n",
    "    COUNT(title) AS num_articles\n",
    "FROM\n",
    "    `bigquery-public-data.hacker_news.stories`\n",
    "WHERE\n",
    "    REGEXP_CONTAINS(REGEXP_EXTRACT(url, \".*://(.[^/]+)/\"), \".com$\")\n",
    "    AND LENGTH(title > 10)\n",
    "GROUP BY\n",
    "    source\n",
    "ORDER BY num_articles DESC\n",
    "LIMIT 100"
   ]
  },
  {
   "cell_type": "markdown",
   "id": "flush-monday",
   "metadata": {},
   "source": [
    "Now that we have good parsing of the URL to get the source, let's put together a dataset of source and titles. This will be our labeled dataset for ML."
   ]
  },
  {
   "cell_type": "code",
   "execution_count": null,
   "id": "excessive-vermont",
   "metadata": {},
   "outputs": [],
   "source": [
    "regex = \".*://(.[^/]+)/\"\n",
    "\n",
    "sub_query = \"\"\"\n",
    "SELECT\n",
    "    title,\n",
    "    ARRAY_REVERSE(SPLIT(REGEXP_EXTRACT(url, '{0}'), '.'))[OFFSET(1)] AS source\n",
    "FROM\n",
    "    `bigquery-public-data.hacker_news.stories`\n",
    "WHERE\n",
    "    REGEXP_CONTAINS(REGEXP_EXTRACT(url, '{0}'), '.com$')\n",
    "    AND LENGTH(title) > 10\n",
    "\"\"\".format(regex)\n",
    "\n",
    "query = \"\"\"\n",
    "SELECT\n",
    "    LOWER(REGEXP_REPLACE(title, '[^a-zA-Z0-9 $.-]', ' ')) AS title,\n",
    "    source\n",
    "FROM\n",
    "    ({sub_query})\n",
    "WHERE\n",
    "    (source = \"github\" OR source = \"nytimes\" OR source = \"techcrunch\")\n",
    "\"\"\".format(sub_query=sub_query)\n",
    "\n",
    "print(query)"
   ]
  },
  {
   "cell_type": "markdown",
   "id": "european-feelings",
   "metadata": {},
   "source": [
    "For ML training, we usually need to split our dataset into training and evaluation datasets (and perhaps an independent test dataset if we are going to do model or feature selection based on the evaluation dataset). AutoML however figures out on its own how to create these splits, so we won't need to do that here."
   ]
  },
  {
   "cell_type": "code",
   "execution_count": null,
   "id": "sublime-prerequisite",
   "metadata": {},
   "outputs": [],
   "source": [
    "bq = bigquery.Client(project=PROJECT)\n",
    "title_dataset = bq.query(query).to_dataframe()\n",
    "title_dataset.head()"
   ]
  },
  {
   "cell_type": "markdown",
   "id": "potential-light",
   "metadata": {},
   "source": [
    "AutoML for text classification requires that"
   ]
  },
  {
   "cell_type": "markdown",
   "id": "suffering-breakfast",
   "metadata": {},
   "source": [
    "- the dataset to be in csv form with\n",
    "- the first column to be the texts to classify or a GCS path to the text\n",
    "- the last column to be the text labels"
   ]
  },
  {
   "cell_type": "markdown",
   "id": "prostate-departure",
   "metadata": {},
   "source": [
    "The dataset we pulled from BigQuery satisfies these requirements."
   ]
  },
  {
   "cell_type": "code",
   "execution_count": null,
   "id": "understood-mobility",
   "metadata": {},
   "outputs": [],
   "source": [
    "print(\"The full dataset contains {n} titles\".format(n=len(title_dataset)))"
   ]
  },
  {
   "cell_type": "markdown",
   "id": "outdoor-grain",
   "metadata": {},
   "source": [
    "Let's make sure we have roughly the same number of labels for each of our three labels:"
   ]
  },
  {
   "cell_type": "code",
   "execution_count": null,
   "id": "occupational-career",
   "metadata": {},
   "outputs": [],
   "source": [
    "title_dataset[\"source\"].value_counts()"
   ]
  },
  {
   "cell_type": "markdown",
   "id": "promising-insert",
   "metadata": {},
   "source": [
    "Finally we will save our data, which is currently in-memory, to disk."
   ]
  },
  {
   "cell_type": "markdown",
   "id": "exotic-inspiration",
   "metadata": {},
   "source": [
    "We will create a csv file containing the full dataset and another containing only 1000 articles for development."
   ]
  },
  {
   "cell_type": "markdown",
   "id": "mineral-incident",
   "metadata": {},
   "source": [
    "**Note**: It may take a long time to train AutoML on the full dataset, so we recommend to use the sample dataset for the purpose of learning the tool."
   ]
  },
  {
   "cell_type": "code",
   "execution_count": null,
   "id": "chubby-arrival",
   "metadata": {},
   "outputs": [],
   "source": [
    "DATADIR = \"./data/\"\n",
    "\n",
    "if not os.path.exists(DATADIR):\n",
    "    os.makedirs(DATADIR)"
   ]
  },
  {
   "cell_type": "code",
   "execution_count": null,
   "id": "immune-archives",
   "metadata": {},
   "outputs": [],
   "source": [
    "FULL_DATASET_NAME = \"titles_full.csv\"\n",
    "FULL_DATASET_PATH = os.path.join(DATADIR, FULL_DATASET_NAME)\n",
    "\n",
    "# Let's shuffle the data before writing it to disk\n",
    "title_dataset = title_dataset.sample(n=len(title_dataset))\n",
    "\n",
    "title_dataset.to_csv(\n",
    "    FULL_DATASET_PATH, header=False, index=False, encoding=\"utf-8\")"
   ]
  },
  {
   "cell_type": "markdown",
   "id": "balanced-mechanics",
   "metadata": {},
   "source": [
    "Now let's sample 1000 articles from the full dataset and make sure we have enough examples for each label in our sample dataset."
   ]
  },
  {
   "cell_type": "code",
   "execution_count": null,
   "id": "exact-digest",
   "metadata": {},
   "outputs": [],
   "source": [
    "sample_title_dataset = title_dataset.sample(n=1000)\n",
    "sample_title_dataset[\"source\"].value_counts()"
   ]
  },
  {
   "cell_type": "markdown",
   "id": "finite-advance",
   "metadata": {},
   "source": [
    "Let's write the sample dataset to disk."
   ]
  },
  {
   "cell_type": "code",
   "execution_count": null,
   "id": "regulated-charter",
   "metadata": {},
   "outputs": [],
   "source": [
    "SAMPLE_DATASET_NAME = \"titles_sample.csv\"\n",
    "SAMPLE_DATASET_PATH = os.path.join(DATADIR, SAMPLE_DATASET_NAME)\n",
    "\n",
    "sample_title_dataset.to_csv(\n",
    "    SAMPLE_DATASET_PATH, header=False, index=False, encoding=\"utf-8\")"
   ]
  },
  {
   "cell_type": "code",
   "execution_count": null,
   "id": "shaped-sweet",
   "metadata": {},
   "outputs": [],
   "source": [
    "sample_title_dataset.head()"
   ]
  },
  {
   "cell_type": "code",
   "execution_count": null,
   "id": "internal-strike",
   "metadata": {},
   "outputs": [],
   "source": [
    "import datetime\n",
    "import os\n",
    "import shutil\n",
    "\n",
    "import pandas as pd\n",
    "import tensorflow as tf\n",
    "from tensorflow.keras.callbacks import TensorBoard, EarlyStopping\n",
    "from tensorflow_hub import KerasLayer\n",
    "from tensorflow.keras.layers import Dense\n",
    "from tensorflow.keras.models import Sequential\n",
    "from tensorflow.keras.preprocessing.text import Tokenizer\n",
    "from tensorflow.keras.utils import to_categorical\n",
    "\n",
    "print(tf.__version__)"
   ]
  },
  {
   "cell_type": "code",
   "execution_count": null,
   "id": "simple-recipe",
   "metadata": {},
   "outputs": [],
   "source": [
    "%matplotlib inline"
   ]
  },
  {
   "cell_type": "markdown",
   "id": "convenient-memorial",
   "metadata": {},
   "source": [
    "Let's start by specifying where the information about the trained models will be saved as well as where our dataset is located"
   ]
  },
  {
   "cell_type": "code",
   "execution_count": null,
   "id": "invalid-ideal",
   "metadata": {},
   "outputs": [],
   "source": [
    "MODEL_DIR = \"./text_models\"\n",
    "DATA_DIR = \"./data\""
   ]
  },
  {
   "cell_type": "markdown",
   "id": "basic-algeria",
   "metadata": {},
   "source": [
    "## Loading the dataset"
   ]
  },
  {
   "cell_type": "markdown",
   "id": "macro-universe",
   "metadata": {},
   "source": [
    "As in the previous labs, our dataset consists of titles of articles along with the label indicating from which source these articles have been taken from (GitHub, Tech-Crunch, or the New-York Times)"
   ]
  },
  {
   "cell_type": "code",
   "execution_count": null,
   "id": "moved-stream",
   "metadata": {},
   "outputs": [],
   "source": [
    "ls ./data/"
   ]
  },
  {
   "cell_type": "code",
   "execution_count": null,
   "id": "experienced-teens",
   "metadata": {},
   "outputs": [],
   "source": [
    "DATASET_NAME = \"titles_full.csv\"\n",
    "TITLE_SAMPLE_PATH = os.path.join(DATA_DIR, DATASET_NAME)\n",
    "COLUMNS = [\"title\", \"source\"]\n",
    "\n",
    "titles_df = pd.read_csv(TITLE_SAMPLE_PATH, header=None, names=COLUMNS)\n",
    "titles_df.head()"
   ]
  },
  {
   "cell_type": "markdown",
   "id": "visible-string",
   "metadata": {},
   "source": [
    "Let's look again at the number of examples per label to make sure we have a well-balanced dataset"
   ]
  },
  {
   "cell_type": "code",
   "execution_count": null,
   "id": "statutory-snapshot",
   "metadata": {},
   "outputs": [],
   "source": [
    "titles_df[\"source\"].value_counts()"
   ]
  },
  {
   "cell_type": "markdown",
   "id": "digital-fever",
   "metadata": {},
   "source": [
    "## Preparing the labels"
   ]
  },
  {
   "cell_type": "markdown",
   "id": "phantom-proceeding",
   "metadata": {},
   "source": [
    "In this lab, we will use pre-trained Tensorflow Hub embeddings modules for english for the first layer of our models. One immediate advantage of doing so is that the Tensorflow Hub embedding module will take care for us of processing the raw text. This also means that our model will be able to consume text directly instead of sequences of integers representing the words."
   ]
  },
  {
   "cell_type": "markdown",
   "id": "wanted-orleans",
   "metadata": {},
   "source": [
    "However, as before, we still need to preprocess the labels into one-hot encoded vectors."
   ]
  },
  {
   "cell_type": "code",
   "execution_count": null,
   "id": "suitable-coach",
   "metadata": {},
   "outputs": [],
   "source": [
    "CLASSES = {\n",
    "    \"github\": 0,\n",
    "    \"nytimes\": 1,\n",
    "    \"techcrunch\": 2\n",
    "}\n",
    "N_CLASSES = len(CLASSES)"
   ]
  },
  {
   "cell_type": "code",
   "execution_count": null,
   "id": "posted-modem",
   "metadata": {},
   "outputs": [],
   "source": [
    "def encode_labels(sources):\n",
    "    classes = [CLASSES[source] for source in sources]\n",
    "    one_hots = to_categorical(classes, num_classes=N_CLASSES)\n",
    "    return one_hots"
   ]
  },
  {
   "cell_type": "code",
   "execution_count": null,
   "id": "internal-doctor",
   "metadata": {},
   "outputs": [],
   "source": [
    "encode_labels(titles_df[\"source\"][:4])"
   ]
  },
  {
   "cell_type": "markdown",
   "id": "italian-inspector",
   "metadata": {},
   "source": [
    "## Preparing the train/test splits"
   ]
  },
  {
   "cell_type": "markdown",
   "id": "capital-technology",
   "metadata": {},
   "source": [
    "Let's split our data into train and test splits"
   ]
  },
  {
   "cell_type": "code",
   "execution_count": null,
   "id": "chronic-guide",
   "metadata": {},
   "outputs": [],
   "source": [
    "N_TRAIN = int(len(titles_df)*0.95)\n",
    "\n",
    "titles_train, sources_train = (\n",
    "    titles_df[\"title\"][:N_TRAIN], titles_df[\"source\"][:N_TRAIN])\n",
    "\n",
    "titles_valid, sources_valid = (\n",
    "    titles_df[\"title\"][N_TRAIN:], titles_df[\"source\"][N_TRAIN:])"
   ]
  },
  {
   "cell_type": "markdown",
   "id": "latest-dairy",
   "metadata": {},
   "source": [
    "To be on the safe side, we verify that the train and test splits have roughly the same number of examples per class."
   ]
  },
  {
   "cell_type": "markdown",
   "id": "personal-sixth",
   "metadata": {},
   "source": [
    "Since it is the case, accuracy will be a good metric to use to measure the performance of our models."
   ]
  },
  {
   "cell_type": "code",
   "execution_count": null,
   "id": "conventional-moisture",
   "metadata": {},
   "outputs": [],
   "source": [
    "sources_train.value_counts()"
   ]
  },
  {
   "cell_type": "code",
   "execution_count": null,
   "id": "academic-jacob",
   "metadata": {},
   "outputs": [],
   "source": [
    "sources_valid.value_counts()"
   ]
  },
  {
   "cell_type": "markdown",
   "id": "municipal-hardware",
   "metadata": {},
   "source": [
    "Now let's create the features and labels we will feed our models with"
   ]
  },
  {
   "cell_type": "code",
   "execution_count": null,
   "id": "convertible-remark",
   "metadata": {},
   "outputs": [],
   "source": [
    "X_train, Y_train = titles_train.values, encode_labels(sources_train)\n",
    "X_valid, Y_valid = titles_valid.values, encode_labels(sources_valid)"
   ]
  },
  {
   "cell_type": "code",
   "execution_count": null,
   "id": "shaped-department",
   "metadata": {},
   "outputs": [],
   "source": [
    "X_train[:3]"
   ]
  },
  {
   "cell_type": "code",
   "execution_count": null,
   "id": "present-substitute",
   "metadata": {},
   "outputs": [],
   "source": [
    "Y_train[:3]"
   ]
  },
  {
   "cell_type": "code",
   "execution_count": null,
   "id": "bearing-crown",
   "metadata": {},
   "outputs": [],
   "source": []
  },
  {
   "cell_type": "code",
   "execution_count": null,
   "id": "crude-denmark",
   "metadata": {},
   "outputs": [],
   "source": []
  },
  {
   "cell_type": "code",
   "execution_count": null,
   "id": "smooth-counter",
   "metadata": {},
   "outputs": [],
   "source": []
  },
  {
   "cell_type": "code",
   "execution_count": null,
   "id": "photographic-migration",
   "metadata": {},
   "outputs": [],
   "source": []
  },
  {
   "cell_type": "code",
   "execution_count": null,
   "id": "conceptual-employment",
   "metadata": {},
   "outputs": [],
   "source": []
  },
  {
   "cell_type": "code",
   "execution_count": null,
   "id": "smoking-madness",
   "metadata": {},
   "outputs": [],
   "source": []
  },
  {
   "cell_type": "code",
   "execution_count": null,
   "id": "simple-nancy",
   "metadata": {},
   "outputs": [],
   "source": []
  },
  {
   "cell_type": "code",
   "execution_count": null,
   "id": "suburban-syracuse",
   "metadata": {},
   "outputs": [],
   "source": []
  },
  {
   "cell_type": "code",
   "execution_count": null,
   "id": "temporal-tract",
   "metadata": {},
   "outputs": [],
   "source": []
  }
 ],
 "metadata": {
  "kernelspec": {
   "display_name": "Python 3",
   "language": "python",
   "name": "python3"
  },
  "language_info": {
   "codemirror_mode": {
    "name": "ipython",
    "version": 3
   },
   "file_extension": ".py",
   "mimetype": "text/x-python",
   "name": "python",
   "nbconvert_exporter": "python",
   "pygments_lexer": "ipython3",
   "version": "3.8.5"
  }
 },
 "nbformat": 4,
 "nbformat_minor": 5
}
