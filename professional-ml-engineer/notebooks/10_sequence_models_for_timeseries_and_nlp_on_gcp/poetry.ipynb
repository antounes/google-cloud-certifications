{
 "cells": [
  {
   "cell_type": "markdown",
   "id": "driving-patent",
   "metadata": {},
   "source": [
    "# Text generation using tensor2tensor on Cloud AI Platform"
   ]
  },
  {
   "cell_type": "markdown",
   "id": "neural-behavior",
   "metadata": {},
   "source": [
    "This notebook illustrates the use of [tensor2tensor](https://github.com/tensorflow/tensor2tensor) library to do from-scratch, distributed training of a training model. Then, the trained model is used to complete new poems."
   ]
  },
  {
   "cell_type": "markdown",
   "id": "separate-belfast",
   "metadata": {},
   "source": [
    "## Install tensor2tensor, and specify Google Cloud Platform project and bucket"
   ]
  },
  {
   "cell_type": "markdown",
   "id": "suitable-function",
   "metadata": {},
   "source": [
    "Install the necessary packages. tensor2tensor will give us the Transformer model. Project Gutenberg gives us access to historical poems."
   ]
  },
  {
   "cell_type": "markdown",
   "id": "seasonal-childhood",
   "metadata": {},
   "source": [
    "**p.s.** Note that this notebook uses Python 2 because Project Gutenberg relies on BSD-DB which was deprecated in Python 3 and removed from the standard library. tensor2tensor itself can be used on Python 3."
   ]
  },
  {
   "cell_type": "code",
   "execution_count": null,
   "id": "appointed-floating",
   "metadata": {},
   "outputs": [],
   "source": [
    "%%bash\n",
    "pip freeze | grep tensor"
   ]
  },
  {
   "cell_type": "code",
   "execution_count": null,
   "id": "active-playlist",
   "metadata": {},
   "outputs": [],
   "source": [
    "%%bash\n",
    "pip install tensor2tensor=1.13.1 tensorflow=1.13.1 tensorflow-serving-api=1.13 gutenberg\n",
    "pip install tensorflow_hub\n",
    "\n",
    "# install from sou\n",
    "#git clone https://github.com/tensorflow/tensor2tensor.git\n",
    "#cd tensor2tensor\n",
    "#yes | pip install --user -e ."
   ]
  },
  {
   "cell_type": "code",
   "execution_count": null,
   "id": "hired-impact",
   "metadata": {},
   "outputs": [],
   "source": [
    "%%bash\n",
    "pip freeze | grep tensor"
   ]
  },
  {
   "cell_type": "code",
   "execution_count": null,
   "id": "present-invalid",
   "metadata": {},
   "outputs": [],
   "source": [
    "import os\n",
    "PROJECT = \"cloud-training-demos\" # Replace with your Project ID\n",
    "BUCKET = \"cloud-training-demos-ml\" # Replace with your bucket name\n",
    "REGION = \"us-central1\" # Replace with your bucket region\n",
    "\n",
    "# this is what this notebook is demonstrating\n",
    "PROBLEM = \"poetry_line_problem\"\n",
    "\n",
    "# for bash\n",
    "os.environ[\"PROJECT\"] = PROJECT\n",
    "os.environ[\"BUCKET\"] = BUCKET\n",
    "os.environ[\"REGION\"] = REGION\n",
    "os.environ[\"PROBLEM\"] = PROBLEM\n",
    "\n",
    "# os.environ[\"PATH\"] = os.environ[\"PATH\"] + \":\" + os.getcwd() + \"/tensor2tensor/tensor2tensor/bin\""
   ]
  },
  {
   "cell_type": "code",
   "execution_count": null,
   "id": "threaded-carter",
   "metadata": {},
   "outputs": [],
   "source": [
    "%bash\n",
    "gcloud config set project $PROJECT\n",
    "gcloud config set compute/region $REGION"
   ]
  },
  {
   "cell_type": "markdown",
   "id": "likely-sweet",
   "metadata": {},
   "source": [
    "## Download data"
   ]
  },
  {
   "cell_type": "markdown",
   "id": "robust-spirit",
   "metadata": {},
   "source": [
    "We will get some [poetry anthologies](https://www.gutenberg.org/wiki/Poetry_(Bookshelf)) from Project Gutenberg."
   ]
  },
  {
   "cell_type": "code",
   "execution_count": null,
   "id": "exposed-metadata",
   "metadata": {},
   "outputs": [],
   "source": [
    "%%bash\n",
    "rm -rf data/poetry\n",
    "mkdir -p data/poetry"
   ]
  },
  {
   "cell_type": "code",
   "execution_count": null,
   "id": "powerful-girlfriend",
   "metadata": {},
   "outputs": [],
   "source": [
    "from gutenberg.acquire import load_etext\n",
    "from gutenberg.cleanup import strip_headers\n",
    "import re\n",
    "\n",
    "books = [\n",
    "    # bookid, skip N lines, title\n",
    "    (26715, 1000, \"Victorian songs\"),\n",
    "    (30235, 580, \"Baldwin collection\"),\n",
    "    (35402, 710, \"Swinburne collection\"),\n",
    "    (574, 15, \"Blake\"),\n",
    "    (1304, 172, \"Bulchevys collection\"),\n",
    "    (19221, 223, \"Palgrave-Pearse collection\"),\n",
    "    (15553, 522, \"Knowles collection\")\n",
    "]\n",
    "\n",
    "with open(\"data/poetry/raw.txt\", \"w\") as ofp:\n",
    "    lineno = 0\n",
    "    for (id_nr, toskip, title) in books:\n",
    "        startline = lineno\n",
    "        text = strip_headers(load_etext(id_nr)).strip()\n",
    "        lines = text.split(\"\\n\")[toskip:]\n",
    "        # any line that is all upper case is a title or author name\n",
    "        # also don't want any lines with years (numbers)\n",
    "        for line in lines:\n",
    "            if (len(line) > 0\n",
    "                and line.upper() != line\n",
    "                and not re.match(\".*[0-9]+.*\", line)\n",
    "                and len(line) < 50\n",
    "                ):\n",
    "                cleaned = re.sub(\"[^a-z\\\"\\-]+\", \" \", line.strip().lower())\n",
    "                ofp.write(cleaned)\n",
    "                ofp.write(\"\\n\")\n",
    "                lineno += 1\n",
    "            else:\n",
    "                ofp.write(\"\\n\")\n",
    "        print(\"Wrote lines {} to {} from {}\".format(startline, lineno, title))"
   ]
  },
  {
   "cell_type": "code",
   "execution_count": null,
   "id": "defensive-alexandria",
   "metadata": {},
   "outputs": [],
   "source": [
    "!wc -l data/poetry/*.txt"
   ]
  },
  {
   "cell_type": "code",
   "execution_count": null,
   "id": "subtle-mandate",
   "metadata": {},
   "outputs": [],
   "source": []
  },
  {
   "cell_type": "code",
   "execution_count": null,
   "id": "extreme-facility",
   "metadata": {},
   "outputs": [],
   "source": []
  },
  {
   "cell_type": "code",
   "execution_count": null,
   "id": "molecular-syntax",
   "metadata": {},
   "outputs": [],
   "source": []
  },
  {
   "cell_type": "code",
   "execution_count": null,
   "id": "juvenile-setting",
   "metadata": {},
   "outputs": [],
   "source": []
  },
  {
   "cell_type": "code",
   "execution_count": null,
   "id": "awful-cloud",
   "metadata": {},
   "outputs": [],
   "source": []
  },
  {
   "cell_type": "code",
   "execution_count": null,
   "id": "emotional-binding",
   "metadata": {},
   "outputs": [],
   "source": []
  }
 ],
 "metadata": {
  "kernelspec": {
   "display_name": "Python 3",
   "language": "python",
   "name": "python3"
  },
  "language_info": {
   "codemirror_mode": {
    "name": "ipython",
    "version": 3
   },
   "file_extension": ".py",
   "mimetype": "text/x-python",
   "name": "python",
   "nbconvert_exporter": "python",
   "pygments_lexer": "ipython3",
   "version": "3.8.5"
  }
 },
 "nbformat": 4,
 "nbformat_minor": 5
}
