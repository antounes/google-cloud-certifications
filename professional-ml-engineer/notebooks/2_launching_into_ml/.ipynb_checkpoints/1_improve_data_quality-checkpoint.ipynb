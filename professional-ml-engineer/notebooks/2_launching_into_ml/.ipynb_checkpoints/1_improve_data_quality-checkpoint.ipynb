{
 "cells": [
  {
   "cell_type": "markdown",
   "id": "productive-breath",
   "metadata": {},
   "source": [
    "# Improving data quality"
   ]
  },
  {
   "cell_type": "markdown",
   "id": "assured-psychology",
   "metadata": {},
   "source": [
    "**Learning objectives**"
   ]
  },
  {
   "cell_type": "markdown",
   "id": "fossil-organic",
   "metadata": {},
   "source": [
    "1. Resolve missing values\n",
    "2. Convert the `Date` feature column to a `datetime` format\n",
    "3. Rename a feature column, remove a value from a feature column\n",
    "4. Create one-hot-encoding features\n",
    "5. Understand temporal feature conversions"
   ]
  },
  {
   "cell_type": "markdown",
   "id": "radio-bangladesh",
   "metadata": {},
   "source": [
    "## Introduction"
   ]
  },
  {
   "cell_type": "markdown",
   "id": "sixth-signature",
   "metadata": {},
   "source": [
    "Recall that ML models can only consume numeric data, and that numeric data should be `1`s or `0`s. Data is said to be *messy* or *untidy* if it is missing attribute values, contains noise or outliers, has duplicates, wrong data, upper/lower case column names, and is essentially not ready for ingestion by an ML algorithm."
   ]
  },
  {
   "cell_type": "markdown",
   "id": "biological-yield",
   "metadata": {},
   "source": [
    "This notebook presents and solves some of the most common issues of *untidy* data. Note that different problems will require different methods."
   ]
  },
  {
   "cell_type": "markdown",
   "id": "negative-table",
   "metadata": {},
   "source": [
    "### Import libraries"
   ]
  },
  {
   "cell_type": "code",
   "execution_count": 2,
   "id": "worse-gospel",
   "metadata": {},
   "outputs": [],
   "source": [
    "import os\n",
    "import pandas as pd\n",
    "import numpy as np\n",
    "from datetime import datetime\n",
    "import matplotlib.pyplot as plt\n",
    "import seaborn as sns\n",
    "%matplotlib inline"
   ]
  },
  {
   "cell_type": "markdown",
   "id": "coordinate-colleague",
   "metadata": {},
   "source": [
    "### Load the data set"
   ]
  },
  {
   "cell_type": "markdown",
   "id": "blond-intention",
   "metadata": {},
   "source": [
    "The data set is based on California's Vehicle Fuel Type Count by Zip Code report."
   ]
  },
  {
   "cell_type": "code",
   "execution_count": 5,
   "id": "flush-karen",
   "metadata": {},
   "outputs": [],
   "source": [
    "# Create directory to store data set\n",
    "if not os.path.isdir(\"./data/transport\"):\n",
    "    os.makedirs(\"./data/transport\")"
   ]
  },
  {
   "cell_type": "code",
   "execution_count": 8,
   "id": "relative-czech",
   "metadata": {},
   "outputs": [
    {
     "name": "stdout",
     "output_type": "stream",
     "text": [
      "Copying gs://cloud-training-demos/feat_eng/transport/untidy_vehicle_data.csv...\n",
      "- [1 files][ 47.2 KiB/ 47.2 KiB]                                                \n",
      "Operation completed over 1 objects/47.2 KiB.                                     \n"
     ]
    }
   ],
   "source": [
    "# Download the raw .csv data file by copying the data from a Cloud Storage bucket\n",
    "!gsutil cp gs://cloud-training-demos/feat_eng/transport/untidy_vehicle_data.csv ./data/transport"
   ]
  },
  {
   "cell_type": "code",
   "execution_count": 9,
   "id": "north-strip",
   "metadata": {},
   "outputs": [
    {
     "name": "stdout",
     "output_type": "stream",
     "text": [
      "total 48\r\n",
      "-rw-rw-r-- 1 antounes antounes 48343 avril 22 14:33 untidy_vehicle_data.csv\r\n"
     ]
    }
   ],
   "source": [
    "# ls shows the working directory's contents\n",
    "# Using -l flag will list files with associated permissions\n",
    "!ls -l ./data/transport"
   ]
  },
  {
   "cell_type": "markdown",
   "id": "creative-agent",
   "metadata": {},
   "source": [
    "### Read data set into a Pandas DataFrame"
   ]
  },
  {
   "cell_type": "markdown",
   "id": "synthetic-holiday",
   "metadata": {},
   "source": [
    "Next, let's read in the data set just copied from the Cloud Storage bucket and create a Pandas DataFrame. We also add a Pandas `.head()` function to show the 5 first rows of data in the DataFrame. `.head()` and `.tail()` are best practice functions to investigate data sets."
   ]
  },
  {
   "cell_type": "code",
   "execution_count": 10,
   "id": "pointed-baker",
   "metadata": {},
   "outputs": [
    {
     "data": {
      "text/html": [
       "<div>\n",
       "<style scoped>\n",
       "    .dataframe tbody tr th:only-of-type {\n",
       "        vertical-align: middle;\n",
       "    }\n",
       "\n",
       "    .dataframe tbody tr th {\n",
       "        vertical-align: top;\n",
       "    }\n",
       "\n",
       "    .dataframe thead th {\n",
       "        text-align: right;\n",
       "    }\n",
       "</style>\n",
       "<table border=\"1\" class=\"dataframe\">\n",
       "  <thead>\n",
       "    <tr style=\"text-align: right;\">\n",
       "      <th></th>\n",
       "      <th>Date</th>\n",
       "      <th>Zip Code</th>\n",
       "      <th>Model Year</th>\n",
       "      <th>Fuel</th>\n",
       "      <th>Make</th>\n",
       "      <th>Light_Duty</th>\n",
       "      <th>Vehicles</th>\n",
       "    </tr>\n",
       "  </thead>\n",
       "  <tbody>\n",
       "    <tr>\n",
       "      <th>0</th>\n",
       "      <td>10/1/2018</td>\n",
       "      <td>90000</td>\n",
       "      <td>2006</td>\n",
       "      <td>Gasoline</td>\n",
       "      <td>OTHER/UNK</td>\n",
       "      <td>NaN</td>\n",
       "      <td>1.0</td>\n",
       "    </tr>\n",
       "    <tr>\n",
       "      <th>1</th>\n",
       "      <td>10/1/2018</td>\n",
       "      <td>NaN</td>\n",
       "      <td>2014</td>\n",
       "      <td>Gasoline</td>\n",
       "      <td>NaN</td>\n",
       "      <td>Yes</td>\n",
       "      <td>1.0</td>\n",
       "    </tr>\n",
       "    <tr>\n",
       "      <th>2</th>\n",
       "      <td>NaN</td>\n",
       "      <td>90000</td>\n",
       "      <td>NaN</td>\n",
       "      <td>Gasoline</td>\n",
       "      <td>OTHER/UNK</td>\n",
       "      <td>Yes</td>\n",
       "      <td>NaN</td>\n",
       "    </tr>\n",
       "    <tr>\n",
       "      <th>3</th>\n",
       "      <td>10/1/2018</td>\n",
       "      <td>90000</td>\n",
       "      <td>2017</td>\n",
       "      <td>Gasoline</td>\n",
       "      <td>OTHER/UNK</td>\n",
       "      <td>Yes</td>\n",
       "      <td>1.0</td>\n",
       "    </tr>\n",
       "    <tr>\n",
       "      <th>4</th>\n",
       "      <td>10/1/2018</td>\n",
       "      <td>90000</td>\n",
       "      <td>&lt;2006</td>\n",
       "      <td>Diesel and Diesel Hybrid</td>\n",
       "      <td>OTHER/UNK</td>\n",
       "      <td>No</td>\n",
       "      <td>55.0</td>\n",
       "    </tr>\n",
       "  </tbody>\n",
       "</table>\n",
       "</div>"
      ],
      "text/plain": [
       "        Date Zip Code Model Year                      Fuel       Make  \\\n",
       "0  10/1/2018    90000       2006                  Gasoline  OTHER/UNK   \n",
       "1  10/1/2018      NaN       2014                  Gasoline        NaN   \n",
       "2        NaN    90000        NaN                  Gasoline  OTHER/UNK   \n",
       "3  10/1/2018    90000       2017                  Gasoline  OTHER/UNK   \n",
       "4  10/1/2018    90000      <2006  Diesel and Diesel Hybrid  OTHER/UNK   \n",
       "\n",
       "  Light_Duty  Vehicles  \n",
       "0        NaN       1.0  \n",
       "1        Yes       1.0  \n",
       "2        Yes       NaN  \n",
       "3        Yes       1.0  \n",
       "4         No      55.0  "
      ]
     },
     "execution_count": 10,
     "metadata": {},
     "output_type": "execute_result"
    }
   ],
   "source": [
    "# Reading `untidy_vehicle_data.csv` file using the `read_csv()` Pandas function\n",
    "df_transport = pd.read_csv(\"./data/transport/untidy_vehicle_data.csv\")\n",
    "\n",
    "# Output the first five rows\n",
    "df_transport.head()"
   ]
  },
  {
   "cell_type": "markdown",
   "id": "polish-semiconductor",
   "metadata": {},
   "source": [
    "### DataFrame column data types"
   ]
  },
  {
   "cell_type": "markdown",
   "id": "scenic-disclaimer",
   "metadata": {},
   "source": [
    "DataFrame may have heterogenous or *mixed* data types. That is, some columns are numbers, some are strings, and some are dates, etc. Because CSV files do not contain information on what data types are contained in each column, Pandas infers the data types when loading the data. E.g. if a column contains only numbers, Pandas will set that column's data type to numeric: `int` or `float`."
   ]
  },
  {
   "cell_type": "code",
   "execution_count": 11,
   "id": "engaged-genre",
   "metadata": {},
   "outputs": [
    {
     "name": "stdout",
     "output_type": "stream",
     "text": [
      "<class 'pandas.core.frame.DataFrame'>\n",
      "RangeIndex: 999 entries, 0 to 998\n",
      "Data columns (total 7 columns):\n",
      " #   Column      Non-Null Count  Dtype  \n",
      "---  ------      --------------  -----  \n",
      " 0   Date        997 non-null    object \n",
      " 1   Zip Code    997 non-null    object \n",
      " 2   Model Year  997 non-null    object \n",
      " 3   Fuel        996 non-null    object \n",
      " 4   Make        996 non-null    object \n",
      " 5   Light_Duty  996 non-null    object \n",
      " 6   Vehicles    996 non-null    float64\n",
      "dtypes: float64(1), object(6)\n",
      "memory usage: 54.8+ KB\n"
     ]
    }
   ],
   "source": [
    "# The `.info()` function will display a concise summary of a DataFrame\n",
    "df_transport.info()"
   ]
  },
  {
   "cell_type": "markdown",
   "id": "desperate-jackson",
   "metadata": {},
   "source": [
    "We have six `str` objects and one `float` object. We can definitely see more of the `str` object values now."
   ]
  },
  {
   "cell_type": "code",
   "execution_count": 12,
   "id": "executive-throat",
   "metadata": {},
   "outputs": [
    {
     "name": "stdout",
     "output_type": "stream",
     "text": [
      "          Date Zip Code Model Year                      Fuel       Make  \\\n",
      "0    10/1/2018    90000       2006                  Gasoline  OTHER/UNK   \n",
      "1    10/1/2018      NaN       2014                  Gasoline        NaN   \n",
      "2          NaN    90000        NaN                  Gasoline  OTHER/UNK   \n",
      "3    10/1/2018    90000       2017                  Gasoline  OTHER/UNK   \n",
      "4    10/1/2018    90000      <2006  Diesel and Diesel Hybrid  OTHER/UNK   \n",
      "..         ...      ...        ...                       ...        ...   \n",
      "994   6/7/2019    90003       2012                  Gasoline     Type_R   \n",
      "995   6/8/2019    90003       2012           Hybrid Gasoline  OTHER/UNK   \n",
      "996   6/9/2019    90003       2012           Hybrid Gasoline     Type_Q   \n",
      "997  6/10/2019    90003       2012               Natural Gas  OTHER/UNK   \n",
      "998  6/11/2019    90003       2012            Plug-in Hybrid  OTHER/UNK   \n",
      "\n",
      "    Light_Duty  Vehicles  \n",
      "0          NaN       1.0  \n",
      "1          Yes       1.0  \n",
      "2          Yes       NaN  \n",
      "3          Yes       1.0  \n",
      "4           No      55.0  \n",
      "..         ...       ...  \n",
      "994        Yes      26.0  \n",
      "995        Yes       4.0  \n",
      "996        Yes      25.0  \n",
      "997        Yes       1.0  \n",
      "998        Yes       3.0  \n",
      "\n",
      "[999 rows x 7 columns] 5\n"
     ]
    }
   ],
   "source": [
    "# Let's print out the first and last 5 rows of each column\n",
    "print(df_transport, 5)"
   ]
  },
  {
   "cell_type": "markdown",
   "id": "convinced-former",
   "metadata": {},
   "source": [
    "### Summary statistics"
   ]
  },
  {
   "cell_type": "markdown",
   "id": "traditional-replica",
   "metadata": {},
   "source": [
    "At this point, we have only one column that contains numerical values (`Vehicles`). For features which contain numerical values, we are often interested in various statistical measures relating to those values."
   ]
  },
  {
   "cell_type": "markdown",
   "id": "distinguished-attack",
   "metadata": {},
   "source": [
    "**Note**: since we only have one numeric feature, we only see one summary statistic $-$ for now."
   ]
  },
  {
   "cell_type": "code",
   "execution_count": 13,
   "id": "cathedral-tuner",
   "metadata": {},
   "outputs": [
    {
     "data": {
      "text/html": [
       "<div>\n",
       "<style scoped>\n",
       "    .dataframe tbody tr th:only-of-type {\n",
       "        vertical-align: middle;\n",
       "    }\n",
       "\n",
       "    .dataframe tbody tr th {\n",
       "        vertical-align: top;\n",
       "    }\n",
       "\n",
       "    .dataframe thead th {\n",
       "        text-align: right;\n",
       "    }\n",
       "</style>\n",
       "<table border=\"1\" class=\"dataframe\">\n",
       "  <thead>\n",
       "    <tr style=\"text-align: right;\">\n",
       "      <th></th>\n",
       "      <th>Vehicles</th>\n",
       "    </tr>\n",
       "  </thead>\n",
       "  <tbody>\n",
       "    <tr>\n",
       "      <th>count</th>\n",
       "      <td>996.000000</td>\n",
       "    </tr>\n",
       "    <tr>\n",
       "      <th>mean</th>\n",
       "      <td>72.878514</td>\n",
       "    </tr>\n",
       "    <tr>\n",
       "      <th>std</th>\n",
       "      <td>229.696895</td>\n",
       "    </tr>\n",
       "    <tr>\n",
       "      <th>min</th>\n",
       "      <td>1.000000</td>\n",
       "    </tr>\n",
       "    <tr>\n",
       "      <th>25%</th>\n",
       "      <td>13.000000</td>\n",
       "    </tr>\n",
       "    <tr>\n",
       "      <th>50%</th>\n",
       "      <td>23.000000</td>\n",
       "    </tr>\n",
       "    <tr>\n",
       "      <th>75%</th>\n",
       "      <td>57.250000</td>\n",
       "    </tr>\n",
       "    <tr>\n",
       "      <th>max</th>\n",
       "      <td>3178.000000</td>\n",
       "    </tr>\n",
       "  </tbody>\n",
       "</table>\n",
       "</div>"
      ],
      "text/plain": [
       "          Vehicles\n",
       "count   996.000000\n",
       "mean     72.878514\n",
       "std     229.696895\n",
       "min       1.000000\n",
       "25%      13.000000\n",
       "50%      23.000000\n",
       "75%      57.250000\n",
       "max    3178.000000"
      ]
     },
     "execution_count": 13,
     "metadata": {},
     "output_type": "execute_result"
    }
   ],
   "source": [
    "# We can use `.describe()` to see some summary statistics for the numeric fields in our DataFrame\n",
    "df_transport.describe()"
   ]
  },
  {
   "cell_type": "markdown",
   "id": "regular-token",
   "metadata": {},
   "source": [
    "Let's investigate a bit more of our data by using the `.groupby()` function."
   ]
  },
  {
   "cell_type": "code",
   "execution_count": 14,
   "id": "referenced-innocent",
   "metadata": {},
   "outputs": [
    {
     "data": {
      "text/html": [
       "<div>\n",
       "<style scoped>\n",
       "    .dataframe tbody tr th:only-of-type {\n",
       "        vertical-align: middle;\n",
       "    }\n",
       "\n",
       "    .dataframe tbody tr th {\n",
       "        vertical-align: top;\n",
       "    }\n",
       "\n",
       "    .dataframe thead th {\n",
       "        text-align: right;\n",
       "    }\n",
       "</style>\n",
       "<table border=\"1\" class=\"dataframe\">\n",
       "  <thead>\n",
       "    <tr style=\"text-align: right;\">\n",
       "      <th></th>\n",
       "      <th>Date</th>\n",
       "      <th>Zip Code</th>\n",
       "      <th>Model Year</th>\n",
       "      <th>Make</th>\n",
       "      <th>Light_Duty</th>\n",
       "      <th>Vehicles</th>\n",
       "    </tr>\n",
       "    <tr>\n",
       "      <th>Fuel</th>\n",
       "      <th></th>\n",
       "      <th></th>\n",
       "      <th></th>\n",
       "      <th></th>\n",
       "      <th></th>\n",
       "      <th></th>\n",
       "    </tr>\n",
       "  </thead>\n",
       "  <tbody>\n",
       "    <tr>\n",
       "      <th>Battery Electric</th>\n",
       "      <td>10/1/2018</td>\n",
       "      <td>90000</td>\n",
       "      <td>&lt;2006</td>\n",
       "      <td>OTHER/UNK</td>\n",
       "      <td>No</td>\n",
       "      <td>4.0</td>\n",
       "    </tr>\n",
       "    <tr>\n",
       "      <th>Diesel and Diesel Hybrid</th>\n",
       "      <td>10/1/2018</td>\n",
       "      <td>90000</td>\n",
       "      <td>&lt;2006</td>\n",
       "      <td>OTHER/UNK</td>\n",
       "      <td>No</td>\n",
       "      <td>55.0</td>\n",
       "    </tr>\n",
       "    <tr>\n",
       "      <th>Flex-Fuel</th>\n",
       "      <td>10/14/2018</td>\n",
       "      <td>90001</td>\n",
       "      <td>2007</td>\n",
       "      <td>Type_A</td>\n",
       "      <td>Yes</td>\n",
       "      <td>78.0</td>\n",
       "    </tr>\n",
       "    <tr>\n",
       "      <th>Gasoline</th>\n",
       "      <td>10/1/2018</td>\n",
       "      <td>90000</td>\n",
       "      <td>2006</td>\n",
       "      <td>OTHER/UNK</td>\n",
       "      <td>Yes</td>\n",
       "      <td>1.0</td>\n",
       "    </tr>\n",
       "    <tr>\n",
       "      <th>Hybrid Gasoline</th>\n",
       "      <td>10/24/2018</td>\n",
       "      <td>90001</td>\n",
       "      <td>2009</td>\n",
       "      <td>OTHER/UNK</td>\n",
       "      <td>Yes</td>\n",
       "      <td>18.0</td>\n",
       "    </tr>\n",
       "    <tr>\n",
       "      <th>Natural Gas</th>\n",
       "      <td>10/25/2018</td>\n",
       "      <td>90001</td>\n",
       "      <td>2009</td>\n",
       "      <td>OTHER/UNK</td>\n",
       "      <td>No</td>\n",
       "      <td>2.0</td>\n",
       "    </tr>\n",
       "    <tr>\n",
       "      <th>Other</th>\n",
       "      <td>10/8/2018</td>\n",
       "      <td>90000</td>\n",
       "      <td>&lt;2006</td>\n",
       "      <td>OTHER/UNK</td>\n",
       "      <td>Yes</td>\n",
       "      <td>6.0</td>\n",
       "    </tr>\n",
       "    <tr>\n",
       "      <th>Plug-in Hybrid</th>\n",
       "      <td>11/2/2018</td>\n",
       "      <td>90001</td>\n",
       "      <td>2012</td>\n",
       "      <td>OTHER/UNK</td>\n",
       "      <td>Yes</td>\n",
       "      <td>1.0</td>\n",
       "    </tr>\n",
       "  </tbody>\n",
       "</table>\n",
       "</div>"
      ],
      "text/plain": [
       "                                Date Zip Code Model Year       Make  \\\n",
       "Fuel                                                                  \n",
       "Battery Electric           10/1/2018    90000      <2006  OTHER/UNK   \n",
       "Diesel and Diesel Hybrid   10/1/2018    90000      <2006  OTHER/UNK   \n",
       "Flex-Fuel                 10/14/2018    90001       2007     Type_A   \n",
       "Gasoline                   10/1/2018    90000       2006  OTHER/UNK   \n",
       "Hybrid Gasoline           10/24/2018    90001       2009  OTHER/UNK   \n",
       "Natural Gas               10/25/2018    90001       2009  OTHER/UNK   \n",
       "Other                      10/8/2018    90000      <2006  OTHER/UNK   \n",
       "Plug-in Hybrid             11/2/2018    90001       2012  OTHER/UNK   \n",
       "\n",
       "                         Light_Duty  Vehicles  \n",
       "Fuel                                           \n",
       "Battery Electric                 No       4.0  \n",
       "Diesel and Diesel Hybrid         No      55.0  \n",
       "Flex-Fuel                       Yes      78.0  \n",
       "Gasoline                        Yes       1.0  \n",
       "Hybrid Gasoline                 Yes      18.0  \n",
       "Natural Gas                      No       2.0  \n",
       "Other                           Yes       6.0  \n",
       "Plug-in Hybrid                  Yes       1.0  "
      ]
     },
     "execution_count": 14,
     "metadata": {},
     "output_type": "execute_result"
    }
   ],
   "source": [
    "# The `.groupby()` function is used for spliting the data into groups based on some criteria\n",
    "grouped_data = df_transport.groupby([\"Zip Code\", \"Model Year\", \"Fuel\", \"Make\", \"Light_Duty\", \"Vehicles\"])\n",
    "\n",
    "# Get the first entry for each month\n",
    "df_transport.groupby(\"Fuel\").first()"
   ]
  },
  {
   "cell_type": "markdown",
   "id": "crucial-technician",
   "metadata": {},
   "source": [
    "### Checking for missing values"
   ]
  },
  {
   "cell_type": "markdown",
   "id": "sonic-accommodation",
   "metadata": {},
   "source": [
    "Missing values adversely impact data quality, as they can lead the ML model to make inaccurate inferences about the data. Missing values can be the result of numerous factors, e.g. *bits* lost during streaming transmission, data entry, or perhaps a user forgot to fill in a field."
   ]
  },
  {
   "cell_type": "markdown",
   "id": "systematic-retail",
   "metadata": {},
   "source": [
    "**Note**: Pandas recognises both empty cells and `NaN` types as missing values."
   ]
  },
  {
   "cell_type": "code",
   "execution_count": 15,
   "id": "single-mistress",
   "metadata": {},
   "outputs": [
    {
     "data": {
      "text/plain": [
       "Date          2\n",
       "Zip Code      2\n",
       "Model Year    2\n",
       "Fuel          3\n",
       "Make          3\n",
       "Light_Duty    3\n",
       "Vehicles      3\n",
       "dtype: int64"
      ]
     },
     "execution_count": 15,
     "metadata": {},
     "output_type": "execute_result"
    }
   ],
   "source": [
    "# Let's show the `null` values for all the features in the DataFrame\n",
    "df_transport.isnull().sum()"
   ]
  },
  {
   "cell_type": "markdown",
   "id": "honest-parking",
   "metadata": {},
   "source": [
    "To see a sample of which values are missing, enter the feature column name. You'll notice that `False` and `True` correspond to the presence or absence of value by index number."
   ]
  },
  {
   "cell_type": "code",
   "execution_count": 16,
   "id": "distinguished-monitoring",
   "metadata": {},
   "outputs": [
    {
     "name": "stdout",
     "output_type": "stream",
     "text": [
      "0      10/1/2018\n",
      "1      10/1/2018\n",
      "2            NaN\n",
      "3      10/1/2018\n",
      "4      10/1/2018\n",
      "         ...    \n",
      "994     6/7/2019\n",
      "995     6/8/2019\n",
      "996     6/9/2019\n",
      "997    6/10/2019\n",
      "998    6/11/2019\n",
      "Name: Date, Length: 999, dtype: object\n",
      "0      False\n",
      "1      False\n",
      "2       True\n",
      "3      False\n",
      "4      False\n",
      "       ...  \n",
      "994    False\n",
      "995    False\n",
      "996    False\n",
      "997    False\n",
      "998    False\n",
      "Name: Date, Length: 999, dtype: bool\n"
     ]
    }
   ],
   "source": [
    "print(df_transport[\"Date\"])\n",
    "print(df_transport[\"Date\"].isnull())"
   ]
  },
  {
   "cell_type": "code",
   "execution_count": 17,
   "id": "public-drove",
   "metadata": {},
   "outputs": [
    {
     "name": "stdout",
     "output_type": "stream",
     "text": [
      "0      OTHER/UNK\n",
      "1            NaN\n",
      "2      OTHER/UNK\n",
      "3      OTHER/UNK\n",
      "4      OTHER/UNK\n",
      "         ...    \n",
      "994       Type_R\n",
      "995    OTHER/UNK\n",
      "996       Type_Q\n",
      "997    OTHER/UNK\n",
      "998    OTHER/UNK\n",
      "Name: Make, Length: 999, dtype: object\n",
      "0      False\n",
      "1       True\n",
      "2      False\n",
      "3      False\n",
      "4      False\n",
      "       ...  \n",
      "994    False\n",
      "995    False\n",
      "996    False\n",
      "997    False\n",
      "998    False\n",
      "Name: Make, Length: 999, dtype: bool\n"
     ]
    }
   ],
   "source": [
    "print(df_transport[\"Make\"])\n",
    "print(df_transport[\"Make\"].isnull())"
   ]
  },
  {
   "cell_type": "code",
   "execution_count": 18,
   "id": "offshore-mailing",
   "metadata": {},
   "outputs": [
    {
     "name": "stdout",
     "output_type": "stream",
     "text": [
      "0       2006\n",
      "1       2014\n",
      "2        NaN\n",
      "3       2017\n",
      "4      <2006\n",
      "       ...  \n",
      "994     2012\n",
      "995     2012\n",
      "996     2012\n",
      "997     2012\n",
      "998     2012\n",
      "Name: Model Year, Length: 999, dtype: object\n",
      "0      False\n",
      "1      False\n",
      "2       True\n",
      "3      False\n",
      "4      False\n",
      "       ...  \n",
      "994    False\n",
      "995    False\n",
      "996    False\n",
      "997    False\n",
      "998    False\n",
      "Name: Model Year, Length: 999, dtype: bool\n"
     ]
    }
   ],
   "source": [
    "print(df_transport[\"Model Year\"])\n",
    "print(df_transport[\"Model Year\"].isnull())"
   ]
  },
  {
   "cell_type": "markdown",
   "id": "virtual-plant",
   "metadata": {},
   "source": [
    "## Data summary"
   ]
  },
  {
   "cell_type": "markdown",
   "id": "north-violation",
   "metadata": {},
   "source": [
    "Let's summarise our data by row, column, features, unique, and missing values."
   ]
  },
  {
   "cell_type": "code",
   "execution_count": 24,
   "id": "turkish-basketball",
   "metadata": {},
   "outputs": [
    {
     "name": "stdout",
     "output_type": "stream",
     "text": [
      "Rows     : 999\n",
      "Columns  : 7\n",
      "\n",
      "Features:\n",
      " ['Date', 'Zip Code', 'Model Year', 'Fuel', 'Make', 'Light_Duty', 'Vehicles']\n",
      "\n",
      "Unique values:\n",
      " Date          248\n",
      "Zip Code        6\n",
      "Model Year     15\n",
      "Fuel            8\n",
      "Make           43\n",
      "Light_Duty      3\n",
      "Vehicles      210\n",
      "dtype: int64\n",
      "\n",
      "Missing values:\n",
      " 18\n"
     ]
    }
   ],
   "source": [
    "# In Python, `.shape()` is used in Pandas to get the number of rows/columns\n",
    "# The number of rows is given by `shape[0]`. The number of columns is given by `shape[1]`\n",
    "# Thus, `shape()` consists of an array having two arguments -- rows and columns\n",
    "print(\"Rows     :\", df_transport.shape[0])\n",
    "print(\"Columns  :\", df_transport.shape[1])\n",
    "print(\"\\nFeatures:\\n\", df_transport.columns.tolist())\n",
    "print(\"\\nUnique values:\\n\", df_transport.nunique())\n",
    "print(\"\\nMissing values:\\n\", df_transport.isnull().sum().values.sum())"
   ]
  },
  {
   "cell_type": "markdown",
   "id": "single-navigator",
   "metadata": {},
   "source": [
    "Let's see the data again $-$ this time the last five rows in the data set."
   ]
  },
  {
   "cell_type": "code",
   "execution_count": 23,
   "id": "literary-footage",
   "metadata": {},
   "outputs": [
    {
     "data": {
      "text/html": [
       "<div>\n",
       "<style scoped>\n",
       "    .dataframe tbody tr th:only-of-type {\n",
       "        vertical-align: middle;\n",
       "    }\n",
       "\n",
       "    .dataframe tbody tr th {\n",
       "        vertical-align: top;\n",
       "    }\n",
       "\n",
       "    .dataframe thead th {\n",
       "        text-align: right;\n",
       "    }\n",
       "</style>\n",
       "<table border=\"1\" class=\"dataframe\">\n",
       "  <thead>\n",
       "    <tr style=\"text-align: right;\">\n",
       "      <th></th>\n",
       "      <th>Date</th>\n",
       "      <th>Zip Code</th>\n",
       "      <th>Model Year</th>\n",
       "      <th>Fuel</th>\n",
       "      <th>Make</th>\n",
       "      <th>Light_Duty</th>\n",
       "      <th>Vehicles</th>\n",
       "    </tr>\n",
       "  </thead>\n",
       "  <tbody>\n",
       "    <tr>\n",
       "      <th>994</th>\n",
       "      <td>6/7/2019</td>\n",
       "      <td>90003</td>\n",
       "      <td>2012</td>\n",
       "      <td>Gasoline</td>\n",
       "      <td>Type_R</td>\n",
       "      <td>Yes</td>\n",
       "      <td>26.0</td>\n",
       "    </tr>\n",
       "    <tr>\n",
       "      <th>995</th>\n",
       "      <td>6/8/2019</td>\n",
       "      <td>90003</td>\n",
       "      <td>2012</td>\n",
       "      <td>Hybrid Gasoline</td>\n",
       "      <td>OTHER/UNK</td>\n",
       "      <td>Yes</td>\n",
       "      <td>4.0</td>\n",
       "    </tr>\n",
       "    <tr>\n",
       "      <th>996</th>\n",
       "      <td>6/9/2019</td>\n",
       "      <td>90003</td>\n",
       "      <td>2012</td>\n",
       "      <td>Hybrid Gasoline</td>\n",
       "      <td>Type_Q</td>\n",
       "      <td>Yes</td>\n",
       "      <td>25.0</td>\n",
       "    </tr>\n",
       "    <tr>\n",
       "      <th>997</th>\n",
       "      <td>6/10/2019</td>\n",
       "      <td>90003</td>\n",
       "      <td>2012</td>\n",
       "      <td>Natural Gas</td>\n",
       "      <td>OTHER/UNK</td>\n",
       "      <td>Yes</td>\n",
       "      <td>1.0</td>\n",
       "    </tr>\n",
       "    <tr>\n",
       "      <th>998</th>\n",
       "      <td>6/11/2019</td>\n",
       "      <td>90003</td>\n",
       "      <td>2012</td>\n",
       "      <td>Plug-in Hybrid</td>\n",
       "      <td>OTHER/UNK</td>\n",
       "      <td>Yes</td>\n",
       "      <td>3.0</td>\n",
       "    </tr>\n",
       "  </tbody>\n",
       "</table>\n",
       "</div>"
      ],
      "text/plain": [
       "          Date Zip Code Model Year             Fuel       Make Light_Duty  \\\n",
       "994   6/7/2019    90003       2012         Gasoline     Type_R        Yes   \n",
       "995   6/8/2019    90003       2012  Hybrid Gasoline  OTHER/UNK        Yes   \n",
       "996   6/9/2019    90003       2012  Hybrid Gasoline     Type_Q        Yes   \n",
       "997  6/10/2019    90003       2012      Natural Gas  OTHER/UNK        Yes   \n",
       "998  6/11/2019    90003       2012   Plug-in Hybrid  OTHER/UNK        Yes   \n",
       "\n",
       "     Vehicles  \n",
       "994      26.0  \n",
       "995       4.0  \n",
       "996      25.0  \n",
       "997       1.0  \n",
       "998       3.0  "
      ]
     },
     "execution_count": 23,
     "metadata": {},
     "output_type": "execute_result"
    }
   ],
   "source": [
    "# Output the last five rows of the data set\n",
    "df_transport.tail()"
   ]
  },
  {
   "cell_type": "markdown",
   "id": "alleged-smell",
   "metadata": {},
   "source": [
    "### What are our data quality issues?"
   ]
  },
  {
   "cell_type": "markdown",
   "id": "fuzzy-gabriel",
   "metadata": {},
   "source": [
    "1. **Data quality issue #1**:\n",
    "> **Missing values**: Each feature column has multiple missing values. In fact, we have a total of 18 missing values\n",
    "2. **Data quality issue #2**:\n",
    "> **Date data type**: `Date` is shown as an `object` data type and should be a `datetime`. In addition, `Date` is in one column. Our business requirement is to see the `Date` parsed out to year, month, and day.\n",
    "3. **Data quality issue #3**:\n",
    "> **Model Year**: We are only interested in years greater than 2006, not `\"<2006\"`\n",
    "4. **Data quality issue #4**:\n",
    "> **Categorical columns**: The feature column `Light_Duty` is categorical and has a `Yes/No` choice. We cannot feed values like this into an ML model. In addition, we need to one-hot encode the remaining `str`/`object` columns\n",
    "5. **Data quality issue #5**:\n",
    "> **Temporal features**: How do we handle year, month, and day?"
   ]
  },
  {
   "cell_type": "markdown",
   "id": "consolidated-devon",
   "metadata": {},
   "source": [
    "**Data quality issue #1**:"
   ]
  },
  {
   "cell_type": "markdown",
   "id": "ranking-offset",
   "metadata": {},
   "source": [
    "***Resolving missing values***"
   ]
  },
  {
   "cell_type": "markdown",
   "id": "stunning-bahamas",
   "metadata": {},
   "source": [
    "Most algorithms do not accept missing values. Yet, when we see missing values in our data set, there is always a tendency to just *drop all the rows* with missing values. Although Pandas will fill in the blank space with `NaN`, we should handle them in some way."
   ]
  },
  {
   "cell_type": "markdown",
   "id": "original-trinidad",
   "metadata": {},
   "source": [
    "While all the methods to handle missing values are beyond the scope of this lab, there are a few methods you should consider. For numeric columns, use the *mean* values to fill in the missing numeric values. For categorical columns, use the *mode* (or most frequent value) to fill in missing categorical values."
   ]
  },
  {
   "cell_type": "markdown",
   "id": "necessary-newsletter",
   "metadata": {},
   "source": [
    "In this lab, we will use the `.apply()` and `lambda` functions to fill every column with its own most frequent value. You'll learn more about `lambda` functions later in the lab."
   ]
  },
  {
   "cell_type": "markdown",
   "id": "premium-video",
   "metadata": {},
   "source": [
    "Let's check again for missing values by showing how many rows contain `NaN` values for each feature column."
   ]
  },
  {
   "cell_type": "code",
   "execution_count": 25,
   "id": "honey-sperm",
   "metadata": {},
   "outputs": [
    {
     "data": {
      "text/plain": [
       "Date          2\n",
       "Zip Code      2\n",
       "Model Year    2\n",
       "Fuel          3\n",
       "Make          3\n",
       "Light_Duty    3\n",
       "Vehicles      3\n",
       "dtype: int64"
      ]
     },
     "execution_count": 25,
     "metadata": {},
     "output_type": "execute_result"
    }
   ],
   "source": [
    "# The `.isnull()` method is used to check and manage `NULL` values in a DataFrame\n",
    "df_transport.isnull().sum()"
   ]
  },
  {
   "cell_type": "code",
   "execution_count": 26,
   "id": "dirty-taste",
   "metadata": {},
   "outputs": [],
   "source": [
    "# Here we are using the `.apply()` function with `lambda`\n",
    "# We can use the `.apply()` function to apply the `lambda` function to both rows and columns of a DataFrame\n",
    "df_transport = df_transport.apply(lambda x: x.fillna(x.value_counts().index[0]))"
   ]
  },
  {
   "cell_type": "markdown",
   "id": "floral-sapphire",
   "metadata": {},
   "source": [
    "Let's check again for missing values"
   ]
  },
  {
   "cell_type": "code",
   "execution_count": 27,
   "id": "olympic-expansion",
   "metadata": {},
   "outputs": [
    {
     "data": {
      "text/plain": [
       "Date          0\n",
       "Zip Code      0\n",
       "Model Year    0\n",
       "Fuel          0\n",
       "Make          0\n",
       "Light_Duty    0\n",
       "Vehicles      0\n",
       "dtype: int64"
      ]
     },
     "execution_count": 27,
     "metadata": {},
     "output_type": "execute_result"
    }
   ],
   "source": [
    "# The `.isnull()` method is used to check and manage `NULL` values in a DataFrame\n",
    "df_transport.isnull().sum()"
   ]
  },
  {
   "cell_type": "markdown",
   "id": "frequent-execution",
   "metadata": {},
   "source": [
    "**Data quality issue #2**:"
   ]
  },
  {
   "cell_type": "markdown",
   "id": "grand-seeker",
   "metadata": {},
   "source": [
    "***Convert the `Date` feature column into a `datetime` format***"
   ]
  },
  {
   "cell_type": "code",
   "execution_count": 31,
   "id": "bibliographic-living",
   "metadata": {},
   "outputs": [],
   "source": [
    "# The `Date` column is indeed shown as an `str` object. We can convert it to the `datetime` datatype with \n",
    "# the `to_datetime()` function in Pandas\n",
    "df_transport[\"Date\"] =  pd.to_datetime(df_transport[\"Date\"],\n",
    "                                       format=\"%m/%d/%Y\")"
   ]
  },
  {
   "cell_type": "code",
   "execution_count": 32,
   "id": "expensive-yukon",
   "metadata": {},
   "outputs": [
    {
     "name": "stdout",
     "output_type": "stream",
     "text": [
      "<class 'pandas.core.frame.DataFrame'>\n",
      "RangeIndex: 999 entries, 0 to 998\n",
      "Data columns (total 7 columns):\n",
      " #   Column      Non-Null Count  Dtype         \n",
      "---  ------      --------------  -----         \n",
      " 0   Date        999 non-null    datetime64[ns]\n",
      " 1   Zip Code    999 non-null    object        \n",
      " 2   Model Year  999 non-null    object        \n",
      " 3   Fuel        999 non-null    object        \n",
      " 4   Make        999 non-null    object        \n",
      " 5   Light_Duty  999 non-null    object        \n",
      " 6   Vehicles    999 non-null    float64       \n",
      "dtypes: datetime64[ns](1), float64(1), object(5)\n",
      "memory usage: 54.8+ KB\n"
     ]
    }
   ],
   "source": [
    "# Date is now converted and will display as `datetime`\n",
    "df_transport.info()"
   ]
  },
  {
   "cell_type": "code",
   "execution_count": 33,
   "id": "outdoor-string",
   "metadata": {},
   "outputs": [
    {
     "name": "stdout",
     "output_type": "stream",
     "text": [
      "<class 'pandas.core.frame.DataFrame'>\n",
      "RangeIndex: 999 entries, 0 to 998\n",
      "Data columns (total 10 columns):\n",
      " #   Column      Non-Null Count  Dtype         \n",
      "---  ------      --------------  -----         \n",
      " 0   Date        999 non-null    datetime64[ns]\n",
      " 1   Zip Code    999 non-null    object        \n",
      " 2   Model Year  999 non-null    object        \n",
      " 3   Fuel        999 non-null    object        \n",
      " 4   Make        999 non-null    object        \n",
      " 5   Light_Duty  999 non-null    object        \n",
      " 6   Vehicles    999 non-null    float64       \n",
      " 7   year        999 non-null    int64         \n",
      " 8   month       999 non-null    int64         \n",
      " 9   day         999 non-null    int64         \n",
      "dtypes: datetime64[ns](1), float64(1), int64(3), object(5)\n",
      "memory usage: 78.2+ KB\n"
     ]
    }
   ],
   "source": [
    "# Now we will parse `Date` into three columns `year`, `month`, and `day`\n",
    "df_transport[\"year\"] = df_transport[\"Date\"].dt.year\n",
    "df_transport[\"month\"] = df_transport[\"Date\"].dt.month\n",
    "df_transport[\"day\"] = df_transport[\"Date\"].dt.day\n",
    "\n",
    "#df_transport[\"hour\"] = df_transport[\"Date\"].dt.hour\n",
    "#df_transport[\"minute\"] = df_transport[\"Date\"].dt.minute\n",
    "\n",
    "# The `.info()` function will display the concise summary of a DataFrame\n",
    "df_transport.info()"
   ]
  },
  {
   "cell_type": "markdown",
   "id": "surrounded-locking",
   "metadata": {},
   "source": [
    "Let's confirm the `Date` parsing. This will also give us another visualisation of the data."
   ]
  },
  {
   "cell_type": "code",
   "execution_count": 34,
   "id": "least-vegetation",
   "metadata": {},
   "outputs": [
    {
     "data": {
      "text/html": [
       "<div>\n",
       "<style scoped>\n",
       "    .dataframe tbody tr th:only-of-type {\n",
       "        vertical-align: middle;\n",
       "    }\n",
       "\n",
       "    .dataframe tbody tr th {\n",
       "        vertical-align: top;\n",
       "    }\n",
       "\n",
       "    .dataframe thead th {\n",
       "        text-align: right;\n",
       "    }\n",
       "</style>\n",
       "<table border=\"1\" class=\"dataframe\">\n",
       "  <thead>\n",
       "    <tr style=\"text-align: right;\">\n",
       "      <th></th>\n",
       "      <th>Date</th>\n",
       "      <th>Zip Code</th>\n",
       "      <th>Model Year</th>\n",
       "      <th>Fuel</th>\n",
       "      <th>Make</th>\n",
       "      <th>Light_Duty</th>\n",
       "      <th>Vehicles</th>\n",
       "      <th>year</th>\n",
       "      <th>day</th>\n",
       "    </tr>\n",
       "    <tr>\n",
       "      <th>month</th>\n",
       "      <th></th>\n",
       "      <th></th>\n",
       "      <th></th>\n",
       "      <th></th>\n",
       "      <th></th>\n",
       "      <th></th>\n",
       "      <th></th>\n",
       "      <th></th>\n",
       "      <th></th>\n",
       "    </tr>\n",
       "  </thead>\n",
       "  <tbody>\n",
       "    <tr>\n",
       "      <th>1</th>\n",
       "      <td>2019-01-01</td>\n",
       "      <td>90001</td>\n",
       "      <td>2016</td>\n",
       "      <td>Gasoline</td>\n",
       "      <td>Type_G</td>\n",
       "      <td>Yes</td>\n",
       "      <td>18.0</td>\n",
       "      <td>2019</td>\n",
       "      <td>1</td>\n",
       "    </tr>\n",
       "    <tr>\n",
       "      <th>2</th>\n",
       "      <td>2019-02-01</td>\n",
       "      <td>90001</td>\n",
       "      <td>2017</td>\n",
       "      <td>Gasoline</td>\n",
       "      <td>Type_D</td>\n",
       "      <td>Yes</td>\n",
       "      <td>13.0</td>\n",
       "      <td>2019</td>\n",
       "      <td>1</td>\n",
       "    </tr>\n",
       "    <tr>\n",
       "      <th>3</th>\n",
       "      <td>2019-03-01</td>\n",
       "      <td>90001</td>\n",
       "      <td>2018</td>\n",
       "      <td>Gasoline</td>\n",
       "      <td>Type_C</td>\n",
       "      <td>Yes</td>\n",
       "      <td>32.0</td>\n",
       "      <td>2019</td>\n",
       "      <td>1</td>\n",
       "    </tr>\n",
       "    <tr>\n",
       "      <th>4</th>\n",
       "      <td>2019-04-01</td>\n",
       "      <td>90003</td>\n",
       "      <td>2006</td>\n",
       "      <td>Gasoline</td>\n",
       "      <td>Type_U</td>\n",
       "      <td>Yes</td>\n",
       "      <td>13.0</td>\n",
       "      <td>2019</td>\n",
       "      <td>1</td>\n",
       "    </tr>\n",
       "    <tr>\n",
       "      <th>5</th>\n",
       "      <td>2019-05-01</td>\n",
       "      <td>90003</td>\n",
       "      <td>2007</td>\n",
       "      <td>Gasoline</td>\n",
       "      <td>Type_GG</td>\n",
       "      <td>Yes</td>\n",
       "      <td>13.0</td>\n",
       "      <td>2019</td>\n",
       "      <td>1</td>\n",
       "    </tr>\n",
       "    <tr>\n",
       "      <th>6</th>\n",
       "      <td>2019-06-01</td>\n",
       "      <td>90003</td>\n",
       "      <td>2008</td>\n",
       "      <td>Gasoline</td>\n",
       "      <td>Type_J</td>\n",
       "      <td>Yes</td>\n",
       "      <td>15.0</td>\n",
       "      <td>2019</td>\n",
       "      <td>1</td>\n",
       "    </tr>\n",
       "    <tr>\n",
       "      <th>7</th>\n",
       "      <td>2019-07-01</td>\n",
       "      <td>90003</td>\n",
       "      <td>2009</td>\n",
       "      <td>Gasoline</td>\n",
       "      <td>Type_J</td>\n",
       "      <td>Yes</td>\n",
       "      <td>141.0</td>\n",
       "      <td>2019</td>\n",
       "      <td>1</td>\n",
       "    </tr>\n",
       "    <tr>\n",
       "      <th>10</th>\n",
       "      <td>2018-10-01</td>\n",
       "      <td>90000</td>\n",
       "      <td>2006</td>\n",
       "      <td>Gasoline</td>\n",
       "      <td>OTHER/UNK</td>\n",
       "      <td>Yes</td>\n",
       "      <td>1.0</td>\n",
       "      <td>2018</td>\n",
       "      <td>1</td>\n",
       "    </tr>\n",
       "    <tr>\n",
       "      <th>11</th>\n",
       "      <td>2018-11-01</td>\n",
       "      <td>90001</td>\n",
       "      <td>2007</td>\n",
       "      <td>Gasoline</td>\n",
       "      <td>Type_M</td>\n",
       "      <td>Yes</td>\n",
       "      <td>15.0</td>\n",
       "      <td>2018</td>\n",
       "      <td>1</td>\n",
       "    </tr>\n",
       "    <tr>\n",
       "      <th>12</th>\n",
       "      <td>2018-12-02</td>\n",
       "      <td>90001</td>\n",
       "      <td>2015</td>\n",
       "      <td>Gasoline</td>\n",
       "      <td>Type_G</td>\n",
       "      <td>Yes</td>\n",
       "      <td>19.0</td>\n",
       "      <td>2018</td>\n",
       "      <td>2</td>\n",
       "    </tr>\n",
       "  </tbody>\n",
       "</table>\n",
       "</div>"
      ],
      "text/plain": [
       "            Date Zip Code Model Year      Fuel       Make Light_Duty  \\\n",
       "month                                                                  \n",
       "1     2019-01-01    90001       2016  Gasoline     Type_G        Yes   \n",
       "2     2019-02-01    90001       2017  Gasoline     Type_D        Yes   \n",
       "3     2019-03-01    90001       2018  Gasoline     Type_C        Yes   \n",
       "4     2019-04-01    90003       2006  Gasoline     Type_U        Yes   \n",
       "5     2019-05-01    90003       2007  Gasoline    Type_GG        Yes   \n",
       "6     2019-06-01    90003       2008  Gasoline     Type_J        Yes   \n",
       "7     2019-07-01    90003       2009  Gasoline     Type_J        Yes   \n",
       "10    2018-10-01    90000       2006  Gasoline  OTHER/UNK        Yes   \n",
       "11    2018-11-01    90001       2007  Gasoline     Type_M        Yes   \n",
       "12    2018-12-02    90001       2015  Gasoline     Type_G        Yes   \n",
       "\n",
       "       Vehicles  year  day  \n",
       "month                       \n",
       "1          18.0  2019    1  \n",
       "2          13.0  2019    1  \n",
       "3          32.0  2019    1  \n",
       "4          13.0  2019    1  \n",
       "5          13.0  2019    1  \n",
       "6          15.0  2019    1  \n",
       "7         141.0  2019    1  \n",
       "10          1.0  2018    1  \n",
       "11         15.0  2018    1  \n",
       "12         19.0  2018    2  "
      ]
     },
     "execution_count": 34,
     "metadata": {},
     "output_type": "execute_result"
    }
   ],
   "source": [
    "# Here, we are creating a new DataFrame called `grouped_data` and grouping by on the column `Make`\n",
    "grouped_data = df_transport.groupby([\"Make\"])\n",
    "\n",
    "# Get the first entry for each month\n",
    "df_transport.groupby(\"month\").first()"
   ]
  },
  {
   "cell_type": "markdown",
   "id": "north-corpus",
   "metadata": {},
   "source": [
    "Now that we have `Date` as integers, let's do some additional plotting."
   ]
  },
  {
   "cell_type": "code",
   "execution_count": 36,
   "id": "sharp-agent",
   "metadata": {},
   "outputs": [
    {
     "data": {
      "text/plain": [
       "<Figure size 720x432 with 0 Axes>"
      ]
     },
     "metadata": {},
     "output_type": "display_data"
    },
    {
     "data": {
      "image/png": "[encoded data removed]",
      "text/plain": [
       "<Figure size 432x432 with 3 Axes>"
      ]
     },
     "metadata": {
      "needs_background": "light"
     },
     "output_type": "display_data"
    }
   ],
   "source": [
    "# Here we will visualise our data using the `.figure()` function in the pyplot module of Matplotlib's library\n",
    "# -- which is used to create a new figure\n",
    "plt.figure(figsize=(10,6));\n",
    "\n",
    "# Seaborn's `.jointplot()` displays a relationship between 2 variables (bivariate) as well as 1D profiles (univariate)\n",
    "# in the margins. This plot is a convenience class that wraps `JointGrid`\n",
    "sns.jointplot(x=\"month\", y=\"Vehicles\", data=df_transport);\n",
    "\n",
    "# The `.title()` method in matplotlib module is used to specify the title of the visualisation depicted and displays\n",
    "# the title using various attributes\n",
    "plt.title(\"Vehicles by Month\");"
   ]
  },
  {
   "cell_type": "markdown",
   "id": "dirty-workshop",
   "metadata": {},
   "source": [
    "**Data quality issue #3**:"
   ]
  },
  {
   "cell_type": "markdown",
   "id": "scheduled-marks",
   "metadata": {},
   "source": [
    "***Rename a feature column and remove a value***"
   ]
  },
  {
   "cell_type": "markdown",
   "id": "addressed-complement",
   "metadata": {},
   "source": [
    "Our feature columns have different *capitalisations* in their names, e.g. both upper and lower case. In addition, there are blank spaces in some of the column names. In addition, we are only interested in years greater than 2006, not `<2006`."
   ]
  },
  {
   "cell_type": "markdown",
   "id": "sporting-prairie",
   "metadata": {},
   "source": [
    "We can also resolve the *case* problem by making all the feature column names lowercase."
   ]
  },
  {
   "cell_type": "code",
   "execution_count": 37,
   "id": "floral-vatican",
   "metadata": {},
   "outputs": [
    {
     "data": {
      "text/html": [
       "<div>\n",
       "<style scoped>\n",
       "    .dataframe tbody tr th:only-of-type {\n",
       "        vertical-align: middle;\n",
       "    }\n",
       "\n",
       "    .dataframe tbody tr th {\n",
       "        vertical-align: top;\n",
       "    }\n",
       "\n",
       "    .dataframe thead th {\n",
       "        text-align: right;\n",
       "    }\n",
       "</style>\n",
       "<table border=\"1\" class=\"dataframe\">\n",
       "  <thead>\n",
       "    <tr style=\"text-align: right;\">\n",
       "      <th></th>\n",
       "      <th>date</th>\n",
       "      <th>zipcode</th>\n",
       "      <th>modelyear</th>\n",
       "      <th>fuel</th>\n",
       "      <th>make</th>\n",
       "      <th>lightduty</th>\n",
       "      <th>vehicles</th>\n",
       "      <th>year</th>\n",
       "      <th>month</th>\n",
       "      <th>day</th>\n",
       "    </tr>\n",
       "  </thead>\n",
       "  <tbody>\n",
       "    <tr>\n",
       "      <th>0</th>\n",
       "      <td>2018-10-01</td>\n",
       "      <td>90000</td>\n",
       "      <td>2006</td>\n",
       "      <td>Gasoline</td>\n",
       "      <td>OTHER/UNK</td>\n",
       "      <td>Yes</td>\n",
       "      <td>1.0</td>\n",
       "      <td>2018</td>\n",
       "      <td>10</td>\n",
       "      <td>1</td>\n",
       "    </tr>\n",
       "    <tr>\n",
       "      <th>1</th>\n",
       "      <td>2018-10-01</td>\n",
       "      <td>90002</td>\n",
       "      <td>2014</td>\n",
       "      <td>Gasoline</td>\n",
       "      <td>OTHER/UNK</td>\n",
       "      <td>Yes</td>\n",
       "      <td>1.0</td>\n",
       "      <td>2018</td>\n",
       "      <td>10</td>\n",
       "      <td>1</td>\n",
       "    </tr>\n",
       "  </tbody>\n",
       "</table>\n",
       "</div>"
      ],
      "text/plain": [
       "        date zipcode modelyear      fuel       make lightduty  vehicles  year  \\\n",
       "0 2018-10-01   90000      2006  Gasoline  OTHER/UNK       Yes       1.0  2018   \n",
       "1 2018-10-01   90002      2014  Gasoline  OTHER/UNK       Yes       1.0  2018   \n",
       "\n",
       "   month  day  \n",
       "0     10    1  \n",
       "1     10    1  "
      ]
     },
     "execution_count": 37,
     "metadata": {},
     "output_type": "execute_result"
    }
   ],
   "source": [
    "# Let's remove all the space for feature columns by renaming them\n",
    "df_transport.rename(columns = {\"Date\": \"date\",\n",
    "                               \"Zip Code\": \"zipcode\",\n",
    "                               \"Model Year\": \"modelyear\",\n",
    "                               \"Fuel\": \"fuel\",\n",
    "                               \"Make\": \"make\",\n",
    "                               \"Light_Duty\": \"lightduty\",\n",
    "                               \"Vehicles\": \"vehicles\"}, inplace=True)\n",
    "\n",
    "# Output the first two rows\n",
    "df_transport.head(2)"
   ]
  },
  {
   "cell_type": "markdown",
   "id": "static-voice",
   "metadata": {},
   "source": [
    "**Note**: Next we create a copy of the DataFrame to avoid the `SettingWithCopyWarning: A value is trying to be set on a copy of a slice from a DataFrame` warning. We also remove the value `<2006` from the `modelyear` feature column. "
   ]
  },
  {
   "cell_type": "code",
   "execution_count": 38,
   "id": "crazy-samoa",
   "metadata": {},
   "outputs": [],
   "source": [
    "# Here, we create a copy of the DataFrame to avoid copy warning issues\n",
    "df = df_transport.loc[df_transport[\"modelyear\"]!=\"<2006\"].copy()"
   ]
  },
  {
   "cell_type": "code",
   "execution_count": 39,
   "id": "iraqi-allen",
   "metadata": {},
   "outputs": [
    {
     "data": {
      "text/plain": [
       "2007    87\n",
       "2012    81\n",
       "2008    79\n",
       "2011    77\n",
       "2010    71\n",
       "2006    70\n",
       "2015    61\n",
       "2014    59\n",
       "2017    57\n",
       "2016    57\n",
       "2009    53\n",
       "2013    52\n",
       "2018    42\n",
       "2019     6\n",
       "Name: modelyear, dtype: int64"
      ]
     },
     "execution_count": 39,
     "metadata": {},
     "output_type": "execute_result"
    }
   ],
   "source": [
    "# Here, we will confirm that the `modelyear` value `<2006` has been removed by doing a value count\n",
    "df[\"modelyear\"].value_counts(0)"
   ]
  },
  {
   "cell_type": "markdown",
   "id": "south-hydrogen",
   "metadata": {},
   "source": [
    "**Data quality issue #4**:"
   ]
  },
  {
   "cell_type": "markdown",
   "id": "documentary-thriller",
   "metadata": {},
   "source": [
    "***Handling categorical columns***"
   ]
  },
  {
   "cell_type": "markdown",
   "id": "adolescent-aircraft",
   "metadata": {},
   "source": [
    "The feature column `lightduyt` is categorical and has a `Yes`/`No` choice. We cannot feed values like this into an ML model. We need to convert the binary answers from strings of `Yes`/`No` to integers of `1`/`0`. There are various methods to achieve this. We will use the `.apply()` method with a `lambda` expression. Pandas `.apply()` takes a function and applies it to all values of a Pandas Series."
   ]
  },
  {
   "cell_type": "markdown",
   "id": "behind-performer",
   "metadata": {},
   "source": [
    "***What is a `lambda` function?***"
   ]
  },
  {
   "cell_type": "markdown",
   "id": "dimensional-evolution",
   "metadata": {},
   "source": [
    "Typically Python requires that you define a function using the `def` keyword. However, `lambda` functions are anonymous $-$ which means there is no need to name them. The most common use case for `lambda` functions is in code that requires a simple one-line function (e.g. `lambda` only have a single expression)."
   ]
  },
  {
   "cell_type": "code",
   "execution_count": 42,
   "id": "ongoing-anthony",
   "metadata": {},
   "outputs": [
    {
     "data": {
      "text/plain": [
       "Yes    771\n",
       "No      80\n",
       "--       1\n",
       "Name: lightduty, dtype: int64"
      ]
     },
     "execution_count": 42,
     "metadata": {},
     "output_type": "execute_result"
    }
   ],
   "source": [
    "# Let's count the number of `Yes` and `No` in the `lightduty` feature column\n",
    "df[\"lightduty\"].value_counts(0)"
   ]
  },
  {
   "cell_type": "code",
   "execution_count": 43,
   "id": "caroline-offer",
   "metadata": {},
   "outputs": [
    {
     "data": {
      "text/plain": [
       "1    772\n",
       "0     80\n",
       "Name: lightduty, dtype: int64"
      ]
     },
     "execution_count": 43,
     "metadata": {},
     "output_type": "execute_result"
    }
   ],
   "source": [
    "# Let's convert the `Yes` to `1` and `No` to `0`\n",
    "# The `.apply()` takes a function and applies it to all values of a Pandas series (e.g. `lightduty`)\n",
    "df.loc[:, \"lightduty\"] = df[\"lightduty\"].apply(lambda x: 0 if x==\"No\" else 1)\n",
    "df[\"lightduty\"].value_counts(0)"
   ]
  },
  {
   "cell_type": "code",
   "execution_count": 44,
   "id": "overall-soldier",
   "metadata": {},
   "outputs": [
    {
     "data": {
      "text/html": [
       "<div>\n",
       "<style scoped>\n",
       "    .dataframe tbody tr th:only-of-type {\n",
       "        vertical-align: middle;\n",
       "    }\n",
       "\n",
       "    .dataframe tbody tr th {\n",
       "        vertical-align: top;\n",
       "    }\n",
       "\n",
       "    .dataframe thead th {\n",
       "        text-align: right;\n",
       "    }\n",
       "</style>\n",
       "<table border=\"1\" class=\"dataframe\">\n",
       "  <thead>\n",
       "    <tr style=\"text-align: right;\">\n",
       "      <th></th>\n",
       "      <th>date</th>\n",
       "      <th>zipcode</th>\n",
       "      <th>modelyear</th>\n",
       "      <th>fuel</th>\n",
       "      <th>make</th>\n",
       "      <th>lightduty</th>\n",
       "      <th>vehicles</th>\n",
       "      <th>year</th>\n",
       "      <th>month</th>\n",
       "      <th>day</th>\n",
       "    </tr>\n",
       "  </thead>\n",
       "  <tbody>\n",
       "    <tr>\n",
       "      <th>0</th>\n",
       "      <td>2018-10-01</td>\n",
       "      <td>90000</td>\n",
       "      <td>2006</td>\n",
       "      <td>Gasoline</td>\n",
       "      <td>OTHER/UNK</td>\n",
       "      <td>1</td>\n",
       "      <td>1.0</td>\n",
       "      <td>2018</td>\n",
       "      <td>10</td>\n",
       "      <td>1</td>\n",
       "    </tr>\n",
       "    <tr>\n",
       "      <th>1</th>\n",
       "      <td>2018-10-01</td>\n",
       "      <td>90002</td>\n",
       "      <td>2014</td>\n",
       "      <td>Gasoline</td>\n",
       "      <td>OTHER/UNK</td>\n",
       "      <td>1</td>\n",
       "      <td>1.0</td>\n",
       "      <td>2018</td>\n",
       "      <td>10</td>\n",
       "      <td>1</td>\n",
       "    </tr>\n",
       "    <tr>\n",
       "      <th>3</th>\n",
       "      <td>2018-10-01</td>\n",
       "      <td>90000</td>\n",
       "      <td>2017</td>\n",
       "      <td>Gasoline</td>\n",
       "      <td>OTHER/UNK</td>\n",
       "      <td>1</td>\n",
       "      <td>1.0</td>\n",
       "      <td>2018</td>\n",
       "      <td>10</td>\n",
       "      <td>1</td>\n",
       "    </tr>\n",
       "    <tr>\n",
       "      <th>16</th>\n",
       "      <td>2018-10-09</td>\n",
       "      <td>90001</td>\n",
       "      <td>2006</td>\n",
       "      <td>Diesel and Diesel Hybrid</td>\n",
       "      <td>Type_C</td>\n",
       "      <td>0</td>\n",
       "      <td>16.0</td>\n",
       "      <td>2018</td>\n",
       "      <td>10</td>\n",
       "      <td>9</td>\n",
       "    </tr>\n",
       "    <tr>\n",
       "      <th>17</th>\n",
       "      <td>2018-10-10</td>\n",
       "      <td>90001</td>\n",
       "      <td>2006</td>\n",
       "      <td>Diesel and Diesel Hybrid</td>\n",
       "      <td>OTHER/UNK</td>\n",
       "      <td>0</td>\n",
       "      <td>23.0</td>\n",
       "      <td>2018</td>\n",
       "      <td>10</td>\n",
       "      <td>10</td>\n",
       "    </tr>\n",
       "  </tbody>\n",
       "</table>\n",
       "</div>"
      ],
      "text/plain": [
       "         date zipcode modelyear                      fuel       make  \\\n",
       "0  2018-10-01   90000      2006                  Gasoline  OTHER/UNK   \n",
       "1  2018-10-01   90002      2014                  Gasoline  OTHER/UNK   \n",
       "3  2018-10-01   90000      2017                  Gasoline  OTHER/UNK   \n",
       "16 2018-10-09   90001      2006  Diesel and Diesel Hybrid     Type_C   \n",
       "17 2018-10-10   90001      2006  Diesel and Diesel Hybrid  OTHER/UNK   \n",
       "\n",
       "    lightduty  vehicles  year  month  day  \n",
       "0           1       1.0  2018     10    1  \n",
       "1           1       1.0  2018     10    1  \n",
       "3           1       1.0  2018     10    1  \n",
       "16          0      16.0  2018     10    9  \n",
       "17          0      23.0  2018     10   10  "
      ]
     },
     "execution_count": 44,
     "metadata": {},
     "output_type": "execute_result"
    }
   ],
   "source": [
    "# Confirm that `lightduty` has been converted\n",
    "df.head()"
   ]
  },
  {
   "cell_type": "markdown",
   "id": "following-album",
   "metadata": {},
   "source": [
    "**One-hot encoding categorical feature columns**"
   ]
  },
  {
   "cell_type": "markdown",
   "id": "cooperative-throat",
   "metadata": {},
   "source": [
    "ML algorithms expect input vectors and not categorical features. Specifically, they cannot handle text or `str` values. Thus, it is often useful to transform categorical features into vectors."
   ]
  },
  {
   "cell_type": "markdown",
   "id": "built-genre",
   "metadata": {},
   "source": [
    "One transformation method is to create dummy variables for our categorical features. Dummy variables are a set of binary (`0` or `1`) variables that each represent a single class from a categorical feature. We simply encode the categorical variable as a one-hot vector, i.e. a vector where only one element is non-zero, or hot. With one-hot encoding, a categorical feature becomes an array whose size is the number of possible choices for that feature."
   ]
  },
  {
   "cell_type": "markdown",
   "id": "suited-plain",
   "metadata": {},
   "source": [
    "Pandas provides a function called `get_dummies` to convert a categorical variable dummy/indicator variables."
   ]
  },
  {
   "cell_type": "code",
   "execution_count": 45,
   "id": "sunrise-sheriff",
   "metadata": {},
   "outputs": [
    {
     "data": {
      "text/html": [
       "<div>\n",
       "<style scoped>\n",
       "    .dataframe tbody tr th:only-of-type {\n",
       "        vertical-align: middle;\n",
       "    }\n",
       "\n",
       "    .dataframe tbody tr th {\n",
       "        vertical-align: top;\n",
       "    }\n",
       "\n",
       "    .dataframe thead th {\n",
       "        text-align: right;\n",
       "    }\n",
       "</style>\n",
       "<table border=\"1\" class=\"dataframe\">\n",
       "  <thead>\n",
       "    <tr style=\"text-align: right;\">\n",
       "      <th></th>\n",
       "      <th>zipcode_90001</th>\n",
       "      <th>zipcode_90002</th>\n",
       "      <th>zipcode_90003</th>\n",
       "      <th>zipcode_9001</th>\n",
       "      <th>zipcode_na</th>\n",
       "      <th>modelyear_2007</th>\n",
       "      <th>modelyear_2008</th>\n",
       "      <th>modelyear_2009</th>\n",
       "      <th>modelyear_2010</th>\n",
       "      <th>modelyear_2011</th>\n",
       "      <th>...</th>\n",
       "      <th>make_Type_Q</th>\n",
       "      <th>make_Type_R</th>\n",
       "      <th>make_Type_S</th>\n",
       "      <th>make_Type_T</th>\n",
       "      <th>make_Type_U</th>\n",
       "      <th>make_Type_V</th>\n",
       "      <th>make_Type_W</th>\n",
       "      <th>make_Type_X</th>\n",
       "      <th>make_Type_Y</th>\n",
       "      <th>make_Type_Z</th>\n",
       "    </tr>\n",
       "  </thead>\n",
       "  <tbody>\n",
       "    <tr>\n",
       "      <th>0</th>\n",
       "      <td>0</td>\n",
       "      <td>0</td>\n",
       "      <td>0</td>\n",
       "      <td>0</td>\n",
       "      <td>0</td>\n",
       "      <td>0</td>\n",
       "      <td>0</td>\n",
       "      <td>0</td>\n",
       "      <td>0</td>\n",
       "      <td>0</td>\n",
       "      <td>...</td>\n",
       "      <td>0</td>\n",
       "      <td>0</td>\n",
       "      <td>0</td>\n",
       "      <td>0</td>\n",
       "      <td>0</td>\n",
       "      <td>0</td>\n",
       "      <td>0</td>\n",
       "      <td>0</td>\n",
       "      <td>0</td>\n",
       "      <td>0</td>\n",
       "    </tr>\n",
       "    <tr>\n",
       "      <th>1</th>\n",
       "      <td>0</td>\n",
       "      <td>1</td>\n",
       "      <td>0</td>\n",
       "      <td>0</td>\n",
       "      <td>0</td>\n",
       "      <td>0</td>\n",
       "      <td>0</td>\n",
       "      <td>0</td>\n",
       "      <td>0</td>\n",
       "      <td>0</td>\n",
       "      <td>...</td>\n",
       "      <td>0</td>\n",
       "      <td>0</td>\n",
       "      <td>0</td>\n",
       "      <td>0</td>\n",
       "      <td>0</td>\n",
       "      <td>0</td>\n",
       "      <td>0</td>\n",
       "      <td>0</td>\n",
       "      <td>0</td>\n",
       "      <td>0</td>\n",
       "    </tr>\n",
       "    <tr>\n",
       "      <th>3</th>\n",
       "      <td>0</td>\n",
       "      <td>0</td>\n",
       "      <td>0</td>\n",
       "      <td>0</td>\n",
       "      <td>0</td>\n",
       "      <td>0</td>\n",
       "      <td>0</td>\n",
       "      <td>0</td>\n",
       "      <td>0</td>\n",
       "      <td>0</td>\n",
       "      <td>...</td>\n",
       "      <td>0</td>\n",
       "      <td>0</td>\n",
       "      <td>0</td>\n",
       "      <td>0</td>\n",
       "      <td>0</td>\n",
       "      <td>0</td>\n",
       "      <td>0</td>\n",
       "      <td>0</td>\n",
       "      <td>0</td>\n",
       "      <td>0</td>\n",
       "    </tr>\n",
       "    <tr>\n",
       "      <th>16</th>\n",
       "      <td>1</td>\n",
       "      <td>0</td>\n",
       "      <td>0</td>\n",
       "      <td>0</td>\n",
       "      <td>0</td>\n",
       "      <td>0</td>\n",
       "      <td>0</td>\n",
       "      <td>0</td>\n",
       "      <td>0</td>\n",
       "      <td>0</td>\n",
       "      <td>...</td>\n",
       "      <td>0</td>\n",
       "      <td>0</td>\n",
       "      <td>0</td>\n",
       "      <td>0</td>\n",
       "      <td>0</td>\n",
       "      <td>0</td>\n",
       "      <td>0</td>\n",
       "      <td>0</td>\n",
       "      <td>0</td>\n",
       "      <td>0</td>\n",
       "    </tr>\n",
       "    <tr>\n",
       "      <th>17</th>\n",
       "      <td>1</td>\n",
       "      <td>0</td>\n",
       "      <td>0</td>\n",
       "      <td>0</td>\n",
       "      <td>0</td>\n",
       "      <td>0</td>\n",
       "      <td>0</td>\n",
       "      <td>0</td>\n",
       "      <td>0</td>\n",
       "      <td>0</td>\n",
       "      <td>...</td>\n",
       "      <td>0</td>\n",
       "      <td>0</td>\n",
       "      <td>0</td>\n",
       "      <td>0</td>\n",
       "      <td>0</td>\n",
       "      <td>0</td>\n",
       "      <td>0</td>\n",
       "      <td>0</td>\n",
       "      <td>0</td>\n",
       "      <td>0</td>\n",
       "    </tr>\n",
       "  </tbody>\n",
       "</table>\n",
       "<p>5 rows × 56 columns</p>\n",
       "</div>"
      ],
      "text/plain": [
       "    zipcode_90001  zipcode_90002  zipcode_90003  zipcode_9001  zipcode_na  \\\n",
       "0               0              0              0             0           0   \n",
       "1               0              1              0             0           0   \n",
       "3               0              0              0             0           0   \n",
       "16              1              0              0             0           0   \n",
       "17              1              0              0             0           0   \n",
       "\n",
       "    modelyear_2007  modelyear_2008  modelyear_2009  modelyear_2010  \\\n",
       "0                0               0               0               0   \n",
       "1                0               0               0               0   \n",
       "3                0               0               0               0   \n",
       "16               0               0               0               0   \n",
       "17               0               0               0               0   \n",
       "\n",
       "    modelyear_2011  ...  make_Type_Q  make_Type_R  make_Type_S  make_Type_T  \\\n",
       "0                0  ...            0            0            0            0   \n",
       "1                0  ...            0            0            0            0   \n",
       "3                0  ...            0            0            0            0   \n",
       "16               0  ...            0            0            0            0   \n",
       "17               0  ...            0            0            0            0   \n",
       "\n",
       "    make_Type_U  make_Type_V  make_Type_W  make_Type_X  make_Type_Y  \\\n",
       "0             0            0            0            0            0   \n",
       "1             0            0            0            0            0   \n",
       "3             0            0            0            0            0   \n",
       "16            0            0            0            0            0   \n",
       "17            0            0            0            0            0   \n",
       "\n",
       "    make_Type_Z  \n",
       "0             0  \n",
       "1             0  \n",
       "3             0  \n",
       "16            0  \n",
       "17            0  \n",
       "\n",
       "[5 rows x 56 columns]"
      ]
     },
     "execution_count": 45,
     "metadata": {},
     "output_type": "execute_result"
    }
   ],
   "source": [
    "# Making dummy variables for categorical data with more inputs\n",
    "data_dummy = pd.get_dummies(df[[\"zipcode\", \"modelyear\", \"fuel\", \"make\"]], drop_first=True)\n",
    "\n",
    "# Output the first five rows\n",
    "data_dummy.head()"
   ]
  },
  {
   "cell_type": "code",
   "execution_count": 46,
   "id": "failing-syndication",
   "metadata": {},
   "outputs": [
    {
     "data": {
      "text/html": [
       "<div>\n",
       "<style scoped>\n",
       "    .dataframe tbody tr th:only-of-type {\n",
       "        vertical-align: middle;\n",
       "    }\n",
       "\n",
       "    .dataframe tbody tr th {\n",
       "        vertical-align: top;\n",
       "    }\n",
       "\n",
       "    .dataframe thead th {\n",
       "        text-align: right;\n",
       "    }\n",
       "</style>\n",
       "<table border=\"1\" class=\"dataframe\">\n",
       "  <thead>\n",
       "    <tr style=\"text-align: right;\">\n",
       "      <th></th>\n",
       "      <th>date</th>\n",
       "      <th>zipcode</th>\n",
       "      <th>modelyear</th>\n",
       "      <th>fuel</th>\n",
       "      <th>make</th>\n",
       "      <th>lightduty</th>\n",
       "      <th>vehicles</th>\n",
       "      <th>year</th>\n",
       "      <th>month</th>\n",
       "      <th>day</th>\n",
       "      <th>...</th>\n",
       "      <th>make_Type_Q</th>\n",
       "      <th>make_Type_R</th>\n",
       "      <th>make_Type_S</th>\n",
       "      <th>make_Type_T</th>\n",
       "      <th>make_Type_U</th>\n",
       "      <th>make_Type_V</th>\n",
       "      <th>make_Type_W</th>\n",
       "      <th>make_Type_X</th>\n",
       "      <th>make_Type_Y</th>\n",
       "      <th>make_Type_Z</th>\n",
       "    </tr>\n",
       "  </thead>\n",
       "  <tbody>\n",
       "    <tr>\n",
       "      <th>0</th>\n",
       "      <td>2018-10-01</td>\n",
       "      <td>90000</td>\n",
       "      <td>2006</td>\n",
       "      <td>Gasoline</td>\n",
       "      <td>OTHER/UNK</td>\n",
       "      <td>1</td>\n",
       "      <td>1.0</td>\n",
       "      <td>2018</td>\n",
       "      <td>10</td>\n",
       "      <td>1</td>\n",
       "      <td>...</td>\n",
       "      <td>0</td>\n",
       "      <td>0</td>\n",
       "      <td>0</td>\n",
       "      <td>0</td>\n",
       "      <td>0</td>\n",
       "      <td>0</td>\n",
       "      <td>0</td>\n",
       "      <td>0</td>\n",
       "      <td>0</td>\n",
       "      <td>0</td>\n",
       "    </tr>\n",
       "    <tr>\n",
       "      <th>1</th>\n",
       "      <td>2018-10-01</td>\n",
       "      <td>90002</td>\n",
       "      <td>2014</td>\n",
       "      <td>Gasoline</td>\n",
       "      <td>OTHER/UNK</td>\n",
       "      <td>1</td>\n",
       "      <td>1.0</td>\n",
       "      <td>2018</td>\n",
       "      <td>10</td>\n",
       "      <td>1</td>\n",
       "      <td>...</td>\n",
       "      <td>0</td>\n",
       "      <td>0</td>\n",
       "      <td>0</td>\n",
       "      <td>0</td>\n",
       "      <td>0</td>\n",
       "      <td>0</td>\n",
       "      <td>0</td>\n",
       "      <td>0</td>\n",
       "      <td>0</td>\n",
       "      <td>0</td>\n",
       "    </tr>\n",
       "    <tr>\n",
       "      <th>3</th>\n",
       "      <td>2018-10-01</td>\n",
       "      <td>90000</td>\n",
       "      <td>2017</td>\n",
       "      <td>Gasoline</td>\n",
       "      <td>OTHER/UNK</td>\n",
       "      <td>1</td>\n",
       "      <td>1.0</td>\n",
       "      <td>2018</td>\n",
       "      <td>10</td>\n",
       "      <td>1</td>\n",
       "      <td>...</td>\n",
       "      <td>0</td>\n",
       "      <td>0</td>\n",
       "      <td>0</td>\n",
       "      <td>0</td>\n",
       "      <td>0</td>\n",
       "      <td>0</td>\n",
       "      <td>0</td>\n",
       "      <td>0</td>\n",
       "      <td>0</td>\n",
       "      <td>0</td>\n",
       "    </tr>\n",
       "    <tr>\n",
       "      <th>16</th>\n",
       "      <td>2018-10-09</td>\n",
       "      <td>90001</td>\n",
       "      <td>2006</td>\n",
       "      <td>Diesel and Diesel Hybrid</td>\n",
       "      <td>Type_C</td>\n",
       "      <td>0</td>\n",
       "      <td>16.0</td>\n",
       "      <td>2018</td>\n",
       "      <td>10</td>\n",
       "      <td>9</td>\n",
       "      <td>...</td>\n",
       "      <td>0</td>\n",
       "      <td>0</td>\n",
       "      <td>0</td>\n",
       "      <td>0</td>\n",
       "      <td>0</td>\n",
       "      <td>0</td>\n",
       "      <td>0</td>\n",
       "      <td>0</td>\n",
       "      <td>0</td>\n",
       "      <td>0</td>\n",
       "    </tr>\n",
       "    <tr>\n",
       "      <th>17</th>\n",
       "      <td>2018-10-10</td>\n",
       "      <td>90001</td>\n",
       "      <td>2006</td>\n",
       "      <td>Diesel and Diesel Hybrid</td>\n",
       "      <td>OTHER/UNK</td>\n",
       "      <td>0</td>\n",
       "      <td>23.0</td>\n",
       "      <td>2018</td>\n",
       "      <td>10</td>\n",
       "      <td>10</td>\n",
       "      <td>...</td>\n",
       "      <td>0</td>\n",
       "      <td>0</td>\n",
       "      <td>0</td>\n",
       "      <td>0</td>\n",
       "      <td>0</td>\n",
       "      <td>0</td>\n",
       "      <td>0</td>\n",
       "      <td>0</td>\n",
       "      <td>0</td>\n",
       "      <td>0</td>\n",
       "    </tr>\n",
       "  </tbody>\n",
       "</table>\n",
       "<p>5 rows × 66 columns</p>\n",
       "</div>"
      ],
      "text/plain": [
       "         date zipcode modelyear                      fuel       make  \\\n",
       "0  2018-10-01   90000      2006                  Gasoline  OTHER/UNK   \n",
       "1  2018-10-01   90002      2014                  Gasoline  OTHER/UNK   \n",
       "3  2018-10-01   90000      2017                  Gasoline  OTHER/UNK   \n",
       "16 2018-10-09   90001      2006  Diesel and Diesel Hybrid     Type_C   \n",
       "17 2018-10-10   90001      2006  Diesel and Diesel Hybrid  OTHER/UNK   \n",
       "\n",
       "    lightduty  vehicles  year  month  day  ...  make_Type_Q  make_Type_R  \\\n",
       "0           1       1.0  2018     10    1  ...            0            0   \n",
       "1           1       1.0  2018     10    1  ...            0            0   \n",
       "3           1       1.0  2018     10    1  ...            0            0   \n",
       "16          0      16.0  2018     10    9  ...            0            0   \n",
       "17          0      23.0  2018     10   10  ...            0            0   \n",
       "\n",
       "    make_Type_S  make_Type_T  make_Type_U  make_Type_V  make_Type_W  \\\n",
       "0             0            0            0            0            0   \n",
       "1             0            0            0            0            0   \n",
       "3             0            0            0            0            0   \n",
       "16            0            0            0            0            0   \n",
       "17            0            0            0            0            0   \n",
       "\n",
       "    make_Type_X  make_Type_Y  make_Type_Z  \n",
       "0             0            0            0  \n",
       "1             0            0            0  \n",
       "3             0            0            0  \n",
       "16            0            0            0  \n",
       "17            0            0            0  \n",
       "\n",
       "[5 rows x 66 columns]"
      ]
     },
     "execution_count": 46,
     "metadata": {},
     "output_type": "execute_result"
    }
   ],
   "source": [
    "# Merge (concatenate) original DataFrame with dummy DataFrame\n",
    "df = pd.concat([df, data_dummy], axis=1)\n",
    "df.head()"
   ]
  },
  {
   "cell_type": "code",
   "execution_count": 47,
   "id": "alpine-manufacturer",
   "metadata": {},
   "outputs": [],
   "source": [
    "# Dropping attributes for which we made dummy variables. Also drop the `Date` column\n",
    "df = df.drop([\"date\", \"zipcode\", \"modelyear\", \"fuel\", \"make\"], axis=1)"
   ]
  },
  {
   "cell_type": "code",
   "execution_count": 48,
   "id": "thirty-omega",
   "metadata": {},
   "outputs": [
    {
     "data": {
      "text/html": [
       "<div>\n",
       "<style scoped>\n",
       "    .dataframe tbody tr th:only-of-type {\n",
       "        vertical-align: middle;\n",
       "    }\n",
       "\n",
       "    .dataframe tbody tr th {\n",
       "        vertical-align: top;\n",
       "    }\n",
       "\n",
       "    .dataframe thead th {\n",
       "        text-align: right;\n",
       "    }\n",
       "</style>\n",
       "<table border=\"1\" class=\"dataframe\">\n",
       "  <thead>\n",
       "    <tr style=\"text-align: right;\">\n",
       "      <th></th>\n",
       "      <th>lightduty</th>\n",
       "      <th>vehicles</th>\n",
       "      <th>year</th>\n",
       "      <th>month</th>\n",
       "      <th>day</th>\n",
       "      <th>zipcode_90001</th>\n",
       "      <th>zipcode_90002</th>\n",
       "      <th>zipcode_90003</th>\n",
       "      <th>zipcode_9001</th>\n",
       "      <th>zipcode_na</th>\n",
       "      <th>...</th>\n",
       "      <th>make_Type_Q</th>\n",
       "      <th>make_Type_R</th>\n",
       "      <th>make_Type_S</th>\n",
       "      <th>make_Type_T</th>\n",
       "      <th>make_Type_U</th>\n",
       "      <th>make_Type_V</th>\n",
       "      <th>make_Type_W</th>\n",
       "      <th>make_Type_X</th>\n",
       "      <th>make_Type_Y</th>\n",
       "      <th>make_Type_Z</th>\n",
       "    </tr>\n",
       "  </thead>\n",
       "  <tbody>\n",
       "    <tr>\n",
       "      <th>0</th>\n",
       "      <td>1</td>\n",
       "      <td>1.0</td>\n",
       "      <td>2018</td>\n",
       "      <td>10</td>\n",
       "      <td>1</td>\n",
       "      <td>0</td>\n",
       "      <td>0</td>\n",
       "      <td>0</td>\n",
       "      <td>0</td>\n",
       "      <td>0</td>\n",
       "      <td>...</td>\n",
       "      <td>0</td>\n",
       "      <td>0</td>\n",
       "      <td>0</td>\n",
       "      <td>0</td>\n",
       "      <td>0</td>\n",
       "      <td>0</td>\n",
       "      <td>0</td>\n",
       "      <td>0</td>\n",
       "      <td>0</td>\n",
       "      <td>0</td>\n",
       "    </tr>\n",
       "    <tr>\n",
       "      <th>1</th>\n",
       "      <td>1</td>\n",
       "      <td>1.0</td>\n",
       "      <td>2018</td>\n",
       "      <td>10</td>\n",
       "      <td>1</td>\n",
       "      <td>0</td>\n",
       "      <td>1</td>\n",
       "      <td>0</td>\n",
       "      <td>0</td>\n",
       "      <td>0</td>\n",
       "      <td>...</td>\n",
       "      <td>0</td>\n",
       "      <td>0</td>\n",
       "      <td>0</td>\n",
       "      <td>0</td>\n",
       "      <td>0</td>\n",
       "      <td>0</td>\n",
       "      <td>0</td>\n",
       "      <td>0</td>\n",
       "      <td>0</td>\n",
       "      <td>0</td>\n",
       "    </tr>\n",
       "    <tr>\n",
       "      <th>3</th>\n",
       "      <td>1</td>\n",
       "      <td>1.0</td>\n",
       "      <td>2018</td>\n",
       "      <td>10</td>\n",
       "      <td>1</td>\n",
       "      <td>0</td>\n",
       "      <td>0</td>\n",
       "      <td>0</td>\n",
       "      <td>0</td>\n",
       "      <td>0</td>\n",
       "      <td>...</td>\n",
       "      <td>0</td>\n",
       "      <td>0</td>\n",
       "      <td>0</td>\n",
       "      <td>0</td>\n",
       "      <td>0</td>\n",
       "      <td>0</td>\n",
       "      <td>0</td>\n",
       "      <td>0</td>\n",
       "      <td>0</td>\n",
       "      <td>0</td>\n",
       "    </tr>\n",
       "    <tr>\n",
       "      <th>16</th>\n",
       "      <td>0</td>\n",
       "      <td>16.0</td>\n",
       "      <td>2018</td>\n",
       "      <td>10</td>\n",
       "      <td>9</td>\n",
       "      <td>1</td>\n",
       "      <td>0</td>\n",
       "      <td>0</td>\n",
       "      <td>0</td>\n",
       "      <td>0</td>\n",
       "      <td>...</td>\n",
       "      <td>0</td>\n",
       "      <td>0</td>\n",
       "      <td>0</td>\n",
       "      <td>0</td>\n",
       "      <td>0</td>\n",
       "      <td>0</td>\n",
       "      <td>0</td>\n",
       "      <td>0</td>\n",
       "      <td>0</td>\n",
       "      <td>0</td>\n",
       "    </tr>\n",
       "    <tr>\n",
       "      <th>17</th>\n",
       "      <td>0</td>\n",
       "      <td>23.0</td>\n",
       "      <td>2018</td>\n",
       "      <td>10</td>\n",
       "      <td>10</td>\n",
       "      <td>1</td>\n",
       "      <td>0</td>\n",
       "      <td>0</td>\n",
       "      <td>0</td>\n",
       "      <td>0</td>\n",
       "      <td>...</td>\n",
       "      <td>0</td>\n",
       "      <td>0</td>\n",
       "      <td>0</td>\n",
       "      <td>0</td>\n",
       "      <td>0</td>\n",
       "      <td>0</td>\n",
       "      <td>0</td>\n",
       "      <td>0</td>\n",
       "      <td>0</td>\n",
       "      <td>0</td>\n",
       "    </tr>\n",
       "  </tbody>\n",
       "</table>\n",
       "<p>5 rows × 61 columns</p>\n",
       "</div>"
      ],
      "text/plain": [
       "    lightduty  vehicles  year  month  day  zipcode_90001  zipcode_90002  \\\n",
       "0           1       1.0  2018     10    1              0              0   \n",
       "1           1       1.0  2018     10    1              0              1   \n",
       "3           1       1.0  2018     10    1              0              0   \n",
       "16          0      16.0  2018     10    9              1              0   \n",
       "17          0      23.0  2018     10   10              1              0   \n",
       "\n",
       "    zipcode_90003  zipcode_9001  zipcode_na  ...  make_Type_Q  make_Type_R  \\\n",
       "0               0             0           0  ...            0            0   \n",
       "1               0             0           0  ...            0            0   \n",
       "3               0             0           0  ...            0            0   \n",
       "16              0             0           0  ...            0            0   \n",
       "17              0             0           0  ...            0            0   \n",
       "\n",
       "    make_Type_S  make_Type_T  make_Type_U  make_Type_V  make_Type_W  \\\n",
       "0             0            0            0            0            0   \n",
       "1             0            0            0            0            0   \n",
       "3             0            0            0            0            0   \n",
       "16            0            0            0            0            0   \n",
       "17            0            0            0            0            0   \n",
       "\n",
       "    make_Type_X  make_Type_Y  make_Type_Z  \n",
       "0             0            0            0  \n",
       "1             0            0            0  \n",
       "3             0            0            0  \n",
       "16            0            0            0  \n",
       "17            0            0            0  \n",
       "\n",
       "[5 rows x 61 columns]"
      ]
     },
     "execution_count": 48,
     "metadata": {},
     "output_type": "execute_result"
    }
   ],
   "source": [
    "# Confirm that `zipcode`, `modelyear`, `fuel`, and `make` have been dropped\n",
    "df.head()"
   ]
  },
  {
   "cell_type": "markdown",
   "id": "broken-welsh",
   "metadata": {},
   "source": [
    "**Data quality issue #5**:"
   ]
  },
  {
   "cell_type": "markdown",
   "id": "daily-nigeria",
   "metadata": {},
   "source": [
    "***Temporal feature columns***"
   ]
  },
  {
   "cell_type": "markdown",
   "id": "correct-nerve",
   "metadata": {},
   "source": [
    "Our data set now contains year, month, and day feature columns. Let's convert the month and day feature columns to meaningful representations as a way to get us thinking about changing temporal features $-$ as they are sometimes overlooked."
   ]
  },
  {
   "cell_type": "code",
   "execution_count": 50,
   "id": "transparent-easter",
   "metadata": {},
   "outputs": [
    {
     "name": "stdout",
     "output_type": "stream",
     "text": [
      "Unique values of month: [10 11 12  1  2  3  4  5  6  7]\n",
      "Unique values of day: [ 1  9 10 11 12 13 14 15 16 17 18 19 20 21 22 23 24 25 26 27 28 29 30 31\n",
      "  2  3  4  5  6  7  8]\n",
      "Unique values of year: [2018 2019]\n"
     ]
    }
   ],
   "source": [
    "# Let's print the unique values for `month`, `day`, and `year` in our data set\n",
    "print(\"Unique values of month:\", df[\"month\"].unique())\n",
    "print(\"Unique values of day:\", df[\"day\"].unique())\n",
    "print(\"Unique values of year:\", df[\"year\"].unique())"
   ]
  },
  {
   "cell_type": "code",
   "execution_count": 51,
   "id": "african-difference",
   "metadata": {},
   "outputs": [],
   "source": [
    "# Here we map each temporal variable onto a circle such that the lowest value for that variable appears right next\n",
    "# to the largest value\n",
    "# We compute the x- and y- component of that point using the sin and cos trigonometric functions\n",
    "df[\"day_sin\"] = np.sin(df[\"day\"]*(2.*np.pi/31))\n",
    "df[\"day_cos\"] = np.cos(df[\"day\"]*(2.*np.pi/31))\n",
    "df[\"month_sin\"] = np.sin((df[\"month\"]-1)*(2.*np.pi/12))\n",
    "df[\"month_cos\"] = np.cos((df[\"month\"]-1)*(2.*np.pi/12))\n",
    "\n",
    "# Let's drop month, and day\n",
    "df = df.drop([\"month\", \"day\", \"year\"], axis=1)"
   ]
  },
  {
   "cell_type": "code",
   "execution_count": 52,
   "id": "ambient-scout",
   "metadata": {},
   "outputs": [
    {
     "data": {
      "text/html": [
       "<div>\n",
       "<style scoped>\n",
       "    .dataframe tbody tr th:only-of-type {\n",
       "        vertical-align: middle;\n",
       "    }\n",
       "\n",
       "    .dataframe tbody tr th {\n",
       "        vertical-align: top;\n",
       "    }\n",
       "\n",
       "    .dataframe thead th {\n",
       "        text-align: right;\n",
       "    }\n",
       "</style>\n",
       "<table border=\"1\" class=\"dataframe\">\n",
       "  <thead>\n",
       "    <tr style=\"text-align: right;\">\n",
       "      <th></th>\n",
       "      <th>lightduty</th>\n",
       "      <th>vehicles</th>\n",
       "      <th>zipcode_90001</th>\n",
       "      <th>zipcode_90002</th>\n",
       "      <th>zipcode_90003</th>\n",
       "      <th>zipcode_9001</th>\n",
       "      <th>zipcode_na</th>\n",
       "      <th>modelyear_2007</th>\n",
       "      <th>modelyear_2008</th>\n",
       "      <th>modelyear_2009</th>\n",
       "      <th>...</th>\n",
       "      <th>make_Type_U</th>\n",
       "      <th>make_Type_V</th>\n",
       "      <th>make_Type_W</th>\n",
       "      <th>make_Type_X</th>\n",
       "      <th>make_Type_Y</th>\n",
       "      <th>make_Type_Z</th>\n",
       "      <th>day_sin</th>\n",
       "      <th>day_cos</th>\n",
       "      <th>month_sin</th>\n",
       "      <th>month_cos</th>\n",
       "    </tr>\n",
       "  </thead>\n",
       "  <tbody>\n",
       "    <tr>\n",
       "      <th>995</th>\n",
       "      <td>1</td>\n",
       "      <td>4.0</td>\n",
       "      <td>0</td>\n",
       "      <td>0</td>\n",
       "      <td>1</td>\n",
       "      <td>0</td>\n",
       "      <td>0</td>\n",
       "      <td>0</td>\n",
       "      <td>0</td>\n",
       "      <td>0</td>\n",
       "      <td>...</td>\n",
       "      <td>0</td>\n",
       "      <td>0</td>\n",
       "      <td>0</td>\n",
       "      <td>0</td>\n",
       "      <td>0</td>\n",
       "      <td>0</td>\n",
       "      <td>0.998717</td>\n",
       "      <td>-0.050649</td>\n",
       "      <td>0.5</td>\n",
       "      <td>-0.866025</td>\n",
       "    </tr>\n",
       "    <tr>\n",
       "      <th>996</th>\n",
       "      <td>1</td>\n",
       "      <td>25.0</td>\n",
       "      <td>0</td>\n",
       "      <td>0</td>\n",
       "      <td>1</td>\n",
       "      <td>0</td>\n",
       "      <td>0</td>\n",
       "      <td>0</td>\n",
       "      <td>0</td>\n",
       "      <td>0</td>\n",
       "      <td>...</td>\n",
       "      <td>0</td>\n",
       "      <td>0</td>\n",
       "      <td>0</td>\n",
       "      <td>0</td>\n",
       "      <td>0</td>\n",
       "      <td>0</td>\n",
       "      <td>0.968077</td>\n",
       "      <td>-0.250653</td>\n",
       "      <td>0.5</td>\n",
       "      <td>-0.866025</td>\n",
       "    </tr>\n",
       "    <tr>\n",
       "      <th>997</th>\n",
       "      <td>1</td>\n",
       "      <td>1.0</td>\n",
       "      <td>0</td>\n",
       "      <td>0</td>\n",
       "      <td>1</td>\n",
       "      <td>0</td>\n",
       "      <td>0</td>\n",
       "      <td>0</td>\n",
       "      <td>0</td>\n",
       "      <td>0</td>\n",
       "      <td>...</td>\n",
       "      <td>0</td>\n",
       "      <td>0</td>\n",
       "      <td>0</td>\n",
       "      <td>0</td>\n",
       "      <td>0</td>\n",
       "      <td>0</td>\n",
       "      <td>0.897805</td>\n",
       "      <td>-0.440394</td>\n",
       "      <td>0.5</td>\n",
       "      <td>-0.866025</td>\n",
       "    </tr>\n",
       "    <tr>\n",
       "      <th>998</th>\n",
       "      <td>1</td>\n",
       "      <td>3.0</td>\n",
       "      <td>0</td>\n",
       "      <td>0</td>\n",
       "      <td>1</td>\n",
       "      <td>0</td>\n",
       "      <td>0</td>\n",
       "      <td>0</td>\n",
       "      <td>0</td>\n",
       "      <td>0</td>\n",
       "      <td>...</td>\n",
       "      <td>0</td>\n",
       "      <td>0</td>\n",
       "      <td>0</td>\n",
       "      <td>0</td>\n",
       "      <td>0</td>\n",
       "      <td>0</td>\n",
       "      <td>0.790776</td>\n",
       "      <td>-0.612106</td>\n",
       "      <td>0.5</td>\n",
       "      <td>-0.866025</td>\n",
       "    </tr>\n",
       "  </tbody>\n",
       "</table>\n",
       "<p>4 rows × 62 columns</p>\n",
       "</div>"
      ],
      "text/plain": [
       "     lightduty  vehicles  zipcode_90001  zipcode_90002  zipcode_90003  \\\n",
       "995          1       4.0              0              0              1   \n",
       "996          1      25.0              0              0              1   \n",
       "997          1       1.0              0              0              1   \n",
       "998          1       3.0              0              0              1   \n",
       "\n",
       "     zipcode_9001  zipcode_na  modelyear_2007  modelyear_2008  modelyear_2009  \\\n",
       "995             0           0               0               0               0   \n",
       "996             0           0               0               0               0   \n",
       "997             0           0               0               0               0   \n",
       "998             0           0               0               0               0   \n",
       "\n",
       "     ...  make_Type_U  make_Type_V  make_Type_W  make_Type_X  make_Type_Y  \\\n",
       "995  ...            0            0            0            0            0   \n",
       "996  ...            0            0            0            0            0   \n",
       "997  ...            0            0            0            0            0   \n",
       "998  ...            0            0            0            0            0   \n",
       "\n",
       "     make_Type_Z   day_sin   day_cos  month_sin  month_cos  \n",
       "995            0  0.998717 -0.050649        0.5  -0.866025  \n",
       "996            0  0.968077 -0.250653        0.5  -0.866025  \n",
       "997            0  0.897805 -0.440394        0.5  -0.866025  \n",
       "998            0  0.790776 -0.612106        0.5  -0.866025  \n",
       "\n",
       "[4 rows x 62 columns]"
      ]
     },
     "execution_count": 52,
     "metadata": {},
     "output_type": "execute_result"
    }
   ],
   "source": [
    "df.tail(4)"
   ]
  },
  {
   "cell_type": "markdown",
   "id": "arctic-liability",
   "metadata": {},
   "source": [
    "## Conclusion"
   ]
  },
  {
   "cell_type": "markdown",
   "id": "small-glory",
   "metadata": {},
   "source": [
    "This notebook introduced a few concepts to improve data quality. We resolved missing values, converted the `Date` feature column to a `datetime` format, renamed feature columns, removed a value from a feature column, created one-hot encoded features, and converted temporal features to meaningful representations. By the end of the lab, we gained an understanding as to why data should be *cleaned* and *pre-processed* before input into an ML model."
   ]
  }
 ],
 "metadata": {
  "kernelspec": {
   "display_name": "Python 3",
   "language": "python",
   "name": "python3"
  },
  "language_info": {
   "codemirror_mode": {
    "name": "ipython",
    "version": 3
   },
   "file_extension": ".py",
   "mimetype": "text/x-python",
   "name": "python",
   "nbconvert_exporter": "python",
   "pygments_lexer": "ipython3",
   "version": "3.8.5"
  }
 },
 "nbformat": 4,
 "nbformat_minor": 5
}
